{
 "cells": [
  {
   "cell_type": "markdown",
   "id": "870e89a6-d86f-41a9-882f-7945f5b8c403",
   "metadata": {},
   "source": [
    "# The contribution of small RNAs to the evolution of separate sexes and sex chromosomes in the plant _Silene latifolia_"
   ]
  },
  {
   "cell_type": "markdown",
   "id": "44ac18a2-4044-4ab2-a935-d876b2375967",
   "metadata": {},
   "source": [
    "#### Eddy Mendoza-Galindo, Aline Muyle, CEFE Montpellier\n",
    "This notebook contains all the necessary code for the paper published in the Journal of Evolutionary Biology\n",
    "\n",
    "Correspondence: aline.muyle[at]cefe.cnrs.fr\n",
    "\n",
    "Open for academic and research purposes only, 2025"
   ]
  },
  {
   "cell_type": "markdown",
   "id": "d2bd5d08-5cab-4bf8-a4a0-6a938e7191e8",
   "metadata": {
    "tags": []
   },
   "source": [
    "# <span style=\"color:#4dd98b\"> Alingment and quantification"
   ]
  },
  {
   "cell_type": "code",
   "execution_count": 5,
   "id": "d3b168fb-458d-40b7-868e-887760abe68a",
   "metadata": {
    "tags": []
   },
   "outputs": [
    {
     "name": "stdout",
     "output_type": "stream",
     "text": [
      "cd raw/sRNA_MGX/trimmed/\n",
      "for file in *.fastq\n",
      "do\n",
      "echo \"working with $file\"\n",
      "perl -e ' $count=0; $len=0; while(<>) { s/\\r?\\n//; s/\\t/ /g; if (s/^@//) { if ($. != 1) { print \"\\n\" } s/ |$/\\t/; $count++; $_ .= \"\\t\"; } else { s/ //g; $len += length($_) } print $_; } print \"\\n\"; ' $file | sed -E 's/^.+\\t(\\w+)\\+.*$/\\1/g' | perl -e ' $col=0; while (<>) { s/\\r?\\n//; @F = split /\\t/, $_; $len = length($F[$col]); print \"$_\\t$len\\n\" }; ' | awk '$2 ~ /(21|22|24)/ ' > ${file}_count.tsv\n",
      "done\n"
     ]
    }
   ],
   "source": [
    "! cat scripts/count.sh"
   ]
  },
  {
   "cell_type": "code",
   "execution_count": 6,
   "id": "0b315168-e755-4dfd-8fe4-73eac7ca5795",
   "metadata": {},
   "outputs": [
    {
     "name": "stdout",
     "output_type": "stream",
     "text": [
      "working with F1B_final_trimming.fastq\n",
      "working with F1L_final_trimming.fastq\n",
      "working with F2B_final_trimming.fastq\n",
      "working with F2L_final_trimming.fastq\n",
      "working with F3B_final_trimming.fastq\n",
      "working with F3L_final_trimming.fastq\n",
      "working with M1B_final_trimming.fastq\n",
      "working with M1L_final_trimming.fastq\n",
      "working with M2B_final_trimming.fastq\n",
      "working with M2L_final_trimming.fastq\n",
      "working with M4B_final_trimming.fastq\n",
      "working with M4L_final_trimming.fastq\n"
     ]
    }
   ],
   "source": [
    "! bash scripts/count.sh"
   ]
  },
  {
   "cell_type": "markdown",
   "id": "54d46e2c-2091-4d30-9fb6-cfa9ec88e493",
   "metadata": {
    "tags": []
   },
   "source": [
    "### <span style=\"color:#4dd98b\"> Alingment, females without Y"
   ]
  },
  {
   "cell_type": "code",
   "execution_count": 2,
   "id": "e1b75220-a597-4af3-ab49-162cd4979685",
   "metadata": {
    "tags": []
   },
   "outputs": [
    {
     "name": "stdout",
     "output_type": "stream",
     "text": [
      ">chr1\n",
      ">chr2\n",
      ">chr3\n",
      ">chr4\n",
      ">chr5\n",
      ">chr6\n",
      ">chr7\n",
      ">chr8\n",
      ">chr9\n",
      ">chr10\n",
      ">chr11\n",
      ">chr12\n"
     ]
    }
   ],
   "source": [
    "# Remove Y chromosome from genome and map Females\n",
    "! grep \">\" genome/genome3.fa | grep -v \"scaffold\" | sed 's/>//' > genome/no_y.list\n",
    "! seqtk subseq genome/genome3.fa genome/no_y.list > genome/no_y.fa\n",
    "! grep \">\" genome/no_y.fa"
   ]
  },
  {
   "cell_type": "raw",
   "id": "81665a40-041c-4e24-8481-0ef0848b5b70",
   "metadata": {},
   "source": [
    "# ran alingment inside for_paper/ and under the conda envirnonment of ShortStacks\n",
    "conda activate ShortStack4\n",
    "ShortStack --genomefile genome/no_y.fa --readfile ../raw/fastq/F* --threads 8 --align_only --outdir females_no_y"
   ]
  },
  {
   "cell_type": "raw",
   "id": "964ba432-1e9b-4b72-8298-a1c270849a62",
   "metadata": {},
   "source": [
    "# aling males\n",
    "ShortStack --genomefile genome/genome3.fa --readfile ../raw/fastq/M* --threads 8 --align_only --outdir males"
   ]
  },
  {
   "cell_type": "code",
   "execution_count": 8,
   "id": "f573f23f-27fa-4f8c-9c39-3416533b6bd2",
   "metadata": {},
   "outputs": [],
   "source": [
    "# create a list file of the bams\n",
    "! ls females_no_y/F*.bam > bam.list\n",
    "! ls males/M*.bam >> bam.list"
   ]
  },
  {
   "cell_type": "markdown",
   "id": "f7182a01-0a43-43fb-b373-bb5997fe204b",
   "metadata": {
    "tags": []
   },
   "source": [
    "### <span style=\"color:#4dd98b\">Merge females (without y) and males (with y) (Inside the conda ShortStack4 environment so it works)\n",
    "\n",
    "samtools merge -r -@ 12 -f -o merged.bam -b bam.list\n",
    "    \n",
    "#### <span style=\"color:#4dd98b\"> First, PTGS (21-22 nt), asking for _de novo_ and template-based miRNA annotation\n",
    "    \n",
    "ShortStack --genomefile genome/genome3.fa --bamfile merged.bam --threads 8 --outdir only_21-22_known_de_novo_f-y --dicermax 22 --mmap u --dn_mirna --knownRNAs ../raw/caryophyllaceae_mirnas.fa \n",
    "\n",
    "#### <span style=\"color:#4dd98b\"> Then, RDdM (24 nt), no miRNA identification\n",
    "    \n",
    "ShortStack --genomefile genome/genome3.fa --bamfile merged.bam --threads 8 --outdir only_24_f-y --dicermin 23 --mmap u "
   ]
  },
  {
   "cell_type": "markdown",
   "id": "c8294ff1-4830-4caf-b610-b9d9d927bc9a",
   "metadata": {
    "tags": []
   },
   "source": [
    "### <span style=\"color:#4dd98b\"> Depth Flowers"
   ]
  },
  {
   "cell_type": "code",
   "execution_count": 1,
   "id": "3e46919e-f30e-4146-a9d8-e035ef250aa1",
   "metadata": {
    "tags": []
   },
   "outputs": [],
   "source": [
    "# get bam for each lenght and individual\n",
    "! rm -r raw/bams_per_length/\n",
    "! mkdir raw/bams_per_length\n",
    "\n",
    "# first 21-22, females\n",
    "! samtools view  -h -e 'length(seq)==21 || length(seq)==22' -@ 12 -o raw/bams_per_length/F1B_ptgs.bam females_no_y/F1B_dicer.bam \n",
    "! samtools view  -h -e 'length(seq)==21 || length(seq)==22' -@ 12 -o raw/bams_per_length/F2B_ptgs.bam females_no_y/F2B_dicer.bam\n",
    "! samtools view  -h -e 'length(seq)==21 || length(seq)==22' -@ 12 -o raw/bams_per_length/F3B_ptgs.bam females_no_y/F3B_dicer.bam \n",
    "\n",
    "# then 24, females\n",
    "! samtools view  -h -e 'length(seq)==24' -@ 12 -o raw/bams_per_length/F1B_rddm.bam females_no_y/F1B_dicer.bam \n",
    "! samtools view  -h -e 'length(seq)==24' -@ 12 -o raw/bams_per_length/F2B_rddm.bam females_no_y/F2B_dicer.bam\n",
    "! samtools view  -h -e 'length(seq)==24' -@ 12 -o raw/bams_per_length/F3B_rddm.bam females_no_y/F3B_dicer.bam \n",
    "\n",
    "# first 21-22, males\n",
    "! samtools view  -h -e 'length(seq)==21 || length(seq)==22' -@ 12 -o raw/bams_per_length/M1B_ptgs.bam males/M1B_dicer.bam\n",
    "! samtools view  -h -e 'length(seq)==21 || length(seq)==22' -@ 12 -o raw/bams_per_length/M2B_ptgs.bam males/M2B_dicer.bam\n",
    "! samtools view  -h -e 'length(seq)==21 || length(seq)==22' -@ 12 -o raw/bams_per_length/M4B_ptgs.bam males/M4B_dicer.bam\n",
    "\n",
    "# then 24, males\n",
    "! samtools view  -h -e 'length(seq)==24' -@ 12 -o raw/bams_per_length/M1B_rddm.bam males/M1B_dicer.bam \n",
    "! samtools view  -h -e 'length(seq)==24' -@ 12 -o raw/bams_per_length/M2B_rddm.bam males/M2B_dicer.bam\n",
    "! samtools view  -h -e 'length(seq)==24' -@ 12 -o raw/bams_per_length/M4B_rddm.bam males/M4B_dicer.bam"
   ]
  },
  {
   "cell_type": "code",
   "execution_count": 2,
   "id": "611981ee-696b-4eae-8884-f0b6d9ef3019",
   "metadata": {
    "tags": []
   },
   "outputs": [],
   "source": [
    "# calculate depth for each individual, only for flower buds and convert it to bed in flowers\n",
    "# females\n",
    "! samtools depth -@ 12 raw/bams_per_length/F*B_ptgs.bam | awk '{print $1 \"\\t\" $2 \"\\t\" $2 \"\\t\" $3 \"\\t\" $4 \"\\t\" $5}' > raw/depth/females_flowers_ptgs.bed\n",
    "! samtools depth -@ 12 raw/bams_per_length/F*B_rddm.bam | awk '{print $1 \"\\t\" $2 \"\\t\" $2 \"\\t\" $3 \"\\t\" $4 \"\\t\" $5}' > raw/depth/females_flowers_rddm.bed\n",
    "# males\n",
    "! samtools depth -@ 12 raw/bams_per_length/M*B_ptgs.bam | awk '{print $1 \"\\t\" $2 \"\\t\" $2 \"\\t\" $3 \"\\t\" $4 \"\\t\" $5}' > raw/depth/males_flowers_ptgs.bed\n",
    "! samtools depth -@ 12 raw/bams_per_length/M*B_rddm.bam | awk '{print $1 \"\\t\" $2 \"\\t\" $2 \"\\t\" $3 \"\\t\" $4 \"\\t\" $5}' > raw/depth/males_flowers_rddm.bed"
   ]
  },
  {
   "cell_type": "code",
   "execution_count": 5,
   "id": "d2a42ae7-822a-4fb0-b087-ce0168ae4da2",
   "metadata": {
    "tags": []
   },
   "outputs": [
    {
     "name": "stdout",
     "output_type": "stream",
     "text": [
      "____________________ FEMALES FLOWERS_____________________\n",
      "27241167\n",
      "29660632\n",
      "25216360\n",
      "____________________ MALES FLOWERS_____________________\n",
      "13200497\n",
      "23914694\n",
      "23578008\n"
     ]
    }
   ],
   "source": [
    "# get the number of mapped reads for the normalization \n",
    "! echo \"____________________ FEMALES FLOWERS_____________________\"\n",
    "! samtools view -c -F 260 -@ 12 females_no_y/F1B_dicer.bam\n",
    "! samtools view -c -F 260 -@ 12 females_no_y/F2B_dicer.bam \n",
    "! samtools view -c -F 260 -@ 12 females_no_y/F3B_dicer.bam \n",
    "! echo \"____________________ MALES FLOWERS_____________________\"\n",
    "! samtools view -c -F 260 -@ 12 males/M1B_dicer.bam\n",
    "! samtools view -c -F 260 -@ 12 males/M2B_dicer.bam\n",
    "! samtools view -c -F 260 -@ 12 males/M4B_dicer.bam"
   ]
  },
  {
   "cell_type": "code",
   "execution_count": null,
   "id": "042077c2-2744-4068-aaa3-819af5ec1911",
   "metadata": {
    "tags": []
   },
   "outputs": [],
   "source": [
    "# Get depths for each gene\n",
    "# 21/22\n",
    "\n",
    "# Females\n",
    "! bedtools intersect -a raw/depth/females_flowers_ptgs.bed -b annotation/mrnas.bed -wb | cut -f 1-6,10 > raw/depth/flowers_females_gene_depth_ptgs.tsv\n",
    "# Males\n",
    "! bedtools intersect -a raw/depth/males_flowers_ptgs.bed -b annotation/mrnas.bed -wb | cut -f 1-6,10 > raw/depth/flowers_males_gene_depth_ptgs.tsv\n",
    "\n",
    "# 24\n",
    "\n",
    "# Add promoter\n",
    "! bedtools slop -i annotation/mrnas.bed -g chromSizes.txt -l 200 -r 0 -s > annotation/mrnas_plus_promoter.bed\n",
    "\n",
    "# Females\n",
    "! bedtools intersect -a raw/depth/females_flowers_rddm.bed -b annotation/mrnas_plus_promoter.bed -wb | cut -f 1-6,10 > raw/depth/flowers_females_gene_depth_rddm.tsv\n",
    "# Males\n",
    "! bedtools intersect -a raw/depth/males_flowers_rddm.bed -b annotation/mrnas_plus_promoter.bed -wb | cut -f 1-6,10 > raw/depth/flowers_males_gene_depth_rddm.tsv"
   ]
  },
  {
   "cell_type": "markdown",
   "id": "be10e26b-0fbd-4ba5-9785-c37df57733ce",
   "metadata": {
    "tags": []
   },
   "source": [
    "### <span style=\"color:#4dd98b\"> Depth Leaves"
   ]
  },
  {
   "cell_type": "code",
   "execution_count": 11,
   "id": "1e49d10a-b558-47a3-b8d8-d060d57cfe80",
   "metadata": {
    "tags": []
   },
   "outputs": [],
   "source": [
    "# first 21-22, females\n",
    "! samtools view  -h -e 'length(seq)==21 || length(seq)==22' -@ 12 -o raw/bams_per_length/F1L_ptgs.bam females_no_y/F1L_dicer.bam \n",
    "! samtools view  -h -e 'length(seq)==21 || length(seq)==22' -@ 12 -o raw/bams_per_length/F2L_ptgs.bam females_no_y/F2L_dicer.bam\n",
    "! samtools view  -h -e 'length(seq)==21 || length(seq)==22' -@ 12 -o raw/bams_per_length/F3L_ptgs.bam females_no_y/F3L_dicer.bam \n",
    "\n",
    "# then 24, females\n",
    "! samtools view  -h -e 'length(seq)==24' -@ 12 -o raw/bams_per_length/F1L_rddm.bam females_no_y/F1L_dicer.bam \n",
    "! samtools view  -h -e 'length(seq)==24' -@ 12 -o raw/bams_per_length/F2L_rddm.bam females_no_y/F2L_dicer.bam\n",
    "! samtools view  -h -e 'length(seq)==24' -@ 12 -o raw/bams_per_length/F3L_rddm.bam females_no_y/F3L_dicer.bam \n",
    "\n",
    "# first 21-22, males\n",
    "! samtools view  -h -e 'length(seq)==21 || length(seq)==22' -@ 12 -o raw/bams_per_length/M1L_ptgs.bam males/M1L_dicer.bam\n",
    "! samtools view  -h -e 'length(seq)==21 || length(seq)==22' -@ 12 -o raw/bams_per_length/M2L_ptgs.bam males/M2L_dicer.bam\n",
    "! samtools view  -h -e 'length(seq)==21 || length(seq)==22' -@ 12 -o raw/bams_per_length/M4L_ptgs.bam males/M4L_dicer.bam\n",
    "\n",
    "# then 24, males\n",
    "! samtools view  -h -e 'length(seq)==24' -@ 12 -o raw/bams_per_length/M1L_rddm.bam males/M1L_dicer.bam \n",
    "! samtools view  -h -e 'length(seq)==24' -@ 12 -o raw/bams_per_length/M2L_rddm.bam males/M2L_dicer.bam\n",
    "! samtools view  -h -e 'length(seq)==24' -@ 12 -o raw/bams_per_length/M4L_rddm.bam males/M4L_dicer.bam"
   ]
  },
  {
   "cell_type": "code",
   "execution_count": 12,
   "id": "995c9fe7-22aa-4df4-8482-9f12f4a409e5",
   "metadata": {
    "tags": []
   },
   "outputs": [],
   "source": [
    "# Calculate depth for leaves\n",
    "\n",
    "# females\n",
    "! samtools depth -@ 12 raw/bams_per_length/F*L_ptgs.bam | awk '{print $1 \"\\t\" $2 \"\\t\" $2 \"\\t\" $3 \"\\t\" $4 \"\\t\" $5}' > raw/depth/females_leaves_ptgs.bed\n",
    "! samtools depth -@ 12 raw/bams_per_length/F*L_rddm.bam | awk '{print $1 \"\\t\" $2 \"\\t\" $2 \"\\t\" $3 \"\\t\" $4 \"\\t\" $5}' > raw/depth/females_leaves_rddm.bed\n",
    "# males\n",
    "! samtools depth -@ 12 raw/bams_per_length/M*L_ptgs.bam | awk '{print $1 \"\\t\" $2 \"\\t\" $2 \"\\t\" $3 \"\\t\" $4 \"\\t\" $5}' > raw/depth/males_leaves_ptgs.bed\n",
    "! samtools depth -@ 12 raw/bams_per_length/M*L_rddm.bam | awk '{print $1 \"\\t\" $2 \"\\t\" $2 \"\\t\" $3 \"\\t\" $4 \"\\t\" $5}' > raw/depth/males_leaves_rddm.bed"
   ]
  },
  {
   "cell_type": "code",
   "execution_count": 5,
   "id": "8c1c5bba-ee4b-4547-9952-de56ac338697",
   "metadata": {
    "tags": []
   },
   "outputs": [
    {
     "name": "stdout",
     "output_type": "stream",
     "text": [
      "____________________ FEMALES LEAVES_____________________\n",
      "24695806\n",
      "31425418\n",
      "21443081\n",
      "____________________ MALES LEAVES_____________________\n",
      "20502566\n",
      "17763390\n",
      "26371650\n"
     ]
    }
   ],
   "source": [
    "# get the number of mapped reads for the normalization \n",
    "! echo \"____________________ FEMALES LEAVES_____________________\"\n",
    "! samtools view -c -F 260 -@ 12 females_no_y/F1L_dicer.bam\n",
    "! samtools view -c -F 260 -@ 12 females_no_y/F2L_dicer.bam \n",
    "! samtools view -c -F 260 -@ 12 females_no_y/F3L_dicer.bam \n",
    "! echo \"____________________ MALES LEAVES_____________________\"\n",
    "! samtools view -c -F 260 -@ 12 males/M1L_dicer.bam\n",
    "! samtools view -c -F 260 -@ 12 males/M2L_dicer.bam\n",
    "! samtools view -c -F 260 -@ 12 males/M4L_dicer.bam"
   ]
  },
  {
   "cell_type": "code",
   "execution_count": null,
   "id": "22152fef-0de5-45d3-bf8b-0943c2cddbb2",
   "metadata": {
    "tags": []
   },
   "outputs": [],
   "source": [
    "# Get depths for each gene\n",
    "# 21/22\n",
    "\n",
    "# Females\n",
    "! bedtools intersect -a raw/depth/females_leaves_ptgs.bed -b annotation/mrnas.bed -wb | cut -f 1-6,10 > raw/depth/leaves_females_gene_depth_ptgs.tsv\n",
    "# Males\n",
    "! bedtools intersect -a raw/depth/males_leaves_ptgs.bed -b annotation/mrnas.bed -wb | cut -f 1-6,10 > raw/depth/leaves_males_gene_depth_ptgs.tsv\n",
    "\n",
    "# 24 (including promoter)\n",
    "\n",
    "# Females\n",
    "! bedtools intersect -a raw/depth/females_leaves_rddm.bed -b annotation/mrnas_plus_promoter.bed -wb | cut -f 1-6,10 > raw/depth/leaves_females_gene_depth_rddm.tsv\n",
    "# Males\n",
    "! bedtools intersect -a raw/depth/males_leaves_rddm.bed -b annotation/mrnas_plus_promoter.bed -wb | cut -f 1-6,10 > raw/depth/leaves_males_gene_depth_rddm.tsv"
   ]
  },
  {
   "cell_type": "markdown",
   "id": "598ed9c1-8d56-4856-84e5-70a5543905ee",
   "metadata": {
    "tags": []
   },
   "source": [
    "### <span style=\"color:#4dd98b\"> For the Circos Plot"
   ]
  },
  {
   "cell_type": "code",
   "execution_count": null,
   "id": "0df1641e-5b2a-42cf-89cf-ce24d8eaeb86",
   "metadata": {},
   "outputs": [],
   "source": [
    "# due to an error, we need to update the alingment with a V4 genome\n",
    "# to download remotely\n",
    "\n",
    "# get new chromosome sizes\n",
    "samtools faidx genome/silati_v4.fa\n",
    "cat genome/silati_v4.fa.fai | cut -f 1-2 > v4_chromSizes.txt"
   ]
  },
  {
   "cell_type": "code",
   "execution_count": null,
   "id": "756db871-f370-4eb4-b533-165952fcbe94",
   "metadata": {},
   "outputs": [],
   "source": [
    "# download new repeat annotation\n",
    "gff2bed < annotation/v4_repeats.gff > annotation/v4_repeats.bed\n",
    "\n",
    "rm annotation/v4_repeats.gff"
   ]
  },
  {
   "cell_type": "code",
   "execution_count": null,
   "id": "eea08d04-3e54-46b5-bfd5-542fad1d0465",
   "metadata": {},
   "outputs": [],
   "source": [
    "# update bed file to v4 version\n",
    "\n",
    "CrossMap.py bed --chromid a annotation/anchor_v03_v04.chain annotation/mrnas.bed annotation/v4_mrnas.bed"
   ]
  },
  {
   "cell_type": "code",
   "execution_count": null,
   "id": "c6d21751-986e-4732-a58e-6999be5c3b11",
   "metadata": {},
   "outputs": [],
   "source": [
    "# update sRNA mapping BED files with the new genome using crossmap\n",
    "CrossMap.py bed --chromid a annotation/anchor_v03_v04.chain raw/depth/females_flowers_rddm.bed raw/depth/v4_females_flowers_rddm.bed\n",
    "\n",
    "CrossMap.py bed --chromid a annotation/anchor_v03_v04.chain raw/depth/males_flowers_rddm.bed raw/depth/v4_males_flowers_rddm.bed\n",
    "\n",
    "CrossMap.py bed --chromid a annotation/anchor_v03_v04.chain raw/depth/females_leaves_rddm.bed raw/depth/v4_females_leaves_rddm.bed\n",
    "\n",
    "CrossMap.py bed --chromid a annotation/anchor_v03_v04.chain raw/depth/males_leaves_rddm.bed raw/depth/v4_males_leaves_rddm.bed"
   ]
  },
  {
   "cell_type": "code",
   "execution_count": null,
   "id": "f7ca77fd-64d1-4320-b30d-a68707af5d29",
   "metadata": {},
   "outputs": [],
   "source": [
    "# somehow we need to rename the files cause chrY is now Y\n",
    "sed 's/Y/chrY/g' raw/depth/v4_females_flowers_rddm.bed > raw/depth/females_flowers_rddm.bed\n",
    "sed 's/Y/chrY/g' raw/depth/v4_males_flowers_rddm.bed > raw/depth/males_flowers_rddm.bed\n",
    "\n",
    "sed 's/Y/chrY/g' raw/depth/v4_females_leaves_rddm.bed > raw/depth/females_leaves_rddm.bed\n",
    "sed 's/Y/chrY/g' raw/depth/v4_males_leaves_rddm.bed > raw/depth/males_leaves_rddm.bed\n",
    "\n",
    "rm raw/depth/v4*"
   ]
  },
  {
   "cell_type": "code",
   "execution_count": null,
   "id": "a9d3a3a5-5324-4c90-9a88-38358ec76bc7",
   "metadata": {},
   "outputs": [],
   "source": [
    "# remotely\n",
    "bedtools makewindows -g v4_chromSizes.txt -w 1000000 > annotation/1mb_windows.bed\n",
    "\n",
    "# flowers depth\n",
    "bedtools intersect -b annotation/1mb_windows.bed -a raw/depth/females_flowers_rddm.bed -wb -wa | awk '{print $0 \"\\t\" $7 \"_\" $8 \"_\" $9}' > raw/depth/females_flowers_rddm.depth\n",
    "bedtools intersect -b annotation/1mb_windows.bed -a raw/depth/males_flowers_rddm.bed -wb -wa | awk '{print $0 \"\\t\" $7 \"_\" $8 \"_\" $9}' > raw/depth/males_flowers_rddm.depth\n",
    "\n",
    "# leaves depth\n",
    "bedtools intersect -b annotation/1mb_windows.bed -a raw/depth/females_leaves_rddm.bed -wb -wa | awk '{print $0 \"\\t\" $7 \"_\" $8 \"_\" $9}' > raw/depth/females_leaves_rddm.depth\n",
    "bedtools intersect -b annotation/1mb_windows.bed -a raw/depth/males_leaves_rddm.bed -wb -wa | awk '{print $0 \"\\t\" $7 \"_\" $8 \"_\" $9}' > raw/depth/males_leaves_rddm.depth"
   ]
  },
  {
   "cell_type": "code",
   "execution_count": null,
   "id": "8af25bab-0385-46fc-8a3e-29b0eb857726",
   "metadata": {},
   "outputs": [],
   "source": [
    "# Rscript for the table for the paper\n",
    "\n",
    "library(data.table)\n",
    "library(tidyverse)\n",
    "\n",
    "# function\n",
    "surco = function(toy, lib_size_1, lib_size_2, lib_size_3) {\n",
    "          # set column names\n",
    "          colnames(toy) = c(\"chr\", \"start\", \"end\", \"depth_1\", \"depth_2\", \"depth_3\", \"chr_w\", \"start_w\", \"end_w\", \"wind\")\n",
    "          # calculate mead depth per window, normalize by library size\n",
    "          toy[, mean_depth_1 := mean(depth_1)/lib_size_1, by=.(wind)]\n",
    "          toy[, mean_depth_2 := mean(depth_2)/lib_size_2, by=.(wind)]\n",
    "          toy[, mean_depth_3 := mean(depth_3)/lib_size_3, by=.(wind)]\n",
    "          # get one row per window\n",
    "          toy = unique(toy, by = \"wind\")[, .(chr_w, start_w, end_w, wind, mean_depth_1, mean_depth_2, mean_depth_3)]\n",
    "          # overall mean and multiply by 1m\n",
    "          toy[, mean_depth := (mean_depth_1 + mean_depth_2 + mean_depth_3)*(1000000/3), by=1:nrow(toy)]\n",
    "          toy[, log_depth := log(mean_depth), by=1:nrow(toy)]\n",
    "          # print bed file + mean depth per million\n",
    "          toy[, .(chr_w, start_w, end_w, mean_depth)]\n",
    "}\n",
    "\n",
    "### Flowers\n",
    "\n",
    "# Females\n",
    "flo_w_fe_d = fread(\"raw/depth/females_flowers_rddm.depth\")\n",
    "flo_w_fe_d = surco(flo_w_fe_d, 27241167, 29660632, 25216360)\n",
    "flo_w_fe_d = flo_w_fe_d %>% mutate(tissue = \"flowers\", sex = \"female\")\n",
    "\n",
    "# Males\n",
    "flo_w_ma_d = fread(\"raw/depth/males_flowers_rddm.depth\")\n",
    "flo_w_ma_d = surco(flo_w_ma_d, 13200497, 23914694, 23578008)\n",
    "flo_w_ma_d = flo_w_ma_d %>% mutate(tissue = \"flowers\", sex = \"male\")\n",
    "\n",
    "#### Leaves\n",
    "\n",
    "# Females\n",
    "le_w_fe_d = fread(\"raw/depth/females_leaves_rddm.depth\")\n",
    "le_w_fe_d = surco(le_w_fe_d, 24695806, 31425418, 21443081)\n",
    "le_w_fe_d = le_w_fe_d %>% mutate(tissue = \"leaves\", sex = \"female\")\n",
    "\n",
    "# Males\n",
    "le_w_ma_d = fread(\"raw/depth/males_leaves_rddm.depth\")\n",
    "le_w_ma_d = surco(le_w_ma_d, 20502566, 17763390, 26371650)\n",
    "le_w_ma_d = le_w_ma_d %>% mutate(tissue = \"leaves\", sex = \"male\")\n",
    "\n",
    "# concatenate and save\n",
    "\n",
    "wind_map = rbind(flo_w_fe_d, flo_w_ma_d, le_w_fe_d, le_w_ma_d)\n",
    "write.table(wind_map, file = \"results/1mb_windows_mapping.tsv\", quote = F, sep = \"\\t\", col.names = T, row.names = F)"
   ]
  },
  {
   "cell_type": "code",
   "execution_count": null,
   "id": "fc8d8f4d-6f5d-4f94-8f94-97a5a4a5d7d9",
   "metadata": {},
   "outputs": [],
   "source": [
    "# remove windows data bc it is too heavy\n",
    "rm raw/depth/*.depth"
   ]
  },
  {
   "cell_type": "markdown",
   "id": "3729be3c-da6e-4f24-ac07-1e95f747d68b",
   "metadata": {},
   "source": [
    "#### 1MB TPM for Circos"
   ]
  },
  {
   "cell_type": "code",
   "execution_count": null,
   "id": "b42b54f6-b0ac-4b4d-bcb9-150ca5eeb295",
   "metadata": {},
   "outputs": [],
   "source": [
    "# create the windows, avoid overlapping windows and add a window id\n",
    "! bedtools makewindows -g v4_chr_sizes.txt -s 1000000 -w 999999 -i srcwinnum > depth/v4_1mb_windows.bed \n",
    "\n",
    "# create the intersections\n",
    "#### 21-22 nt\n",
    "! bedtools intersect -nonamecheck -a females_flowers_ptgs.bed -b depth/v4_1mb_windows.bed -wb | cut -f 1-6,10 > depth/1mb_females_flowers_ptgs.tsv\n",
    "! bedtools intersect -nonamecheck -a males_flowers_ptgs.bed -b depth/v4_1mb_windows.bed -wb | cut -f 1-6,10 > depth/1mb_males_flowers_ptgs.tsv\n",
    "\n",
    "! bedtools intersect -nonamecheck -a females_leaves_ptgs.bed -b depth/v4_1mb_windows.bed -wb | cut -f 1-6,10 > depth/1mb_females_leaves_ptgs.tsv\n",
    "! bedtools intersect -nonamecheck -a males_leaves_ptgs.bed -b depth/v4_1mb_windows.bed -wb | cut -f 1-6,10 > depth/1mb_males_leaves_ptgs.tsv\n",
    "\n",
    "##### 24 nt\n",
    "! bedtools intersect -nonamecheck -a females_flowers_rddm.bed -b depth/v4_1mb_windows.bed -wb | cut -f 1-6,10 > depth/1mb_females_flowers_rddm.tsv\n",
    "! bedtools intersect -nonamecheck -a males_flowers_rddm.bed -b depth/v4_1mb_windows.bed -wb | cut -f 1-6,10 > depth/1mb_males_flowers_rddm.tsv\n",
    "\n",
    "! bedtools intersect -nonamecheck -a females_leaves_rddm.bed -b depth/v4_1mb_windows.bed -wb | cut -f 1-6,10 > depth/1mb_females_leaves_rddm.tsv\n",
    "! bedtools intersect -nonamecheck -a males_leaves_rddm.bed -b depth/v4_1mb_windows.bed -wb | cut -f 1-6,10 > depth/1mb_males_leaves_rddm.tsv"
   ]
  },
  {
   "cell_type": "markdown",
   "id": "51205d42-5dfa-49f5-992c-310b47ef9b21",
   "metadata": {},
   "source": [
    "## R Surco Script - one for TPM, one for raw counts"
   ]
  },
  {
   "cell_type": "markdown",
   "id": "20bebed8-231e-4a2d-b54d-59c2f98053c6",
   "metadata": {},
   "source": [
    "The same was done for the 1Mb windows"
   ]
  },
  {
   "cell_type": "code",
   "execution_count": null,
   "id": "db009d46-557d-41ea-a34e-4b98d15758f1",
   "metadata": {},
   "outputs": [],
   "source": [
    "#!/bin/bash\n",
    "# Name: lats\n",
    "# Author: Eddy Mendoza\n",
    "# Date: 29/01/23\n",
    "\n",
    "# === SLURM Config ===\n",
    "#SBATCH -J surco\n",
    "#SBATCH --get-user-env\n",
    "#SBATCH --partition=batch\n",
    "#SBATCH --time=08:00:00\n",
    "#SBATCH --nodes=1\n",
    "#SBATCH --ntasks-per-node=16\n",
    "#SBATCH --cpus-per-task=5\n",
    "#SBATCH --mem=16G\n",
    "#SBATCH -o scripts/exegfiles/surco.out\n",
    "#SBATCH -e scripts/exegfiles/surco.err\n",
    "\n",
    "# === SET UP ENVIRONMENT ===\n",
    "\n",
    "cd taller/lats/\n",
    "ml R\n",
    "\n",
    "# === WORK COMMANDS ===\n",
    "Rscript surco_genes.R"
   ]
  },
  {
   "cell_type": "code",
   "execution_count": null,
   "id": "9c1a5f03-270e-4781-a8c7-da3a400fb1e3",
   "metadata": {},
   "outputs": [],
   "source": [
    "#!/usr/bin/env Rscript\n",
    "\n",
    "library(data.table)\n",
    "library(tidyverse)\n",
    "library(reshape2)\n",
    "\n",
    "# function\n",
    "surco = function(toy, lib_size_1, lib_size_2, lib_size_3) {\n",
    "\n",
    "          # set column names\n",
    "          colnames(toy) = c(\"chr\", \"start\", \"end\", \"depth_1\", \"depth_2\", \"depth_3\", \"gene\")\n",
    "\n",
    "          # calculate mead depth per window, normalize by library size\n",
    "          toy[, indv_1 := mean(depth_1)*1000000000/lib_size_1, by=.(gene)]\n",
    "          toy[, indv_2 := mean(depth_2)*1000000000/lib_size_2, by=.(gene)]\n",
    "          toy[, indv_3 := mean(depth_3)*1000000000/lib_size_3, by=.(gene)]\n",
    "\n",
    "          # get one row per gene\n",
    "          toy = unique(toy, by = \"gene\")[, .(gene, indv_1, indv_2, indv_3)]\n",
    "\n",
    "          # print\n",
    "          toy\n",
    "}\n",
    "\n",
    "########################################## RDDM ################################################################################################################\n",
    "\n",
    "########## Flowers ##############\n",
    "\n",
    "# Females\n",
    "flo_w_fe_d = fread(\"depth/females_flowers_rddm.tsv\")\n",
    "flo_w_fe_d = surco(flo_w_fe_d, 27241167, 29660632, 25216360)\n",
    "flo_w_fe_d = flo_w_fe_d %>% melt(id.vars = \"gene\", variable.name=\"individual\", value.name = \"TPM\") %>% mutate(tissue = \"flowers\", sex = \"female\", path = \"rddm\")\n",
    "\n",
    "# Males\n",
    "flo_w_ma_d = fread(\"depth/males_flowers_rddm.tsv\")\n",
    "flo_w_ma_d = surco(flo_w_ma_d, 13200497, 23914694, 23578008)\n",
    "flo_w_ma_d = flo_w_ma_d %>% melt(id.vars = \"gene\", variable.name=\"individual\", value.name = \"TPM\") %>% mutate(tissue = \"flowers\", sex = \"male\", path = \"rddm\")\n",
    "\n",
    "########### Leaves ##############\n",
    "\n",
    "# Females\n",
    "le_w_fe_d = fread(\"depth/females_leaves_rddm.tsv\")\n",
    "le_w_fe_d = surco(le_w_fe_d, 24695806, 31425418, 21443081)\n",
    "le_w_fe_d = le_w_fe_d %>% melt(id.vars = \"gene\", variable.name=\"individual\", value.name = \"TPM\") %>% mutate(tissue = \"leaves\", sex = \"female\", path = \"rddm\")\n",
    "\n",
    "# Males\n",
    "le_w_ma_d = fread(\"depth/males_leaves_rddm.tsv\")\n",
    "le_w_ma_d = surco(le_w_ma_d, 20502566, 17763390, 26371650)\n",
    "le_w_ma_d = le_w_ma_d %>% melt(id.vars = \"gene\", variable.name=\"individual\", value.name = \"TPM\") %>% mutate(tissue = \"leaves\", sex = \"male\", path = \"rddm\")\n",
    "\n",
    "########################################## PTGS ################################################################################################################\n",
    "\n",
    "########## Flowers ##############\n",
    "\n",
    "# Females\n",
    "flo_w_fe_t = fread(\"depth/females_flowers_ptgs.tsv\")\n",
    "flo_w_fe_t = surco(flo_w_fe_t, 27241167, 29660632, 25216360)\n",
    "flo_w_fe_t = flo_w_fe_t %>% melt(id.vars = \"gene\", variable.name=\"individual\", value.name = \"TPM\") %>% mutate(tissue = \"flowers\", sex = \"female\", path = \"ptgs\")\n",
    "\n",
    "# Males\n",
    "flo_w_ma_t = fread(\"depth/males_flowers_ptgs.tsv\")\n",
    "flo_w_ma_t = surco(flo_w_ma_t, 13200497, 23914694, 23578008)\n",
    "flo_w_ma_t = flo_w_ma_t %>% melt(id.vars = \"gene\", variable.name=\"individual\", value.name = \"TPM\") %>% mutate(tissue = \"flowers\", sex = \"male\", path = \"ptgs\")\n",
    "\n",
    "########### Leaves ##############\n",
    "\n",
    "# Females\n",
    "le_w_fe_t = fread(\"depth/females_leaves_ptgs.tsv\")\n",
    "le_w_fe_t = surco(le_w_fe_t, 24695806, 31425418, 21443081)\n",
    "le_w_fe_t = le_w_fe_t %>% melt(id.vars = \"gene\", variable.name=\"individual\", value.name = \"TPM\") %>% mutate(tissue = \"leaves\", sex = \"female\", path = \"ptgs\")\n",
    "\n",
    "# Males\n",
    "le_w_ma_t = fread(\"depth/males_leaves_ptgs.tsv\")\n",
    "le_w_ma_t = surco(le_w_ma_t, 20502566, 17763390, 26371650)\n",
    "le_w_ma_t = le_w_ma_t %>% melt(id.vars = \"gene\", variable.name=\"individual\", value.name = \"TPM\") %>% mutate(tissue = \"leaves\", sex = \"male\", path = \"ptgs\")\n",
    "\n",
    "########################################## MERGE ################################################################################################################\n",
    "\n",
    "# concatenate and save\n",
    "\n",
    "gene_map = rbind(flo_w_fe_d, flo_w_ma_d, le_w_fe_d, le_w_ma_d, flo_w_fe_t, flo_w_ma_t, le_w_fe_t, le_w_ma_t)\n",
    "\n",
    "write.table(gene_map, file = \"depth/v4_tpm_gene_mapping_inds.tsv\", quote = F, sep = \"\\t\", col.names = T, row.names = F)"
   ]
  },
  {
   "cell_type": "code",
   "execution_count": null,
   "id": "671f4fda-674b-4b2d-8fab-68adc33f8655",
   "metadata": {},
   "outputs": [],
   "source": [
    "#!/usr/bin/env Rscript\n",
    "\n",
    "library(data.table)\n",
    "library(tidyverse)\n",
    "library(reshape2)\n",
    "\n",
    "# function\n",
    "surco = function(toy, lib_size_1, lib_size_2, lib_size_3) {\n",
    "\n",
    "          # set column names\n",
    "          colnames(toy) = c(\"chr\", \"start\", \"end\", \"depth_1\", \"depth_2\", \"depth_3\", \"gene\")\n",
    "\n",
    "          # calculate mead depth per window, normalize by library size\n",
    "          toy[, indv_1 := sum(depth_1), by=.(gene)]\n",
    "          toy[, indv_2 := sum(depth_2), by=.(gene)]\n",
    "          toy[, indv_3 := sum(depth_3), by=.(gene)]\n",
    "\n",
    "          # get one row per gene\n",
    "          toy = unique(toy, by = \"gene\")[, .(gene, indv_1, indv_2, indv_3)]\n",
    "\n",
    "          # print\n",
    "          toy\n",
    "}\n",
    "\n",
    "########################################## RDDM ################################################################################################################\n",
    "\n",
    "########## Flowers ##############\n",
    "\n",
    "# Females\n",
    "flo_w_fe_d = fread(\"depth/females_flowers_rddm.tsv\")\n",
    "flo_w_fe_d = surco(flo_w_fe_d, 27241167, 29660632, 25216360)\n",
    "flo_w_fe_d = flo_w_fe_d %>% melt(id.vars = \"gene\", variable.name=\"individual\", value.name = \"counts\") %>% mutate(tissue = \"flowers\", sex = \"female\", path = \"rddm\")\n",
    "\n",
    "# Males\n",
    "flo_w_ma_d = fread(\"depth/males_flowers_rddm.tsv\")\n",
    "flo_w_ma_d = surco(flo_w_ma_d, 13200497, 23914694, 23578008)\n",
    "flo_w_ma_d = flo_w_ma_d %>% melt(id.vars = \"gene\", variable.name=\"individual\", value.name = \"counts\") %>% mutate(tissue = \"flowers\", sex = \"male\", path = \"rddm\")\n",
    "\n",
    "########### Leaves ##############\n",
    "\n",
    "# Females\n",
    "le_w_fe_d = fread(\"depth/females_leaves_rddm.tsv\")\n",
    "le_w_fe_d = surco(le_w_fe_d, 24695806, 31425418, 21443081)\n",
    "le_w_fe_d = le_w_fe_d %>% melt(id.vars = \"gene\", variable.name=\"individual\", value.name = \"counts\") %>% mutate(tissue = \"leaves\", sex = \"female\", path = \"rddm\")\n",
    "\n",
    "# Males\n",
    "le_w_ma_d = fread(\"depth/males_leaves_rddm.tsv\")\n",
    "le_w_ma_d = surco(le_w_ma_d, 20502566, 17763390, 26371650)\n",
    "le_w_ma_d = le_w_ma_d %>% melt(id.vars = \"gene\", variable.name=\"individual\", value.name = \"counts\") %>% mutate(tissue = \"leaves\", sex = \"male\", path = \"rddm\")\n",
    "\n",
    "########################################## PTGS ################################################################################################################\n",
    "\n",
    "########## Flowers ##############\n",
    "\n",
    "# Females\n",
    "flo_w_fe_t = fread(\"depth/females_flowers_ptgs.tsv\")\n",
    "flo_w_fe_t = surco(flo_w_fe_t, 27241167, 29660632, 25216360)\n",
    "flo_w_fe_t = flo_w_fe_t %>% melt(id.vars = \"gene\", variable.name=\"individual\", value.name = \"counts\") %>% mutate(tissue = \"flowers\", sex = \"female\", path = \"ptgs\")\n",
    "\n",
    "# Males\n",
    "flo_w_ma_t = fread(\"depth/males_flowers_ptgs.tsv\")\n",
    "flo_w_ma_t = surco(flo_w_ma_t, 13200497, 23914694, 23578008)\n",
    "flo_w_ma_t = flo_w_ma_t %>% melt(id.vars = \"gene\", variable.name=\"individual\", value.name = \"counts\") %>% mutate(tissue = \"flowers\", sex = \"male\", path = \"ptgs\")\n",
    "\n",
    "########### Leaves ##############\n",
    "\n",
    "# Females\n",
    "le_w_fe_t = fread(\"depth/females_leaves_ptgs.tsv\")\n",
    "le_w_fe_t = surco(le_w_fe_t, 24695806, 31425418, 21443081)\n",
    "le_w_fe_t = le_w_fe_t %>% melt(id.vars = \"gene\", variable.name=\"individual\", value.name = \"counts\") %>% mutate(tissue = \"leaves\", sex = \"female\", path = \"ptgs\")\n",
    "\n",
    "# Males\n",
    "le_w_ma_t = fread(\"depth/males_leaves_ptgs.tsv\")\n",
    "le_w_ma_t = surco(le_w_ma_t, 20502566, 17763390, 26371650)\n",
    "le_w_ma_t = le_w_ma_t %>% melt(id.vars = \"gene\", variable.name=\"individual\", value.name = \"counts\") %>% mutate(tissue = \"leaves\", sex = \"male\", path = \"ptgs\")\n",
    "\n",
    "########################################## MERGE ################################################################################################################\n",
    "\n",
    "# concatenate and save\n",
    "\n",
    "gene_map = rbind(flo_w_fe_d, flo_w_ma_d, le_w_fe_d, le_w_ma_d, flo_w_fe_t, flo_w_ma_t, le_w_fe_t, le_w_ma_t)\n",
    "\n",
    "write.table(gene_map, file = \"depth/v4_raw_gene_mapping_inds.tsv\", quote = F, sep = \"\\t\", col.names = T, row.names = F)"
   ]
  },
  {
   "cell_type": "markdown",
   "id": "4f73a993-5b38-4242-91be-2ec6eb7f9537",
   "metadata": {
    "tags": []
   },
   "source": [
    "# <span style=\"color:#3de2d8\"> RNA-seq analysis"
   ]
  },
  {
   "cell_type": "code",
   "execution_count": null,
   "id": "8b60cc30-7007-413e-b788-bb4120410321",
   "metadata": {
    "tags": []
   },
   "outputs": [],
   "source": [
    "# get a bed file of the mRNAs (inside annotation/)\n",
    "grep \"mRNA\" *.gff3 | awk '{print $1 \"\\t\" $4 \"\\t\" $5 \"\\t\" $9 \"\\t\" $6 \"\\t\" $7}' | sed 's/ID=//g' | sed -E 's/;Parent.+=\\w+//g' > mrnas.bed\n",
    "\n",
    "# clean fasta\n",
    "cat S.latifolia_v3.0_genes.mRNA.fna | sed -E 's/ CDS.+//g' > mrnas.fa \n",
    "\n",
    "# check if they match\n",
    "grep -Fxv -f <(grep \">\" mrnas.fa | sed 's/>//g' ) <(cut -f 4 mrnas.bed) |  wc -l\n",
    "\n",
    "# 33084 female genes (without the Y scaffolds)\n",
    "# get those genes\n",
    "\n",
    "awk '$1 !~ /scaffold/' annotation/mrnas.bed > annotation/female_mrnas.bed\n",
    "\n",
    "# get the sequences only for those\n",
    "perl -e ' ($id,$fasta)=@ARGV; open(ID,$id); while (<ID>) { s/\\r?\\n//; /^>?(\\S+)/; $ids{$1}++; } $num_ids = keys %ids; open(F, $fasta); $s_read = $s_wrote = $print_it = 0; while (<F>) { if (/^>(\\S+)/) { $s_read++; if ($ids{$1}) { $s_wrote++; $print_it = 1; delete $ids{$1} } else { $print_it = 0 } }; if ($print_it) { print $_ } }; END { warn \"Searched $s_read FASTA records.\\nFound $s_wrote IDs out of $num_ids in the ID list.\\n\" } ' <(cut -f 4 annotation/female_mrnas.bed) annotation/mrnas.fa > annotation/female_mrnas.fa"
   ]
  },
  {
   "cell_type": "code",
   "execution_count": 5,
   "id": "f22447a7-9096-429e-b1ce-afb9f2e73aa3",
   "metadata": {
    "tags": []
   },
   "outputs": [
    {
     "name": "stdout",
     "output_type": "stream",
     "text": [
      "\n",
      "[build] loading fasta file annotation/mrnas.fa\n",
      "[build] k-mer length: 31\n",
      "[build] warning: clipped off poly-A tail (longer than 10)\n",
      "        from 27 target sequences\n",
      "[build] warning: replaced 50 non-ACGUT characters in the input sequence\n",
      "        with pseudorandom nucleotides\n",
      "[build] counting k-mers ... done.\n",
      "[build] building target de Bruijn graph ...  done \n",
      "[build] creating equivalence classes ...  done\n",
      "[build] target de Bruijn graph has 454447 contigs and contains 50244895 k-mers \n",
      "\n"
     ]
    }
   ],
   "source": [
    "# Build a Kallisto index\n",
    "! kallisto index -i annotation/mrnas.idx annotation/mrnas.fa\n",
    "\n",
    "# also for female genes\n",
    "! kallisto index -i annotation/female_mrnas.idx annotation/female_mrnas.fa\n",
    "\n",
    "# Four female plants (C1_26, C1_27, C1_29, C1_34) and four males (C1_01, C1_03, C1_04, C1_05)\n",
    "# do the quantification of the females without the Y genes"
   ]
  },
  {
   "cell_type": "code",
   "execution_count": null,
   "id": "0bce50af-0779-492c-a0c7-71834c0a9b15",
   "metadata": {
    "tags": []
   },
   "outputs": [],
   "source": [
    "# run kallisto\n",
    "! bash ../scripts/kallisto_paper.sh # this was modified so I could do it separatelly for females and males"
   ]
  },
  {
   "cell_type": "code",
   "execution_count": 3,
   "id": "5e54ee9f-5f12-4f97-a2b6-19a1f7ebca77",
   "metadata": {
    "tags": []
   },
   "outputs": [
    {
     "name": "stdout",
     "output_type": "stream",
     "text": [
      "C1_01_B RUNNING\n",
      "C1_01_B DONE\n",
      "_________\n",
      "C1_01_L RUNNING\n",
      "C1_01_L DONE\n",
      "_________\n",
      "C1_03_B RUNNING\n",
      "C1_03_B DONE\n",
      "_________\n",
      "C1_03_L RUNNING\n",
      "C1_03_L DONE\n",
      "_________\n",
      "C1_04_B_combined RUNNING\n",
      "C1_04_B_combined DONE\n",
      "_________\n",
      "C1_04_L RUNNING\n",
      "C1_04_L DONE\n",
      "_________\n",
      "C1_05_B_combined RUNNING\n",
      "C1_05_B_combined DONE\n",
      "_________\n",
      "C1_05_L RUNNING\n",
      "C1_05_L DONE\n",
      "_________\n",
      "C1_26_B RUNNING\n",
      "C1_26_B DONE\n",
      "_________\n",
      "C1_26_L RUNNING\n",
      "C1_26_L DONE\n",
      "_________\n",
      "C1_27_B RUNNING\n",
      "C1_27_B DONE\n",
      "_________\n",
      "C1_27_L RUNNING\n",
      "C1_27_L DONE\n",
      "_________\n",
      "C1_29_B_combined RUNNING\n",
      "C1_29_B_combined DONE\n",
      "_________\n",
      "C1_29_L RUNNING\n",
      "C1_29_L DONE\n",
      "_________\n",
      "C1_34_B_combined RUNNING\n",
      "C1_34_B_combined DONE\n",
      "_________\n",
      "C1_34_L RUNNING\n",
      "C1_34_L DONE\n",
      "_________\n"
     ]
    }
   ],
   "source": [
    "# Merge results\n",
    "! ls rna_seq/kallisto/ | head -n 16 > rna_seq/kallisto/samples.list\n",
    "\n",
    "# first I manually changed the dir names so it was less messy (move \"combined\" from the start to the end of the name)\n",
    "mv kallisto/combined_C1_04_B kallisto/C1_04_B_combined\n",
    "mv kallisto/combined_C1_05_B kallisto/C1_05_B_combined\n",
    "mv kallisto/combined_C1_29_B kallisto/C1_29_B_combined\n",
    "mv kallisto/combined_C1_34_B kallisto/C1_34_B_combined\n",
    "\n",
    "# merge results\n",
    "! bash ../scripts/merge_kallisto_raw_paper.sh "
   ]
  },
  {
   "cell_type": "markdown",
   "id": "6c91f717-bedc-4ea6-b769-848813e538f5",
   "metadata": {
    "tags": []
   },
   "source": [
    "# <span style=\"color:#3de2d8\"> PTGS"
   ]
  },
  {
   "cell_type": "code",
   "execution_count": 1,
   "id": "93c4b834-bdac-4f2f-aa4b-60181cb76598",
   "metadata": {},
   "outputs": [
    {
     "name": "stdout",
     "output_type": "stream",
     "text": [
      "_chr5_000339.1\tfemale-biased\tCluster_18098\tmale-biased\n",
      "____________________\n"
     ]
    }
   ],
   "source": [
    "! bedtools intersect  -nonamecheck -a tables/sex_biased_flowers_sbge.bed -b tables/sex_biased_flowers_ptgs.bed -wb | cut -f 4,8,13,18 | awk '$2 != $4'\n",
    "! echo \"____________________\"\n",
    "! bedtools intersect  -nonamecheck -a tables/sex_biased_leaves_sbge.bed -b tables/sex_biased_leaves_ptgs.bed -wb | cut -f 4,8,13,18 | awk '$2 != $4'"
   ]
  },
  {
   "cell_type": "markdown",
   "id": "393ce4c2-c5ce-4242-9fa2-a85bcf5949c6",
   "metadata": {},
   "source": [
    "Only one candidate was found in flowers"
   ]
  },
  {
   "cell_type": "code",
   "execution_count": 34,
   "id": "55459d4a-7a1e-4bd6-bca0-5d0f3b772c5c",
   "metadata": {
    "tags": []
   },
   "outputs": [
    {
     "name": "stdout",
     "output_type": "stream",
     "text": [
      "\n",
      "Converted 12 tab-delimited lines to FASTA format\n",
      "Total sequence length: 275\n",
      "\n"
     ]
    }
   ],
   "source": [
    "# Get fasta sequences from the overlapping clusters, done remotely\n",
    "\n",
    "awk 'FNR==NR{a[$0];next}{if (($2 in a)){print}}' <(cut -f 3 results/overlaps_flowers_ptgs.tsv | sort | uniq) only_21-22_known_de_novo_f-y/Results.txt | awk '{print $2 \"\\t\" \"21-22\" \"\\t\" $11}' > temp.tab\n",
    "\n",
    "perl -e ' $len=0; while(<>) { s/\\r?\\n//; @F=split /\\t/, $_; print \">$F[0]\"; if (length($F[1])) { print \" $F[1]\" } print \"\\n\"; $s=$F[2]; $len+= length($s); $s=~s/.{60}(?=.)/$&\\n/g; print \"$s\\n\"; } warn \"\\nConverted $. tab-delimited lines to FASTA format\\nTotal sequence length: $len\\n\\n\"; ' temp.tab > results/srnas_flowers.fa\n",
    "\n",
    "rm temp.tab"
   ]
  },
  {
   "cell_type": "code",
   "execution_count": 35,
   "id": "23cbf1b7-66a7-4c8c-a680-16c0a20e2062",
   "metadata": {
    "tags": []
   },
   "outputs": [
    {
     "name": "stdout",
     "output_type": "stream",
     "text": [
      "\n",
      "Converted 6 tab-delimited lines to FASTA format\n",
      "Total sequence length: 141\n",
      "\n"
     ]
    }
   ],
   "source": [
    "# Now for leaves\n",
    "\n",
    "awk 'FNR==NR{a[$0];next}{if (($2 in a)){print}}' <(cut -f 3 results/overlaps_leaves_ptgs.tsv | sort | uniq) only_21-22_known_de_novo_f-y/Results.txt | awk '{print $2 \"\\t\" \"21-22\" \"\\t\" $11}' > temp.tab\n",
    "perl -e ' $len=0; while(<>) { s/\\r?\\n//; @F=split /\\t/, $_; print \">$F[0]\"; if (length($F[1])) { print \" $F[1]\" } print \"\\n\"; $s=$F[2]; $len+= length($s); $s=~s/.{60}(?=.)/$&\\n/g; print \"$s\\n\"; } warn \"\\nConverted $. tab-delimited lines to FASTA format\\nTotal sequence length: $len\\n\\n\"; ' temp.tab > results/srnas_leaves.fa\n",
    "\n",
    "rm temp.tab"
   ]
  },
  {
   "cell_type": "raw",
   "id": "fb5a6a6c-1013-42a8-8959-8709ff7d93a2",
   "metadata": {},
   "source": [
    "To identify de novo repeats:\n",
    "\n",
    "Method used in Bachmann et al., 2021 (https://www.nature.com/articles/s41437-021-00434-9)\n",
    "\n",
    "First, we predicted inverted repeats in C. bursa-pastoris S-haplotypes using EMBOSS-einverted (Rice et al. 2000) with the following parameters: gap penalty = 8, match score = 4, mismatch score = 4, minimum score threshold = 50, maximum separation between start of repeat and end of inverted repeat = 350. We used an initial mapping of sRNA to screen for inverted repeats (Meyers et al. 2008; Durand et al. 2014), and checked the remaining inverted repeats for hairpin structure with rnafold (Lorenz et al. 2011) (Figs. S3 and S4) and kept hairpins with terminal loop smaller than 40 bp and a predicted hairpin structure >20 bp of high base-pairing probability with four or fewer mismatches and maximum two asymmetric bulges (Meyers et al. 2008; Durand et al. 2014)."
   ]
  },
  {
   "cell_type": "markdown",
   "id": "757f6f94-153f-4e9d-be54-69eb3e958cde",
   "metadata": {},
   "source": [
    "#### <span style=\"color:#3de2d8\">  Get inverted repeats from the genome (inside tes environment). Done remotely and using the v4 genome.\n",
    "\n",
    "einverted -sequence genome/silati_v4.fa -threshold 80 -gap 8 -match 4 -mismatch -6 -maxrepeat 100 -outseq annotation/inv_rep.fa -outfile annotation/inv_rep.san\n",
    "    \n",
    "    Parameters used: [default]\n",
    "    \n",
    "    -gap penalty of 8 [12]\n",
    "    -match score 4 [3]\n",
    "    -mismatch score -6 [-4]\n",
    "    -minimum score threshold 80 [50] (I guess it's calculated from the identity and the number of gaps -not documented)\n",
    "    -maximum lenght from start to finish 100 (assuming at ~40bp in the terminal loop)"
   ]
  },
  {
   "cell_type": "code",
   "execution_count": null,
   "id": "b53c25dc-fee7-44f7-b392-7b1ac1d888f1",
   "metadata": {},
   "outputs": [],
   "source": [
    "# get the number of Inverted repeats\n",
    "grep -c \"Score\" annotation/inv_rep.san\n",
    "\n",
    "186404"
   ]
  },
  {
   "cell_type": "code",
   "execution_count": null,
   "id": "1fac82fb-4a94-4d59-bedb-1b6ef0a1eb5a",
   "metadata": {},
   "outputs": [],
   "source": [
    "To create a bed file including the information about the repeat:\n",
    "    \n",
    "    - Chr\n",
    "    - Start\n",
    "    - End\n",
    "    - ID\n",
    "    - Score\n",
    "    - Strand\n",
    "    - Matching baisepairs\n",
    "    - Repeat length\n",
    "    - Mismatches\n",
    "    - Number of gaps\n",
    "    - Total mismatches (gaps + mismatches)"
   ]
  },
  {
   "cell_type": "code",
   "execution_count": null,
   "id": "f97df838-c65b-4503-9c22-e56663e3551f",
   "metadata": {},
   "outputs": [],
   "source": [
    "# inside annotation/\n",
    "\n",
    "paste \\\n",
    "<(grep \"Score\" inv_rep.san | sed -E 's/^(\\w+):.+/\\1/g' ) \\\n",
    "<(sed -n '/Score/ { n; p }' inv_rep.san | sed -E 's/\\s*(\\w+)\\s*.+/\\1/g' ) \\\n",
    "<(sed -n '/Score/ { n; n; n; p }' inv_rep.san | sed -E 's/\\s*(\\w+)\\s*.+/\\1/g' ) \\\n",
    "<(echo inverted_repeat_{1..186404} | sed -E 's/\\s/\\n/g' | awk '{print $0 \"\\t\" \"0\" \"\\t\" \"+\"}') \\\n",
    "<(grep \"Score\" inv_rep.san | sed -E 's/.+: (\\w+)\\/(\\w+).+, (\\w+) ga.+/\\1\\t\\2\\t\\3/g' | awk '{print $1 \"\\t\" $2 \"\\t\" $2-$1 \"\\t\" $3 \"\\t\" $2-$1+$3 }' ) \\\n",
    "  > inv_rep.bed"
   ]
  },
  {
   "cell_type": "code",
   "execution_count": null,
   "id": "a374066b-0eee-4987-8295-b0a0c628f5ff",
   "metadata": {
    "tags": []
   },
   "outputs": [],
   "source": [
    "# Get fasta files for inverted repeats\n",
    "! bedtools getfasta -nameOnly -fi genome/silati_v4.fa -bed annotation/inv_rep.bed -fo annotation/inv_rep_full.fa\n",
    "# make it a BLAST database\n",
    "! makeblastdb -in annotation/inv_rep_full.fa -dbtype nucl"
   ]
  },
  {
   "cell_type": "code",
   "execution_count": 108,
   "id": "c99565f9-a196-46a0-b377-dacba035a79d",
   "metadata": {
    "tags": []
   },
   "outputs": [],
   "source": [
    "# BLAST sRNAs against the inverted repeat library\n",
    "# alingment above 15 bp\n",
    "# reduced penalty for mismatches\n",
    "# reduced gap penalty\n",
    "\n",
    "# Flowers\n",
    "blastn -db annotation/inv_rep_full.fa -query results/srnas_flowers.fa -num_threads 12 -task blastn-short -word_size 15 -penalty -1 -gapopen 1 -outfmt 6 -out results/srnas_flowers.blast \n",
    "# Leaves\n",
    "blastn -db annotation/inv_rep_full.fa -query results/srnas_leaves.fa -num_threads 12 -task blastn-short -word_size 15 -penalty -1 -gapopen 1 -outfmt 6 -out results/srnas_leaves.blast"
   ]
  },
  {
   "cell_type": "markdown",
   "id": "bdda7da6-5112-49f7-bc1d-742e0d8a82b8",
   "metadata": {},
   "source": [
    "Only one inverted repeat matched with a cluster from flowers:\n",
    "\n",
    "Cluster_41166   inverted_repeat_108651  86.957  23\n",
    "\n",
    "Which is the same as: Cluster_41163_RdDM\n",
    "\n",
    "gene: _chr12_004651.1"
   ]
  },
  {
   "cell_type": "code",
   "execution_count": null,
   "id": "3d731d84-a8f5-466c-99cd-3bf273334542",
   "metadata": {},
   "outputs": [],
   "source": [
    "# get annotations from the precursor and the cluster:\n",
    "\n",
    "grep \"inverted_repeat_108651\" annotation/inv_rep.bed | cut -f 1-6 > results/precursor.bed\n",
    "\n",
    "# precursor in chr 9 while cluster in chr X"
   ]
  },
  {
   "cell_type": "code",
   "execution_count": null,
   "id": "89714846-0897-4727-9cd3-c0c7c198f124",
   "metadata": {},
   "outputs": [],
   "source": [
    "# to visualize the precursor:\n",
    "http://rna.tbi.univie.ac.at//cgi-bin/RNAWebSuite/RNAfold.cgi\n",
    "http://rna.tbi.univie.ac.at/forna/"
   ]
  },
  {
   "cell_type": "code",
   "execution_count": null,
   "id": "f2b75521-aa24-4a8f-878b-cbdff60bf25d",
   "metadata": {
    "tags": []
   },
   "outputs": [],
   "source": [
    "# check if the flowers' precursor is overlapping to a gene or a TE (done remotely)\n",
    "\n",
    "bedtools intersect -a results/precursor.bed -b annotation/v4_mrnas.bed -wb\n",
    "\n",
    "bedtools intersect -a results/precursor.bed -b annotation/v4_repeats.bed -wb\n",
    "\n",
    "# Result:\n",
    "chr9    108916489       108916681       .       1247EDTA     helitron        .       ID=TE_homo_1290913;Name=TE_00000471;Classification=DNA/Helitron;Sequence_ontology=SO:0000544;Identity=0.875;Method=homology\n",
    "\n",
    "It matches with an helitron, therefore a heterochromatin siRNA"
   ]
  },
  {
   "cell_type": "markdown",
   "id": "91a88a11-ce6f-4dfa-bc11-1deefcc4dc0d",
   "metadata": {
    "tags": []
   },
   "source": [
    "# <span style=\"color:#f0b27a\"> RdDM"
   ]
  },
  {
   "cell_type": "code",
   "execution_count": 2,
   "id": "19568547-31f6-4fb4-af32-561089044ec2",
   "metadata": {},
   "outputs": [
    {
     "name": "stdout",
     "output_type": "stream",
     "text": [
      "_chr1_000597.1\tmale-biased\tCluster_1004_RdDM\tfemale-biased\n",
      "_chr10_001223.1\tfemale-biased\tCluster_34088_RdDM\tmale-biased\n",
      "_chr12_004651.1\tmale-biased\tCluster_41163_RdDM\tfemale-biased\n",
      "_chr12_003427.1\tmale-biased\tCluster_42967_RdDM\tfemale-biased\n",
      "_chr3_000060.1\tmale-biased\tCluster_10450_RdDM\tfemale-biased\n",
      "_chr3_000162.1\tmale-biased\tCluster_10628_RdDM\tfemale-biased\n",
      "_chr5_000339.1\tfemale-biased\tCluster_18097_RdDM\tmale-biased\n",
      "_chr7_001948.1\tmale-biased\tCluster_25601_RdDM\tfemale-biased\n",
      "_chr3_003800.1\tmale-biased\tCluster_10450_RdDM\tfemale-biased\n",
      "##############################\n",
      "_chr9_001530.1\tfemale-biased\tCluster_31262_RdDM\tmale-biased\n"
     ]
    }
   ],
   "source": [
    "# flowers\n",
    "! bedtools window -a tables/sex_biased_flowers_sbge.bed -b tables/sex_biased_flowers_rddm.bed -l 2200 -r 2000 | cut -f 4,8,13,17 | awk '$2 != $4'\n",
    "! bedtools window -a tables/sex_biased_flowers_sbge.bed -b tables/sex_biased_flowers_rddm.bed -l 2200 -r 2000 | cut -f 4,8,13,17 | awk '$2 != $4' > tables/overlaps_flowers_rddm.tsv\n",
    "\n",
    "! echo \"##############################\"\n",
    "\n",
    "# leaves\n",
    "! bedtools window -a tables/sex_biased_leaves_sbge.bed -b tables/sex_biased_leaves_rddm.bed -l 2200 -r 2000 | cut -f 4,8,13,17 | awk '$2 != $4'\n",
    "! bedtools window -a tables/sex_biased_leaves_sbge.bed -b tables/sex_biased_leaves_rddm.bed -l 2200 -r 2000 | cut -f 4,8,13,17 | awk '$2 != $4' > tables/overlaps_leaves_rddm.tsv"
   ]
  },
  {
   "cell_type": "markdown",
   "id": "9bb81994-7318-4ad7-89e9-216bac0d4a32",
   "metadata": {},
   "source": [
    "## The coordinates of all the PTGS and RdDM clusters are the same!"
   ]
  },
  {
   "cell_type": "markdown",
   "id": "6fa0446a-b417-4bdc-a019-e62270eb9010",
   "metadata": {
    "tags": []
   },
   "source": [
    "# <span style=\"color:#18BBD2\"> Evaluation of the sRNA candidates"
   ]
  },
  {
   "cell_type": "code",
   "execution_count": null,
   "id": "934eb32e-5765-4f2d-88d6-543bb6ee3c5f",
   "metadata": {},
   "outputs": [],
   "source": [
    "# The resunting bed files from the DE were updated with the V4 genome coordinates:\n",
    "\n",
    "# Genes (remove last column or it doesn't work)\n",
    "CrossMap.py bed --chromid a annotation/anchor_v03_v04.chain <(cut -f 1-8 results/differential_expression/sex_biased_flowers_sbge.bed) results/differential_expression/v4_sex_biased_flowers_sbge.bed\n",
    "CrossMap.py bed --chromid a annotation/anchor_v03_v04.chain <(cut -f 1-8 results/differential_expression/sex_biased_leaves_sbge.bed) results/differential_expression/v4_sex_biased_leaves_sbge.bed\n",
    "\n",
    "# PTGS\n",
    "CrossMap.py bed --chromid a annotation/anchor_v03_v04.chain <(cut -f 1-9 results/differential_expression/sex_biased_flowers_ptgs.bed) results/differential_expression/v4_sex_biased_flowers_ptgs.bed\n",
    "CrossMap.py bed --chromid a annotation/anchor_v03_v04.chain <(cut -f 1-9 results/differential_expression/sex_biased_leaves_ptgs.bed) results/differential_expression/v4_sex_biased_leaves_ptgs.bed\n",
    "\n",
    "# RDDM (de una vez por si acaso)\n",
    "CrossMap.py bed --chromid a annotation/anchor_v03_v04.chain <(cut -f 1-8 results/differential_expression/sex_biased_flowers_rddm.bed) results/differential_expression/v4_sex_biased_flowers_rddm.bed\n",
    "CrossMap.py bed --chromid a annotation/anchor_v03_v04.chain <(cut -f 1-8 results/differential_expression/sex_biased_leaves_rddm.bed) results/differential_expression/v4_sex_biased_leaves_rddm.bed"
   ]
  },
  {
   "cell_type": "code",
   "execution_count": null,
   "id": "e09fe202-38e7-4568-8dc9-ab8d34deab98",
   "metadata": {},
   "outputs": [],
   "source": [
    "#I validated (in the remote PC) all 9 overlaps (+1 in leaves) using the new coordinates. Then, I only extracted the bed files for the overlaps. Please note that the number of DE elements changed.\n",
    "\n",
    "This because initially, I looked for the overlaps in my personal PC.\n",
    "\n",
    "    awk 'FNR==NR{a[$0];next}{if (($4 in a)){print}}' <(cut -f 1 results/overlaps_flowers_rddm.tsv) annotation/v4_mrnas.bed > results/candidates_flowers_genes.bed\n",
    "    \n",
    "    awk 'FNR==NR{a[$0];next}{if (($4 in a)){print}}' <(cut -f 1 results/overlaps_leaves_rddm.tsv) annotation/v4_mrnas.bed > results/candidates_leaves_genes.bed\n",
    "\n",
    "    awk 'FNR==NR{a[$0];next}{if (($4 in a)){print}}' <(cut -f 3 results/overlaps_flowers_rddm.tsv) results/differential_expression/v4_sex_biased_flowers_rddm.bed | cut -f 1-6 > results/candidates_flowers_clusters.bed\n",
    "    \n",
    "    awk 'FNR==NR{a[$0];next}{if (($4 in a)){print}}' <(cut -f 3 results/overlaps_leaves_rddm.tsv) results/differential_expression/v4_sex_biased_leaves_rddm.bed | cut -f 1-6 > results/candidates_leaves_clusters.bed"
   ]
  },
  {
   "cell_type": "code",
   "execution_count": null,
   "id": "7f605ca7-eb04-4906-a4f2-a4479ced9451",
   "metadata": {},
   "outputs": [],
   "source": [
    "# update 21-22 nt sRNA mapping BED files with the new genome using crossmap\n",
    "\n",
    "CrossMap.py bed --chromid a annotation/anchor_v03_v04.chain raw/depth/females_flowers_ptgs.bed raw/depth/v4_females_flowers_ptgs.bed\n",
    "sed 's/Y/chrY/g' raw/depth/v4_females_flowers_ptgs.bed > raw/depth/females_flowers_ptgs.bed\n",
    "\n",
    "CrossMap.py bed --chromid a annotation/anchor_v03_v04.chain raw/depth/males_flowers_ptgs.bed raw/depth/v4_males_flowers_ptgs.bed\n",
    "sed 's/Y/chrY/g' raw/depth/v4_males_flowers_ptgs.bed > raw/depth/males_flowers_ptgs.bed\n",
    "\n",
    "CrossMap.py bed --chromid a annotation/anchor_v03_v04.chain raw/depth/females_leaves_ptgs.bed raw/depth/v4_females_leaves_ptgs.bed\n",
    "sed 's/Y/chrY/g' raw/depth/v4_females_leaves_ptgs.bed > raw/depth/females_leaves_ptgs.bed\n",
    "\n",
    "CrossMap.py bed --chromid a annotation/anchor_v03_v04.chain raw/depth/males_leaves_ptgs.bed raw/depth/v4_males_leaves_ptgs.bed\n",
    "sed 's/Y/chrY/g' raw/depth/v4_males_leaves_ptgs.bed > raw/depth/males_leaves_ptgs.bed\n",
    "\n",
    "rm raw/depth/v4*\n",
    "\n",
    "---I did it for leaves but it is't necessary"
   ]
  },
  {
   "cell_type": "code",
   "execution_count": null,
   "id": "3ca8ca6b-95b8-47f5-95bc-b35c09390869",
   "metadata": {},
   "outputs": [],
   "source": [
    "# Get the RPM in the gene candidates, the promoter and +-2000bp\n",
    "# Since we don't have methylation data in flowers, we will only do this with the flower candidates\n",
    "mkdir candidates\n",
    "\n",
    "# make 20 windows for each gene, they will go from window 21 to 40\n",
    "bedtools makewindows -b results/candidates_flowers_genes.bed -n 20 -i src | awk 'BEGIN {OFS=\"\\t\"} {print $0, ((NR - 1) % 20 + 21)}' > candidates/gene_windows.bed\n",
    "\n",
    "# make windows for the surroundings\n",
    "# first upstream, the odd lines. Then make 20 windows, from 1 to 20\n",
    "bedtools flank -i results/candidates_flowers_genes.bed -g v4_chromSizes.txt -b 2000 | sed -n 'p;n' > candidates/upstream.bed\n",
    "bedtools makewindows -b candidates/upstream.bed -n 20 -i src | awk 'BEGIN {OFS=\"\\t\"} {print $0, (((NR - 1) % 20) + 1)}' > candidates/upstream_windows.bed\n",
    "\n",
    "# then downstream, the even lines. Then make 20 windows, from 41 to 60\n",
    "bedtools flank -i results/candidates_flowers_genes.bed -g v4_chromSizes.txt -b 2000 | sed -n 'n;p' > candidates/downstream.bed\n",
    "bedtools makewindows -b candidates/downstream.bed -n 20 -i src | awk 'BEGIN {OFS=\"\\t\"} {print $0, (((NR - 1) % 20) + 41)}' > candidates/downstream_windows.bed\n",
    "\n",
    "# merge and transform\n",
    "cat candidates/*windows.bed > candidates/full_windows.bed\n",
    "bedtools sort -i candidates/full_windows.bed > candidates/windows.bed\n"
   ]
  },
  {
   "cell_type": "code",
   "execution_count": null,
   "id": "deab3c71-67f1-4b13-ba11-30e2f8eacc2b",
   "metadata": {},
   "outputs": [],
   "source": [
    "Now get the mapping data, again only flowers because there is no methylation data for leaves\n",
    "\n",
    "######## 24 nt Mapping\n",
    "\n",
    "bedtools intersect -a raw/depth/females_flowers_rddm.bed -b candidates/windows.bed -wb | cut -f 1,3-6,10,11 | awk '{print $0 \"\\t\" \"Female\" \"\\t\" \"24\"}' > candidates/females_rddm.depth\n",
    "bedtools intersect -a raw/depth/males_flowers_rddm.bed -b candidates/windows.bed -wb | cut -f 1,3-6,10,11 | awk '{print $0 \"\\t\" \"Male\" \"\\t\" \"24\"}' > candidates/males_rddm.depth\n",
    "\n",
    "######## 21-22 nt Mapping\n",
    "\n",
    "bedtools intersect -a raw/depth/females_flowers_ptgs.bed -b candidates/windows.bed -wb | cut -f 1,3-6,10,11 | awk '{print $0 \"\\t\" \"Female\" \"\\t\" \"21-22\"}' > candidates/females_ptgs.depth\n",
    "bedtools intersect -a raw/depth/males_flowers_ptgs.bed -b candidates/windows.bed -wb | cut -f 1,3-6,10,11 | awk '{print $0 \"\\t\" \"Male\" \"\\t\" \"21-22\"}' > candidates/males_ptgs.depth\n",
    "\n",
    "# merge\n",
    "cat candidates/*.depth > candidates/candidates_mapping.tsv"
   ]
  },
  {
   "cell_type": "code",
   "execution_count": null,
   "id": "ed8e9112-3b05-451e-b1be-871ccb364fb4",
   "metadata": {},
   "outputs": [],
   "source": [
    "# get only the TEs near the gene candidates\n",
    "bedtools window -b annotation/v4_repeats.bed -a results/candidates_flowers_genes.bed -l 2200 -r 2000 | cut -f 4,7-9,12,16 | grep -v \"Simple\" | grep -v \"Low_complexity\" > results/candidates_flowers_tes.nbh"
   ]
  },
  {
   "cell_type": "code",
   "execution_count": null,
   "id": "b9ff6123-d125-4dd4-9383-9376264fed85",
   "metadata": {},
   "outputs": [],
   "source": [
    "# convert positions to window position, for genes, clusters and repeats\n",
    "# for genes I will do it manually in R, since they all go from window 21 to 40\n",
    "# include strand, for gggenes use TRUE or FALSE, where TRUE means forward, not directional will be drawn as forward\n",
    "\n",
    "bedtools intersect -a results/candidates_flowers_clusters.bed -b candidates/windows.bed -wb | cut -f 4,6,10-11 | awk '{print $0 \"\\t\" \"cluster\"}' > temp.tsv\n",
    "bedtools intersect -a <(cut -f 2-6 results/candidates_flowers_tes.nbh) -b candidates/windows.bed -wb | cut -f 4,5,9-10 | awk '{print $2 \"\\t\" $1 \"\\t\" $3 \"\\t\" $4 \"\\t\" \"TE\" }' >> temp.tsv\n",
    "sed 's/+/TRUE/g' temp.tsv | sed 's/-/FALSE/g' | sed -e 's/\\t\\.\\t/\\tTRUE\\t/g' > candidates/neighbors_window.tsv\n",
    "rm temp.tsv"
   ]
  },
  {
   "cell_type": "code",
   "execution_count": null,
   "id": "7a7d2918-6f4a-41ce-8450-2a833021b243",
   "metadata": {},
   "outputs": [],
   "source": [
    "# get the fasta sequences of the candidates\n",
    "perl -e ' ($id,$fasta)=@ARGV; open(ID,$id); while (<ID>) { s/\\r?\\n//; /^>?(\\S+)/; $ids{$1}++; } $num_ids = keys %ids; open(F, $fasta); $s_read = $s_wrote = $print_it = 0; while (<F>) { if (/^>(\\S+)/) { $s_read++; if ($ids{$1}) { $s_wrote++; $print_it = 1; delete $ids{$1} } else { $print_it = 0 } }; if ($print_it) { print $_ } }; END { warn \"Searched $s_read FASTA records.\\nFound $s_wrote IDs out of $num_ids in the ID list.\\n\" } ' <(cut -f 4 results/candidates_flowers_genes.bed) annotation/mrnas.fa > candidates/candidates.fa\n",
    "# also the candidate from leaves\n",
    "perl -e ' ($id,$fasta)=@ARGV; open(ID,$id); while (<ID>) { s/\\r?\\n//; /^>?(\\S+)/; $ids{$1}++; } $num_ids = keys %ids; open(F, $fasta); $s_read = $s_wrote = $print_it = 0; while (<F>) { if (/^>(\\S+)/) { $s_read++; if ($ids{$1}) { $s_wrote++; $print_it = 1; delete $ids{$1} } else { $print_it = 0 } }; if ($print_it) { print $_ } }; END { warn \"Searched $s_read FASTA records.\\nFound $s_wrote IDs out of $num_ids in the ID list.\\n\" } ' <(cut -f 4 results/candidates_leaves_genes.bed) annotation/mrnas.fa >> candidates/candidates.fa"
   ]
  },
  {
   "cell_type": "code",
   "execution_count": null,
   "id": "de8c7007-00f7-4a8f-a8d5-97acef2cd92c",
   "metadata": {},
   "outputs": [],
   "source": [
    "# then I copied the files to my local computer"
   ]
  },
  {
   "cell_type": "markdown",
   "id": "82c3e098-b89e-41ee-8051-84296b5881b9",
   "metadata": {},
   "source": [
    "No overlaps were found!"
   ]
  },
  {
   "cell_type": "markdown",
   "id": "408cc2e8-fc01-422b-94c6-9023d208c36b",
   "metadata": {
    "tags": []
   },
   "source": [
    "### Transcription Factor Annotation"
   ]
  },
  {
   "cell_type": "code",
   "execution_count": null,
   "id": "7be020d4-7502-44ab-8199-0e5db7a67db3",
   "metadata": {},
   "outputs": [],
   "source": [
    "# update V3 to V4, rename the chrs cause chrY is now Y\n",
    "\n",
    "for i in *.bed\n",
    "\n",
    "do\n",
    "name=$(basename ${i} .bed)\n",
    "\n",
    "echo \"working with ${name} \"\n",
    "CrossMap bed --chromid a v3_to_v4.chain ${i} v4_bad_${name}.bed\n",
    "sed 's/Y/chrY/g' v4_bad_${name}.bed > v4_${name}.bed\n",
    "rm v4_bad_${name}.bed \n",
    "done\n"
   ]
  },
  {
   "cell_type": "code",
   "execution_count": 6,
   "id": "57bccb5b-c57b-4c8a-9fbc-505d18d89f39",
   "metadata": {},
   "outputs": [
    {
     "name": "stdout",
     "output_type": "stream",
     "text": [
      "\n",
      "\n",
      "Building a new DB, current time: 05/06/2024 16:17:45\n",
      "New DB name:   /mnt/c/Users/eddyj/OneDrive/Escritorio/MEME/montpellier/internship/linux/Dcr_pep.fas\n",
      "New DB title:  Dcr_pep.fas\n",
      "Sequence type: Protein\n",
      "Deleted existing Protein BLAST database named /mnt/c/Users/eddyj/OneDrive/Escritorio/MEME/montpellier/internship/linux/Dcr_pep.fas\n",
      "Keep MBits: T\n",
      "Maximum file size: 1000000000B\n",
      "Adding sequences from FASTA; added 1318 sequences in 0.525146 seconds.\n"
     ]
    }
   ],
   "source": [
    "# to get Silat TFs from the Plant TFDB, Dianthus caryophyllus\n",
    "\n",
    "# make the BLAST db\n",
    "! makeblastdb -in Dcr_pep.fas -dbtype prot \n",
    "# 1318 TF\n",
    "\n",
    "# BLAST\n",
    "! blastx -db Dcr_pep.fas -query mrnas_v3.fa -num_threads 12 -outfmt 6 -out tables/tfs.blast"
   ]
  },
  {
   "cell_type": "markdown",
   "id": "b55da14a-57c0-47de-a522-95de9fb190fc",
   "metadata": {
    "tags": []
   },
   "source": [
    "# <span style=\"color:#BE18D2\"> Chi Square tests"
   ]
  },
  {
   "cell_type": "markdown",
   "id": "3909186d-313d-45f1-a584-a56546caf919",
   "metadata": {},
   "source": [
    "Done in my personal laptop"
   ]
  },
  {
   "cell_type": "code",
   "execution_count": 4,
   "id": "e1db3076-1511-4b34-b754-cca4cfc5785c",
   "metadata": {
    "tags": []
   },
   "outputs": [],
   "source": [
    "# for ptgs, clean bed\n",
    "! cut -f 1-4 v4_mrnas.bed > tables/v4_genes.bed\n",
    "\n",
    "# Add -+ 2000bp to genes\n",
    "! bedtools slop -i tables/v4_genes.bed -g v4_chr_sizes.tsv -b 2000 -s > tables/v4_long_genes.bed"
   ]
  },
  {
   "cell_type": "code",
   "execution_count": 5,
   "id": "e9766e33-f3d1-47e2-b142-9ce81251e91b",
   "metadata": {},
   "outputs": [],
   "source": [
    "# expand sex-biased gene bed files\n",
    "! bedtools slop -i tables/v4_sex_biased_flowers_sbge.bed -g v4_chr_sizes.tsv -b 2000 -s > tables/v4_long_flowers_sbge.bed\n",
    "! bedtools slop -i tables/v4_sex_biased_leaves_sbge.bed -g v4_chr_sizes.tsv -b 2000 -s > tables/v4_long_leaves_sbge.bed"
   ]
  },
  {
   "cell_type": "code",
   "execution_count": 6,
   "id": "50679bb9-010c-47b3-bc5c-95bc10f4f13b",
   "metadata": {},
   "outputs": [],
   "source": [
    "# make bed file for the clusters\n",
    "! tail -n +2 tables/21-22_Results.txt | awk '{print $3 \"\\t\" $4 \"\\t\" $5 \"\\t\" $2 }' > tables/ptgs_clusters.bed\n",
    "! tail -n +2 tables/24_Results.txt | awk '{print $3 \"\\t\" $4 \"\\t\" $5 \"\\t\" $2 \"_RdDM\" }' > tables/rddm_clusters.bed"
   ]
  },
  {
   "cell_type": "code",
   "execution_count": null,
   "id": "13862501-804e-44c5-a914-26d9e9d87a5f",
   "metadata": {},
   "outputs": [],
   "source": [
    "# update coordinates to v4 genome (i did this in Sol bc I couldn't install Crossmap in my laptop)\n",
    "CrossMap.py bed --chromid a v3_to_v4.chain.gz ptgs_clusters.bed v4_ptgs_clusters.bed\n",
    "CrossMap.py bed --chromid a v3_to_v4.chain.gz rddm_clusters.bed v4_rddm_clusters.bed\n",
    "\n",
    "sed 's/Y/chrY/g' v4_ptgs_clusters.bed > clean_v4_ptgs_clusters.bed\n",
    "sed 's/Y/chrY/g' v4_rddm_clusters.bed > clean_v4_rddm_clusters.bed\n",
    "\n",
    "# the files are inside tables/"
   ]
  },
  {
   "cell_type": "code",
   "execution_count": 1,
   "id": "00486c6f-9663-46d7-8cf3-7e3d2d8383e3",
   "metadata": {},
   "outputs": [
    {
     "name": "stdout",
     "output_type": "stream",
     "text": [
      "mkdir: cannot create directory ‘chisq’: File exists\n",
      "Female-biased Genes with overlapping Female-biased sRNAS\n",
      "2\n",
      "Male-biased Genes with overlapping Female-biased sRNAS\n",
      "0\n",
      "Female-biased Genes with overlapping Male-biased sRNAS\n",
      "1\n",
      "Male-biased Genes with overlapping Male-biased sRNAS\n",
      "46\n",
      "______________________________________\n",
      "UN-biased Genes with overlapping Female-biased sRNAS\n",
      "33\n",
      "UN-biased Genes with overlapping Male-biased sRNAS\n",
      "38\n",
      "______________________________________\n",
      "Female-biased Genes with overlapping UN-biased sRNAS\n",
      "360\n",
      "Male-biased Genes with overlapping UN-biased sRNAS\n",
      "775\n",
      "______________________________________\n",
      "UN-biased Genes with overlapping UN-biased sRNAS\n",
      "6720\n",
      "Female-biased Genes WITHOUT overlapping sRNAS\n",
      "896\n",
      "Male-biased Genes WITHOUT overlapping sRNAS\n",
      "2752\n",
      "UN-biased Genes WITHOUT overlapping sRNAS\n",
      "23882\n"
     ]
    }
   ],
   "source": [
    "# I made a script to avoid writting code many times, it needs the following arguments:\n",
    "# 1 - full gene bed file (only 4 columns) (extended for RdDM)\n",
    "# 2 - full cluster bed file (only 4 columns)\n",
    "# 3 - sexb genes bed file\n",
    "# 4 - sexb clusters bed file\n",
    "\n",
    "# ptgs flowers\n",
    "! bash chisq.sh tables/v4_genes.bed tables/clean_v4_ptgs_clusters.bed tables/v4_sex_biased_flowers_sbge.bed tables/v4_sex_biased_flowers_ptgs.bed"
   ]
  },
  {
   "cell_type": "code",
   "execution_count": 2,
   "id": "b5098cc2-8a91-4f49-85fb-11949eeebe6d",
   "metadata": {},
   "outputs": [
    {
     "name": "stdout",
     "output_type": "stream",
     "text": [
      "Female-biased Genes with overlapping Female-biased sRNAS\n",
      "3\n",
      "Male-biased Genes with overlapping Female-biased sRNAS\n",
      "0\n",
      "Female-biased Genes with overlapping Male-biased sRNAS\n",
      "0\n",
      "Male-biased Genes with overlapping Male-biased sRNAS\n",
      "32\n",
      "______________________________________\n",
      "UN-biased Genes with overlapping Female-biased sRNAS\n",
      "33\n",
      "UN-biased Genes with overlapping Male-biased sRNAS\n",
      "42\n",
      "______________________________________\n",
      "Female-biased Genes with overlapping UN-biased sRNAS\n",
      "68\n",
      "Male-biased Genes with overlapping UN-biased sRNAS\n",
      "7\n",
      "______________________________________\n",
      "UN-biased Genes with overlapping UN-biased sRNAS\n",
      "7785\n",
      "Female-biased Genes WITHOUT overlapping sRNAS\n",
      "317\n",
      "Male-biased Genes WITHOUT overlapping sRNAS\n",
      "1048\n",
      "UN-biased Genes WITHOUT overlapping sRNAS\n",
      "26165\n"
     ]
    }
   ],
   "source": [
    "# ptgs leaves\n",
    "! bash chisq.sh tables/v4_genes.bed tables/clean_v4_ptgs_clusters.bed tables/v4_sex_biased_leaves_sbge.bed tables/v4_sex_biased_leaves_ptgs.bed"
   ]
  },
  {
   "cell_type": "code",
   "execution_count": 3,
   "id": "2ad418a3-82a4-4f8e-ab4f-39bee88236cc",
   "metadata": {},
   "outputs": [
    {
     "name": "stdout",
     "output_type": "stream",
     "text": [
      "Female-biased Genes with overlapping Female-biased sRNAS\n",
      "2\n",
      "Male-biased Genes with overlapping Female-biased sRNAS\n",
      "0\n",
      "Female-biased Genes with overlapping Male-biased sRNAS\n",
      "1\n",
      "Male-biased Genes with overlapping Male-biased sRNAS\n",
      "46\n",
      "______________________________________\n",
      "UN-biased Genes with overlapping Female-biased sRNAS\n",
      "110\n",
      "UN-biased Genes with overlapping Male-biased sRNAS\n",
      "115\n",
      "______________________________________\n",
      "Female-biased Genes with overlapping UN-biased sRNAS\n",
      "360\n",
      "Male-biased Genes with overlapping UN-biased sRNAS\n",
      "775\n",
      "______________________________________\n",
      "UN-biased Genes with overlapping UN-biased sRNAS\n",
      "15289\n",
      "Female-biased Genes WITHOUT overlapping sRNAS\n",
      "896\n",
      "Male-biased Genes WITHOUT overlapping sRNAS\n",
      "2752\n",
      "UN-biased Genes WITHOUT overlapping sRNAS\n",
      "15280\n"
     ]
    }
   ],
   "source": [
    "# rddm flowers\n",
    "! bash chisq.sh tables/v4_long_genes.bed tables/clean_v4_rddm_clusters.bed tables/v4_sex_biased_flowers_sbge.bed tables/v4_sex_biased_flowers_rddm.bed"
   ]
  },
  {
   "cell_type": "code",
   "execution_count": 7,
   "id": "c6e42a67-e295-4a09-ac05-09331e7d21e3",
   "metadata": {},
   "outputs": [
    {
     "name": "stdout",
     "output_type": "stream",
     "text": [
      "Female-biased Genes with overlapping Female-biased sRNAS\n",
      "3\n",
      "Male-biased Genes with overlapping Female-biased sRNAS\n",
      "0\n",
      "Female-biased Genes with overlapping Male-biased sRNAS\n",
      "0\n",
      "Male-biased Genes with overlapping Male-biased sRNAS\n",
      "32\n",
      "______________________________________\n",
      "UN-biased Genes with overlapping Female-biased sRNAS\n",
      "91\n",
      "UN-biased Genes with overlapping Male-biased sRNAS\n",
      "102\n",
      "______________________________________\n",
      "Female-biased Genes with overlapping UN-biased sRNAS\n",
      "68\n",
      "Male-biased Genes with overlapping UN-biased sRNAS\n",
      "7\n",
      "______________________________________\n",
      "UN-biased Genes with overlapping UN-biased sRNAS\n",
      "17327\n",
      "Female-biased Genes WITHOUT overlapping sRNAS\n",
      "317\n",
      "Male-biased Genes WITHOUT overlapping sRNAS\n",
      "1048\n",
      "UN-biased Genes WITHOUT overlapping sRNAS\n",
      "16599\n"
     ]
    }
   ],
   "source": [
    "# rddm leaves\n",
    "! bash scripts/chisq.sh tables/v4_long_genes.bed tables/clean_v4_rddm_clusters.bed tables/v4_sex_biased_leaves_sbge.bed tables/v4_sex_biased_leaves_rddm.bed"
   ]
  },
  {
   "cell_type": "markdown",
   "id": "975bd64f-cc3b-403e-b88d-3cf405d07dcc",
   "metadata": {},
   "source": [
    "## Manual Chisqr test data"
   ]
  },
  {
   "cell_type": "code",
   "execution_count": 20,
   "id": "3216ebdb-9476-423c-9dd1-a4dd1893febd",
   "metadata": {},
   "outputs": [
    {
     "name": "stdout",
     "output_type": "stream",
     "text": [
      "total 11748\n",
      "-rwxrwxrwx 1 somnya somnya 1630338 Jul 24 15:52 unbiased.clusters_flowers_ptgs.bed\n",
      "-rwxrwxrwx 1 somnya somnya 1849267 Jul 24 15:52 unbiased.clusters_flowers_rddm.bed\n",
      "-rwxrwxrwx 1 somnya somnya 1641514 Jul 24 15:52 unbiased.clusters_leaves_ptgs.bed\n",
      "-rwxrwxrwx 1 somnya somnya 1861883 Jul 24 15:52 unbiased.clusters_leaves_rddm.bed\n",
      "-rwxrwxrwx 1 somnya somnya 1192588 Jul 24 15:52 unbiased.genes_flowers.bed\n",
      "-rwxrwxrwx 1 somnya somnya 1322391 Jul 24 15:52 unbiased.genes_leaves.bed\n",
      "-rwxrwxrwx 1 somnya somnya 1192588 Jul 24 15:52 unbiased.long_genes_flowers.bed\n",
      "-rwxrwxrwx 1 somnya somnya 1322390 Jul 24 15:52 unbiased.long_genes_leaves.bed\n"
     ]
    }
   ],
   "source": [
    "# somehow, later use of my script with DMRs was underestimating the real numbers\n",
    "! rm -R chisq\n",
    "! mkdir chisq\n",
    "\n",
    "# create bed of unbiased genes\n",
    "! awk 'FNR==NR{a[$0];next}{if (!($4 in a)){print}}' <(cut -f 4 tables/v4_sex_biased_flowers_sbge.bed ) tables/v4_genes.bed | cut -f 1-4 > chisq/unbiased.genes_flowers.bed\n",
    "! awk 'FNR==NR{a[$0];next}{if (!($4 in a)){print}}' <(cut -f 4 tables/v4_sex_biased_leaves_sbge.bed ) tables/v4_genes.bed | cut -f 1-4 > chisq/unbiased.genes_leaves.bed\n",
    "\n",
    "! awk 'FNR==NR{a[$0];next}{if (!($4 in a)){print}}' <(cut -f 4 tables/v4_sex_biased_flowers_sbge.bed ) tables/v4_long_genes.bed | cut -f 1-4 > chisq/unbiased.long_genes_flowers.bed\n",
    "! awk 'FNR==NR{a[$0];next}{if (!($4 in a)){print}}' <(cut -f 4 tables/v4_sex_biased_leaves_sbge.bed ) tables/v4_long_genes.bed | cut -f 1-4 > chisq/unbiased.long_genes_leaves.bed\n",
    "\n",
    "\n",
    "# create list of unbiased clusters\n",
    "! awk 'FNR==NR{a[$0];next}{if (!($4 in a)){print}}' <(cut -f 4 tables/v4_sex_biased_flowers_ptgs.bed ) tables/clean_v4_ptgs_clusters.bed | cut -f 1-4 > chisq/unbiased.clusters_flowers_ptgs.bed\n",
    "! awk 'FNR==NR{a[$0];next}{if (!($4 in a)){print}}' <(cut -f 4 tables/v4_sex_biased_flowers_rddm.bed ) tables/clean_v4_rddm_clusters.bed | cut -f 1-4 > chisq/unbiased.clusters_flowers_rddm.bed\n",
    "\n",
    "! awk 'FNR==NR{a[$0];next}{if (!($4 in a)){print}}' <(cut -f 4 tables/v4_sex_biased_leaves_ptgs.bed ) tables/clean_v4_ptgs_clusters.bed | cut -f 1-4 > chisq/unbiased.clusters_leaves_ptgs.bed\n",
    "! awk 'FNR==NR{a[$0];next}{if (!($4 in a)){print}}' <(cut -f 4 tables/v4_sex_biased_leaves_rddm.bed ) tables/clean_v4_rddm_clusters.bed | cut -f 1-4 > chisq/unbiased.clusters_leaves_rddm.bed\n",
    "\n",
    "# check outputs\n",
    "! ls -l chisq/ # all different, good!"
   ]
  },
  {
   "cell_type": "code",
   "execution_count": 19,
   "id": "6509cbfc-0368-4488-ab27-2a3a537f68b1",
   "metadata": {},
   "outputs": [
    {
     "name": "stdout",
     "output_type": "stream",
     "text": [
      "2\n",
      "0\n",
      "33\n",
      "1\n",
      "46\n",
      "38\n",
      "360\n",
      "775\n",
      "6720\n"
     ]
    }
   ],
   "source": [
    "# Flowers PTGS\n",
    "# in order: fem genes, male genes, unbiased genes\n",
    "# all are counts, genes overlapping with multiple clusters are removed\n",
    "\n",
    "# female-biased clusters\n",
    "! bedtools intersect -nonamecheck -a <(grep \"female\" tables/v4_sex_biased_flowers_sbge.bed) -b <(grep \"female\" tables/v4_sex_biased_flowers_ptgs.bed) | cut -f 4 | uniq | wc -l\n",
    "! bedtools intersect -nonamecheck -a <(grep -v \"female\" tables/v4_sex_biased_flowers_sbge.bed) -b <(grep \"female\" tables/v4_sex_biased_flowers_ptgs.bed) | cut -f 4 | uniq | wc -l\n",
    "! bedtools intersect -nonamecheck -a chisq/unbiased.genes_flowers.bed -b <(grep \"female\" tables/v4_sex_biased_flowers_ptgs.bed) | cut -f 4 | uniq | wc -l\n",
    "\n",
    "# male-biased clusters\n",
    "! bedtools intersect -nonamecheck -a <(grep \"female\" tables/v4_sex_biased_flowers_sbge.bed) -b <(grep -v \"female\" tables/v4_sex_biased_flowers_ptgs.bed) | cut -f 4 | uniq | wc -l\n",
    "! bedtools intersect -nonamecheck -a <(grep -v \"female\" tables/v4_sex_biased_flowers_sbge.bed) -b <(grep -v \"female\" tables/v4_sex_biased_flowers_ptgs.bed) | cut -f 4 | uniq | wc -l\n",
    "! bedtools intersect -nonamecheck -a chisq/unbiased.genes_flowers.bed -b <(grep -v \"female\" tables/v4_sex_biased_flowers_ptgs.bed) | cut -f 4 | uniq | wc -l\n",
    "\n",
    "# unbiased clusters\n",
    "! bedtools intersect -nonamecheck -a <(grep \"female\" tables/v4_sex_biased_flowers_sbge.bed) -b chisq/unbiased.clusters_flowers_ptgs.bed | cut -f 4 | uniq | wc -l\n",
    "! bedtools intersect -nonamecheck -a <(grep -v \"female\" tables/v4_sex_biased_flowers_sbge.bed) -b chisq/unbiased.clusters_flowers_ptgs.bed | cut -f 4 | uniq | wc -l\n",
    "! bedtools intersect -nonamecheck -a chisq/unbiased.genes_flowers.bed -b chisq/unbiased.clusters_flowers_ptgs.bed | cut -f 4 | uniq | wc -l"
   ]
  },
  {
   "cell_type": "code",
   "execution_count": 23,
   "id": "313ee895-ae70-4d5e-86eb-8a372182dd2c",
   "metadata": {},
   "outputs": [
    {
     "name": "stdout",
     "output_type": "stream",
     "text": [
      "3\n",
      "0\n",
      "33\n",
      "0\n",
      "32\n",
      "42\n",
      "68\n",
      "7\n",
      "7785\n"
     ]
    }
   ],
   "source": [
    "# Leaves PTGS\n",
    "# female-biased clusters\n",
    "! bedtools intersect -nonamecheck -a <(grep \"female\" tables/v4_sex_biased_leaves_sbge.bed) -b <(grep \"female\" tables/v4_sex_biased_leaves_ptgs.bed) | cut -f 4 | uniq | wc -l\n",
    "! bedtools intersect -nonamecheck -a <(grep -v \"female\" tables/v4_sex_biased_leaves_sbge.bed) -b <(grep \"female\" tables/v4_sex_biased_leaves_ptgs.bed) | cut -f 4 | uniq | wc -l\n",
    "! bedtools intersect -nonamecheck -a chisq/unbiased.genes_leaves.bed -b <(grep \"female\" tables/v4_sex_biased_leaves_ptgs.bed) | cut -f 4 | uniq | wc -l\n",
    "\n",
    "# male-biased clusters\n",
    "! bedtools intersect -nonamecheck -a <(grep \"female\" tables/v4_sex_biased_leaves_sbge.bed) -b <(grep -v \"female\" tables/v4_sex_biased_leaves_ptgs.bed) | cut -f 4 | uniq | wc -l\n",
    "! bedtools intersect -nonamecheck -a <(grep -v \"female\" tables/v4_sex_biased_leaves_sbge.bed) -b <(grep -v \"female\" tables/v4_sex_biased_leaves_ptgs.bed) | cut -f 4 | uniq | wc -l\n",
    "! bedtools intersect -nonamecheck -a chisq/unbiased.genes_leaves.bed -b <(grep -v \"female\" tables/v4_sex_biased_leaves_ptgs.bed) | cut -f 4 | uniq | wc -l\n",
    "\n",
    "# unbiased clusters\n",
    "! bedtools intersect -nonamecheck -a <(grep \"female\" tables/v4_sex_biased_leaves_sbge.bed) -b chisq/unbiased.clusters_leaves_ptgs.bed | cut -f 4 | uniq | wc -l\n",
    "! bedtools intersect -nonamecheck -a <(grep -v \"female\" tables/v4_sex_biased_leaves_sbge.bed) -b chisq/unbiased.clusters_leaves_ptgs.bed | cut -f 4 | uniq | wc -l\n",
    "! bedtools intersect -nonamecheck -a chisq/unbiased.genes_leaves.bed -b chisq/unbiased.clusters_leaves_ptgs.bed | cut -f 4 | uniq | wc -l"
   ]
  },
  {
   "cell_type": "code",
   "execution_count": 25,
   "id": "311a3247-c059-4d72-bc11-26fa39152f2f",
   "metadata": {},
   "outputs": [
    {
     "name": "stdout",
     "output_type": "stream",
     "text": [
      "9\n",
      "7\n",
      "110\n",
      "2\n",
      "107\n",
      "115\n",
      "770\n",
      "1445\n",
      "15289\n"
     ]
    }
   ],
   "source": [
    "# Flowers RdDM\n",
    "\n",
    "# female-biased clusters\n",
    "! bedtools intersect -nonamecheck -a <(grep \"female\" tables/v4_long_flowers_sbge.bed) -b <(grep \"female\" tables/v4_sex_biased_flowers_rddm.bed) | cut -f 4 | uniq | wc -l\n",
    "! bedtools intersect -nonamecheck -a <(grep -v \"female\" tables/v4_long_flowers_sbge.bed) -b <(grep \"female\" tables/v4_sex_biased_flowers_rddm.bed) | cut -f 4 | uniq | wc -l\n",
    "! bedtools intersect -nonamecheck -a chisq/unbiased.long_genes_flowers.bed -b <(grep \"female\" tables/v4_sex_biased_flowers_rddm.bed) | cut -f 4 | uniq | wc -l\n",
    "\n",
    "# male-biased clusters\n",
    "! bedtools intersect -nonamecheck -a <(grep \"female\" tables/v4_long_flowers_sbge.bed) -b <(grep -v \"female\" tables/v4_sex_biased_flowers_rddm.bed) | cut -f 4 | uniq | wc -l\n",
    "! bedtools intersect -nonamecheck -a <(grep -v \"female\" tables/v4_long_flowers_sbge.bed) -b <(grep -v \"female\" tables/v4_sex_biased_flowers_rddm.bed) | cut -f 4 | uniq | wc -l\n",
    "! bedtools intersect -nonamecheck -a chisq/unbiased.long_genes_flowers.bed -b <(grep -v \"female\" tables/v4_sex_biased_flowers_rddm.bed) | cut -f 4 | uniq | wc -l\n",
    "\n",
    "# unbiased clusters\n",
    "! bedtools intersect -nonamecheck -a <(grep \"female\" tables/v4_long_flowers_sbge.bed) -b chisq/unbiased.clusters_flowers_rddm.bed | cut -f 4 | uniq | wc -l\n",
    "! bedtools intersect -nonamecheck -a <(grep -v \"female\" tables/v4_long_flowers_sbge.bed) -b chisq/unbiased.clusters_flowers_rddm.bed | cut -f 4 | uniq | wc -l\n",
    "! bedtools intersect -nonamecheck -a chisq/unbiased.long_genes_flowers.bed -b chisq/unbiased.clusters_flowers_rddm.bed | cut -f 4 | uniq | wc -l"
   ]
  },
  {
   "cell_type": "code",
   "execution_count": 26,
   "id": "b6148866-023c-499f-b6e9-e7fa3eb41d10",
   "metadata": {},
   "outputs": [
    {
     "name": "stdout",
     "output_type": "stream",
     "text": [
      "7\n",
      "0\n",
      "91\n",
      "1\n",
      "86\n",
      "102\n",
      "164\n",
      "30\n",
      "17327\n"
     ]
    }
   ],
   "source": [
    "# Leaves RdDM\n",
    "\n",
    "# female-biased clusters\n",
    "! bedtools intersect -nonamecheck -a <(grep \"female\" tables/v4_long_leaves_sbge.bed) -b <(grep \"female\" tables/v4_sex_biased_leaves_rddm.bed) | cut -f 4 | uniq | wc -l\n",
    "! bedtools intersect -nonamecheck -a <(grep -v \"female\" tables/v4_long_leaves_sbge.bed) -b <(grep \"female\" tables/v4_sex_biased_leaves_rddm.bed) | cut -f 4 | uniq | wc -l\n",
    "! bedtools intersect -nonamecheck -a chisq/unbiased.long_genes_leaves.bed -b <(grep \"female\" tables/v4_sex_biased_leaves_rddm.bed) | cut -f 4 | uniq | wc -l\n",
    "\n",
    "# male-biased clusters\n",
    "! bedtools intersect -nonamecheck -a <(grep \"female\" tables/v4_long_leaves_sbge.bed) -b <(grep -v \"female\" tables/v4_sex_biased_leaves_rddm.bed) | cut -f 4 | uniq | wc -l\n",
    "! bedtools intersect -nonamecheck -a <(grep -v \"female\" tables/v4_long_leaves_sbge.bed) -b <(grep -v \"female\" tables/v4_sex_biased_leaves_rddm.bed) | cut -f 4 | uniq | wc -l\n",
    "! bedtools intersect -nonamecheck -a chisq/unbiased.long_genes_leaves.bed -b <(grep -v \"female\" tables/v4_sex_biased_leaves_rddm.bed) | cut -f 4 | uniq | wc -l\n",
    "\n",
    "# unbiased clusters\n",
    "! bedtools intersect -nonamecheck -a <(grep \"female\" tables/v4_long_leaves_sbge.bed) -b chisq/unbiased.clusters_leaves_rddm.bed | cut -f 4 | uniq | wc -l\n",
    "! bedtools intersect -nonamecheck -a <(grep -v \"female\" tables/v4_long_leaves_sbge.bed) -b chisq/unbiased.clusters_leaves_rddm.bed | cut -f 4 | uniq | wc -l\n",
    "! bedtools intersect -nonamecheck -a chisq/unbiased.long_genes_leaves.bed -b chisq/unbiased.clusters_leaves_rddm.bed | cut -f 4 | uniq | wc -l"
   ]
  },
  {
   "cell_type": "markdown",
   "id": "dad33c4c-5be0-4b3a-9a5e-3d19c9167d77",
   "metadata": {},
   "source": [
    "# sRNA mapping in the Y chromosome"
   ]
  },
  {
   "cell_type": "code",
   "execution_count": null,
   "id": "57689a5c-9c86-4f7e-950f-129cf6098923",
   "metadata": {},
   "outputs": [],
   "source": [
    "# check the name of the chromosomes\n",
    "! grep \"Y\" epi/males_flowers_ptgs.bed | head\n",
    "\n",
    "# get genes on the Y and rename Y to \"chrY\"\n",
    "! grep \"Y\" paper_revisions/v4_genes.bed | sed 's/Y/chrY/g' > paper_revisions/v4_y_genes.bed\n",
    "! grep \"Y\" paper_revisions/v4_long_genes.bed | sed 's/Y/chrY/g' > paper_revisions/v4_y_long_genes.bed\n",
    "\n",
    "# create input files for surco\n",
    "# only males of course\n",
    "\n",
    "#### 21-22 nt\n",
    "! ml bedtools2/2.31.1; bedtools intersect -nonamecheck -a epi/males_flowers_ptgs.bed -b paper_revisions/v4_y_genes.bed -wb | cut -f 1-6,10 > paper_revisions/y_males_flowers_ptgs.tsv\n",
    "! ml bedtools2/2.31.1; bedtools intersect -nonamecheck -a epi/males_leaves_ptgs.bed -b paper_revisions/v4_y_genes.bed -wb | cut -f 1-6,10 > paper_revisions/y_males_leaves_ptgs.tsv\n",
    "\n",
    "##### 24 nt\n",
    "! ml bedtools2/2.31.1; bedtools intersect -nonamecheck -a epi/males_flowers_rddm.bed -b paper_revisions/v4_y_long_genes.bed -wb | cut -f 1-6,10 > paper_revisions/y_males_flowers_rddm.tsv\n",
    "! ml bedtools2/2.31.1; bedtools intersect -nonamecheck -a epi/males_leaves_rddm.bed -b paper_revisions/v4_y_long_genes.bed -wb | cut -f 1-6,10 > paper_revisions/y_males_leaves_rddm.tsv"
   ]
  },
  {
   "cell_type": "code",
   "execution_count": null,
   "id": "8868370b-ebe6-49f8-b719-29d0b5501fc4",
   "metadata": {},
   "outputs": [],
   "source": []
  }
 ],
 "metadata": {
  "kernelspec": {
   "display_name": "Python 3 (ipykernel)",
   "language": "python",
   "name": "python3"
  },
  "language_info": {
   "codemirror_mode": {
    "name": "ipython",
    "version": 3
   },
   "file_extension": ".py",
   "mimetype": "text/x-python",
   "name": "python",
   "nbconvert_exporter": "python",
   "pygments_lexer": "ipython3",
   "version": "3.9.12"
  },
  "toc-autonumbering": false,
  "toc-showcode": false
 },
 "nbformat": 4,
 "nbformat_minor": 5
}
