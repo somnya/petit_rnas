{
 "cells": [
  {
   "cell_type": "markdown",
   "id": "26ee1080-01a3-462b-8044-3ab8db6e062c",
   "metadata": {},
   "source": [
    "![image](silene.jpeg)"
   ]
  },
  {
   "cell_type": "markdown",
   "id": "870e89a6-d86f-41a9-882f-7945f5b8c403",
   "metadata": {},
   "source": [
    "# sRNA profiles of flower dimorphism in _Silene latifolia_"
   ]
  },
  {
   "cell_type": "markdown",
   "id": "44ac18a2-4044-4ab2-a935-d876b2375967",
   "metadata": {},
   "source": [
    "#### Eddy J. Mendoza-Galindo\n",
    "#### Advisor: Aline Muyle, CEFE Montpellier\n",
    "April 2023"
   ]
  },
  {
   "cell_type": "markdown",
   "id": "a68116ce-350c-4ea0-bdfe-d9aab778f900",
   "metadata": {},
   "source": [
    "#### <span style=\"color:#4dd98b\"> Exploration of sRNA abundance based on length and species, only for 21,22, 24"
   ]
  },
  {
   "cell_type": "code",
   "execution_count": 5,
   "id": "d3b168fb-458d-40b7-868e-887760abe68a",
   "metadata": {
    "tags": []
   },
   "outputs": [
    {
     "name": "stdout",
     "output_type": "stream",
     "text": [
      "cd raw/sRNA_MGX/trimmed/\n",
      "for file in *.fastq\n",
      "do\n",
      "echo \"working with $file\"\n",
      "perl -e ' $count=0; $len=0; while(<>) { s/\\r?\\n//; s/\\t/ /g; if (s/^@//) { if ($. != 1) { print \"\\n\" } s/ |$/\\t/; $count++; $_ .= \"\\t\"; } else { s/ //g; $len += length($_) } print $_; } print \"\\n\"; ' $file | sed -E 's/^.+\\t(\\w+)\\+.*$/\\1/g' | perl -e ' $col=0; while (<>) { s/\\r?\\n//; @F = split /\\t/, $_; $len = length($F[$col]); print \"$_\\t$len\\n\" }; ' | awk '$2 ~ /(21|22|24)/ ' > ${file}_count.tsv\n",
      "done\n"
     ]
    }
   ],
   "source": [
    "! cat scripts/count.sh"
   ]
  },
  {
   "cell_type": "code",
   "execution_count": 6,
   "id": "0b315168-e755-4dfd-8fe4-73eac7ca5795",
   "metadata": {},
   "outputs": [
    {
     "name": "stdout",
     "output_type": "stream",
     "text": [
      "working with F1B_final_trimming.fastq\n",
      "working with F1L_final_trimming.fastq\n",
      "working with F2B_final_trimming.fastq\n",
      "working with F2L_final_trimming.fastq\n",
      "working with F3B_final_trimming.fastq\n",
      "working with F3L_final_trimming.fastq\n",
      "working with M1B_final_trimming.fastq\n",
      "working with M1L_final_trimming.fastq\n",
      "working with M2B_final_trimming.fastq\n",
      "working with M2L_final_trimming.fastq\n",
      "working with M4B_final_trimming.fastq\n",
      "working with M4L_final_trimming.fastq\n"
     ]
    }
   ],
   "source": [
    "! bash scripts/count.sh"
   ]
  },
  {
   "cell_type": "markdown",
   "id": "d3e2b080-f229-4386-9c19-ff1742a4ffe7",
   "metadata": {
    "tags": []
   },
   "source": [
    "#### <span style=\"color:#4dd98b\"> Select reads for 21, 22 and 24 nt long"
   ]
  },
  {
   "cell_type": "code",
   "execution_count": 1,
   "id": "fe163041-3b44-41c7-9aa9-a8ddbb6fd080",
   "metadata": {
    "tags": []
   },
   "outputs": [
    {
     "name": "stdout",
     "output_type": "stream",
     "text": [
      "cd raw/\n",
      "rm -r fastq/\n",
      "mkdir fastq\n",
      "\n",
      "out=fastq\n",
      "files=sRNA_MGX/trimmed/*.fastq\n",
      "\n",
      "\n",
      "for file in $files\n",
      "do\n",
      "\n",
      "name=$(echo $file | sed -E 's/^sR.*ed\\/(\\w+)_f.*/\\1/g')\n",
      "\n",
      "echo \"WORKING WITH $name\"\n",
      "\n",
      "# Select reads of 21, 22 and 24 in length\n",
      "seqtk comp $file | awk '$2 == 21' | cut -f 1 > 21.list\n",
      "seqtk subseq $file 21.list > $out/${name}_21.fq\n",
      "\n",
      "seqtk comp $file | awk '$2 == 22' | cut -f 1 > 22.list\n",
      "seqtk subseq $file 22.list > $out/${name}_22.fq\n",
      "\n",
      "seqtk comp $file | awk '$2 == 24' | cut -f 1 > 24.list\n",
      "seqtk subseq $file 24.list > $out/${name}_24.fq\n",
      "\n",
      "rm 21.list 22.list 24.list\n",
      "cat ${name}_21.fq ${name}_22.fq ${name}_24.fq > ${name}_dicer.fq \n",
      "rm ${name}_21.fq ${name}_22.fq ${name}_24.fq \n",
      "\n",
      "done"
     ]
    }
   ],
   "source": [
    "! cat scripts/filter_size.sh"
   ]
  },
  {
   "cell_type": "code",
   "execution_count": 4,
   "id": "9ec1a9c9-7fdd-475d-8cb9-762cd54d1325",
   "metadata": {
    "tags": []
   },
   "outputs": [
    {
     "name": "stdout",
     "output_type": "stream",
     "text": [
      "WORKING WITH F1B\n",
      "21-nt sRNAS done\n",
      "22-nt sRNAS done\n",
      "24-nt sRNAS done\n",
      "WORKING WITH F1L\n",
      "21-nt sRNAS done\n",
      "22-nt sRNAS done\n",
      "24-nt sRNAS done\n",
      "WORKING WITH F2B\n",
      "21-nt sRNAS done\n",
      "22-nt sRNAS done\n",
      "24-nt sRNAS done\n",
      "WORKING WITH F2L\n",
      "21-nt sRNAS done\n",
      "22-nt sRNAS done\n",
      "24-nt sRNAS done\n",
      "WORKING WITH F3B\n",
      "21-nt sRNAS done\n",
      "22-nt sRNAS done\n",
      "24-nt sRNAS done\n",
      "WORKING WITH F3L\n",
      "21-nt sRNAS done\n",
      "22-nt sRNAS done\n",
      "24-nt sRNAS done\n",
      "WORKING WITH M1B\n",
      "21-nt sRNAS done\n",
      "22-nt sRNAS done\n",
      "24-nt sRNAS done\n",
      "WORKING WITH M1L\n",
      "21-nt sRNAS done\n",
      "22-nt sRNAS done\n",
      "24-nt sRNAS done\n",
      "WORKING WITH M2B\n",
      "21-nt sRNAS done\n",
      "22-nt sRNAS done\n",
      "24-nt sRNAS done\n",
      "WORKING WITH M2L\n",
      "21-nt sRNAS done\n",
      "22-nt sRNAS done\n",
      "24-nt sRNAS done\n",
      "WORKING WITH M4B\n",
      "21-nt sRNAS done\n",
      "22-nt sRNAS done\n",
      "24-nt sRNAS done\n",
      "WORKING WITH M4L\n",
      "21-nt sRNAS done\n",
      "22-nt sRNAS done\n",
      "24-nt sRNAS done\n"
     ]
    }
   ],
   "source": [
    "! bash scripts/filter_size.sh"
   ]
  },
  {
   "cell_type": "code",
   "execution_count": 6,
   "id": "64d09cbd-10ab-4086-9f96-62a493a4e956",
   "metadata": {
    "tags": []
   },
   "outputs": [
    {
     "name": "stdout",
     "output_type": "stream",
     "text": [
      "21\n",
      "22\n",
      "24\n",
      "21\n",
      "22\n",
      "24\n"
     ]
    }
   ],
   "source": [
    "#check lengths after filtering\n",
    "! seqtk comp raw/fastq/M2B_dicer.fq | cut -f 2 | sort | uniq \n",
    "! seqtk comp raw/fastq/F1L_dicer.fq | cut -f 2 | sort | uniq "
   ]
  },
  {
   "cell_type": "markdown",
   "id": "d2bd5d08-5cab-4bf8-a4a0-6a938e7191e8",
   "metadata": {},
   "source": [
    "# <span style=\"color:#4dd98b\"> Alingment and quantification"
   ]
  },
  {
   "cell_type": "markdown",
   "id": "a5f07493-967a-4b1f-8634-a7110453514b",
   "metadata": {},
   "source": [
    "We followed the Shortstack workflow,\n",
    "Only uniquely-aligned reads are used as weights for placement of multi-mapped reads."
   ]
  },
  {
   "cell_type": "markdown",
   "id": "04a9cfbb-4936-4a2c-9d75-afa1046e329b",
   "metadata": {},
   "source": [
    "conda activate ShortStack4 # ShortStack only works under its environment\n",
    "\n",
    "ShortStack --genomefile ../genome/silat.fa --readfile fastq/*.fq --threads 8 --knownRNAs caryophyllaceae_mirnas.fa --mmap u"
   ]
  },
  {
   "cell_type": "code",
   "execution_count": 26,
   "id": "e1b75220-a597-4af3-ab49-162cd4979685",
   "metadata": {
    "tags": []
   },
   "outputs": [
    {
     "name": "stdout",
     "output_type": "stream",
     "text": [
      ">chr1\n",
      ">chr2\n",
      ">chr3\n",
      ">chr4\n",
      ">chr5\n",
      ">chr6\n",
      ">chr7\n",
      ">chr8\n",
      ">chr9\n",
      ">chr10\n",
      ">chr11\n",
      ">chr12\n"
     ]
    }
   ],
   "source": [
    "# Remove Y chromosome from genome and map Females\n",
    "! grep \">\" genome/silat.fa | grep -v \"scaffold\" | sed 's/>//' > genome/no_y.list\n",
    "! seqtk subseq genome/silat.fa genome/no_y.list > genome/no_y.fa\n",
    "! grep \">\" genome/no_y.fa"
   ]
  },
  {
   "cell_type": "markdown",
   "id": "54d46e2c-2091-4d30-9fb6-cfa9ec88e493",
   "metadata": {},
   "source": [
    "### <span style=\"color:#4dd98b\"> Aling females to the genome without Y (ran inside raw/ and under the conda envirnonment of ShortStack$)\n",
    "ShortStack --genomefile ../genome/no_y.fa --readfile fastq/F* --threads 8 --align_only --outdir females_no_y"
   ]
  },
  {
   "cell_type": "markdown",
   "id": "f7182a01-0a43-43fb-b373-bb5997fe204b",
   "metadata": {},
   "source": [
    "### <span style=\"color:#4dd98b\">Merge females (without y) and males (with y) (Inside SS environment so it works)\n",
    "\n",
    "samtools merge -r -@ 12 -f -o raw/merged_females-y.bam -b raw/bam.list\n",
    "    \n",
    "#### <span style=\"color:#4dd98b\"> First, PTGS (21-22 nt), asking for _de novo_ and template-based miRNA annotation\n",
    "    \n",
    "ShortStack --genomefile ../genome/silat.fa --bamfile merged_females-y.bam --threads 8 --outdir only_21-22_known_de_novo_f-y_try5 --dicermax 22 --mmap u --dn_mirna --knownRNAs caryophyllaceae_mirnas.fa \n",
    "\n",
    "#### <span style=\"color:#4dd98b\"> Then, RDdM (24 nt), no miRNA identification\n",
    "    \n",
    "ShortStack --genomefile ../genome/silat.fa --bamfile merged_females-y.bam --threads 8 --outdir only_24_f-y --dicermin 23 --mmap u "
   ]
  },
  {
   "cell_type": "markdown",
   "id": "d7693422-9598-4d1a-ae6a-6a10fadf0b98",
   "metadata": {
    "tags": []
   },
   "source": [
    "### <span style=\"color:#4dd98b\"> Depth quantification"
   ]
  },
  {
   "cell_type": "code",
   "execution_count": null,
   "id": "ad243384-dd6a-454b-943f-2cec6d34a25e",
   "metadata": {
    "tags": []
   },
   "outputs": [],
   "source": [
    "! bash scripts/mapping_depth.sh # Output is very heavy"
   ]
  },
  {
   "cell_type": "markdown",
   "id": "4f73a993-5b38-4242-91be-2ec6eb7f9537",
   "metadata": {
    "tags": []
   },
   "source": [
    "# <span style=\"color:#3de2d8\"> RNA-seq analysis"
   ]
  },
  {
   "cell_type": "raw",
   "id": "5303fe2c-abf4-4da1-b5ce-88752531aaee",
   "metadata": {},
   "source": [
    "Raw reads were downloaded from https://www.ebi.ac.uk/ena/browser/view/PRJEB14171\n",
    "Two flower bud samples for each sex were replicated so we merge them together:\n",
    "\n",
    "for two in $(ls | grep \"_2_\"); do one=$(echo $two | sed 's/2_//' ); cat $one $two > combined_${one}; mv $one replicates/${one}; mv $two replicates/${two} ; done"
   ]
  },
  {
   "cell_type": "code",
   "execution_count": null,
   "id": "805b8494-c41e-42db-b418-149843e80f87",
   "metadata": {
    "tags": []
   },
   "outputs": [],
   "source": [
    "# Check quality\n",
    "#! mkdir rna-seq/fastqc\n",
    "#! rna-seq/FastQC/fastqc -t 16 -o rna-seq/fastqc rna-seq/raw/*.gz\n",
    "! multiqc --outdir rna-seq/fastqc rna-seq/fastqc/"
   ]
  },
  {
   "cell_type": "code",
   "execution_count": null,
   "id": "7ef91514-78c2-4a64-adc2-d792ac20fdd8",
   "metadata": {
    "tags": []
   },
   "outputs": [],
   "source": [
    "# Trimming \n",
    "! bash scripts/trimm.sh"
   ]
  },
  {
   "cell_type": "code",
   "execution_count": null,
   "id": "6fa39d93-a141-4da3-82f2-c5f92923642e",
   "metadata": {
    "tags": []
   },
   "outputs": [],
   "source": [
    "! mkdir rna-seq/trimmed/fastqc\n",
    "! rna-seq/FastQC/fastqc -t 16 -o rna-seq/trimmed/fastqc rna-seq/trimmed/*.fastq\n",
    "! multiqc --outdir rna-seq/trimmed/fastqc rna-seq/trimmed/fastqc/"
   ]
  },
  {
   "cell_type": "code",
   "execution_count": 4,
   "id": "f22447a7-9096-429e-b1ce-afb9f2e73aa3",
   "metadata": {
    "tags": []
   },
   "outputs": [
    {
     "name": "stdout",
     "output_type": "stream",
     "text": [
      "\n",
      "[build] loading fasta file annotation/vulgaris_transcriptome.fa\n",
      "[build] k-mer length: 31\n",
      "[build] warning: replaced 385 non-ACGUT characters in the input sequence\n",
      "        with pseudorandom nucleotides\n",
      "[build] counting k-mers ... done.\n",
      "[build] building target de Bruijn graph ...  done \n",
      "[build] creating equivalence classes ...  done\n",
      "[build] target de Bruijn graph has 217304 contigs and contains 31569734 k-mers \n",
      "\n"
     ]
    }
   ],
   "source": [
    "# Build a Kallisto index\n",
    "! kallisto index -i annotation/vulgaris_transcriptome.idx annotation/vulgaris_transcriptome.fa"
   ]
  },
  {
   "cell_type": "code",
   "execution_count": null,
   "id": "0bce50af-0779-492c-a0c7-71834c0a9b15",
   "metadata": {
    "tags": []
   },
   "outputs": [],
   "source": [
    "! bash scripts/kallisto.sh"
   ]
  }
 ],
 "metadata": {
  "kernelspec": {
   "display_name": "Python 3 (ipykernel)",
   "language": "python",
   "name": "python3"
  },
  "language_info": {
   "codemirror_mode": {
    "name": "ipython",
    "version": 3
   },
   "file_extension": ".py",
   "mimetype": "text/x-python",
   "name": "python",
   "nbconvert_exporter": "python",
   "pygments_lexer": "ipython3",
   "version": "3.10.0"
  }
 },
 "nbformat": 4,
 "nbformat_minor": 5
}
