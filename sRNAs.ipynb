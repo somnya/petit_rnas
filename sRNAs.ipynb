{
 "cells": [
  {
   "cell_type": "markdown",
   "id": "26ee1080-01a3-462b-8044-3ab8db6e062c",
   "metadata": {},
   "source": [
    "![image](silene.jpeg)"
   ]
  },
  {
   "cell_type": "markdown",
   "id": "870e89a6-d86f-41a9-882f-7945f5b8c403",
   "metadata": {},
   "source": [
    "# sRNA profiles of flower dimorphism in _Silene latifolia_"
   ]
  },
  {
   "cell_type": "markdown",
   "id": "44ac18a2-4044-4ab2-a935-d876b2375967",
   "metadata": {},
   "source": [
    "#### Eddy J. Mendoza-Galindo\n",
    "#### Advisor: Aline Muyle, CEFE Montpellier\n",
    "April 2023"
   ]
  },
  {
   "cell_type": "markdown",
   "id": "a68116ce-350c-4ea0-bdfe-d9aab778f900",
   "metadata": {},
   "source": [
    "#### Exploration of sRNA abundance based on length and species, only for 21,22, 24"
   ]
  },
  {
   "cell_type": "code",
   "execution_count": 5,
   "id": "d3b168fb-458d-40b7-868e-887760abe68a",
   "metadata": {
    "tags": []
   },
   "outputs": [
    {
     "name": "stdout",
     "output_type": "stream",
     "text": [
      "cd raw/sRNA_MGX/trimmed/\n",
      "for file in *.fastq\n",
      "do\n",
      "echo \"working with $file\"\n",
      "perl -e ' $count=0; $len=0; while(<>) { s/\\r?\\n//; s/\\t/ /g; if (s/^@//) { if ($. != 1) { print \"\\n\" } s/ |$/\\t/; $count++; $_ .= \"\\t\"; } else { s/ //g; $len += length($_) } print $_; } print \"\\n\"; ' $file | sed -E 's/^.+\\t(\\w+)\\+.*$/\\1/g' | perl -e ' $col=0; while (<>) { s/\\r?\\n//; @F = split /\\t/, $_; $len = length($F[$col]); print \"$_\\t$len\\n\" }; ' | awk '$2 ~ /(21|22|24)/ ' > ${file}_count.tsv\n",
      "done\n"
     ]
    }
   ],
   "source": [
    "! cat scripts/count.sh"
   ]
  },
  {
   "cell_type": "code",
   "execution_count": 6,
   "id": "0b315168-e755-4dfd-8fe4-73eac7ca5795",
   "metadata": {},
   "outputs": [
    {
     "name": "stdout",
     "output_type": "stream",
     "text": [
      "working with F1B_final_trimming.fastq\n",
      "working with F1L_final_trimming.fastq\n",
      "working with F2B_final_trimming.fastq\n",
      "working with F2L_final_trimming.fastq\n",
      "working with F3B_final_trimming.fastq\n",
      "working with F3L_final_trimming.fastq\n",
      "working with M1B_final_trimming.fastq\n",
      "working with M1L_final_trimming.fastq\n",
      "working with M2B_final_trimming.fastq\n",
      "working with M2L_final_trimming.fastq\n",
      "working with M4B_final_trimming.fastq\n",
      "working with M4L_final_trimming.fastq\n"
     ]
    }
   ],
   "source": [
    "! bash scripts/count.sh"
   ]
  },
  {
   "cell_type": "markdown",
   "id": "d3e2b080-f229-4386-9c19-ff1742a4ffe7",
   "metadata": {
    "tags": []
   },
   "source": [
    "#### Select reads for 21, 22 and 24 nt long"
   ]
  },
  {
   "cell_type": "code",
   "execution_count": 1,
   "id": "fe163041-3b44-41c7-9aa9-a8ddbb6fd080",
   "metadata": {
    "tags": []
   },
   "outputs": [
    {
     "name": "stdout",
     "output_type": "stream",
     "text": [
      "cd raw/\n",
      "rm -r fastq/\n",
      "mkdir fastq\n",
      "\n",
      "out=fastq\n",
      "files=sRNA_MGX/trimmed/*.fastq\n",
      "\n",
      "\n",
      "for file in $files\n",
      "do\n",
      "\n",
      "name=$(echo $file | sed -E 's/^sR.*ed\\/(\\w+)_f.*/\\1/g')\n",
      "\n",
      "echo \"WORKING WITH $name\"\n",
      "\n",
      "# Select reads of 21, 22 and 24 in length\n",
      "seqtk comp $file | awk '$2 == 21' | cut -f 1 > 21.list\n",
      "seqtk subseq $file 21.list > $out/${name}_21.fq\n",
      "\n",
      "seqtk comp $file | awk '$2 == 22' | cut -f 1 > 22.list\n",
      "seqtk subseq $file 22.list > $out/${name}_22.fq\n",
      "\n",
      "seqtk comp $file | awk '$2 == 24' | cut -f 1 > 24.list\n",
      "seqtk subseq $file 24.list > $out/${name}_24.fq\n",
      "\n",
      "rm 21.list 22.list 24.list\n",
      "cat ${name}_21.fq ${name}_22.fq ${name}_24.fq > ${name}_dicer.fq \n",
      "rm ${name}_21.fq ${name}_22.fq ${name}_24.fq \n",
      "\n",
      "done"
     ]
    }
   ],
   "source": [
    "! cat scripts/filter_size.sh"
   ]
  },
  {
   "cell_type": "code",
   "execution_count": 4,
   "id": "9ec1a9c9-7fdd-475d-8cb9-762cd54d1325",
   "metadata": {
    "tags": []
   },
   "outputs": [
    {
     "name": "stdout",
     "output_type": "stream",
     "text": [
      "WORKING WITH F1B\n",
      "21-nt sRNAS done\n",
      "22-nt sRNAS done\n",
      "24-nt sRNAS done\n",
      "WORKING WITH F1L\n",
      "21-nt sRNAS done\n",
      "22-nt sRNAS done\n",
      "24-nt sRNAS done\n",
      "WORKING WITH F2B\n",
      "21-nt sRNAS done\n",
      "22-nt sRNAS done\n",
      "24-nt sRNAS done\n",
      "WORKING WITH F2L\n",
      "21-nt sRNAS done\n",
      "22-nt sRNAS done\n",
      "24-nt sRNAS done\n",
      "WORKING WITH F3B\n",
      "21-nt sRNAS done\n",
      "22-nt sRNAS done\n",
      "24-nt sRNAS done\n",
      "WORKING WITH F3L\n",
      "21-nt sRNAS done\n",
      "22-nt sRNAS done\n",
      "24-nt sRNAS done\n",
      "WORKING WITH M1B\n",
      "21-nt sRNAS done\n",
      "22-nt sRNAS done\n",
      "24-nt sRNAS done\n",
      "WORKING WITH M1L\n",
      "21-nt sRNAS done\n",
      "22-nt sRNAS done\n",
      "24-nt sRNAS done\n",
      "WORKING WITH M2B\n",
      "21-nt sRNAS done\n",
      "22-nt sRNAS done\n",
      "24-nt sRNAS done\n",
      "WORKING WITH M2L\n",
      "21-nt sRNAS done\n",
      "22-nt sRNAS done\n",
      "24-nt sRNAS done\n",
      "WORKING WITH M4B\n",
      "21-nt sRNAS done\n",
      "22-nt sRNAS done\n",
      "24-nt sRNAS done\n",
      "WORKING WITH M4L\n",
      "21-nt sRNAS done\n",
      "22-nt sRNAS done\n",
      "24-nt sRNAS done\n"
     ]
    }
   ],
   "source": [
    "! bash scripts/filter_size.sh"
   ]
  },
  {
   "cell_type": "code",
   "execution_count": 6,
   "id": "64d09cbd-10ab-4086-9f96-62a493a4e956",
   "metadata": {
    "tags": []
   },
   "outputs": [
    {
     "name": "stdout",
     "output_type": "stream",
     "text": [
      "21\n",
      "22\n",
      "24\n",
      "21\n",
      "22\n",
      "24\n"
     ]
    }
   ],
   "source": [
    "#check lengths after filtering\n",
    "! seqtk comp raw/fastq/M2B_dicer.fq | cut -f 2 | sort | uniq \n",
    "! seqtk comp raw/fastq/F1L_dicer.fq | cut -f 2 | sort | uniq "
   ]
  },
  {
   "cell_type": "markdown",
   "id": "d2bd5d08-5cab-4bf8-a4a0-6a938e7191e8",
   "metadata": {},
   "source": [
    "### Alingment and quantification"
   ]
  },
  {
   "cell_type": "markdown",
   "id": "a5f07493-967a-4b1f-8634-a7110453514b",
   "metadata": {},
   "source": [
    "We followed the Shortstack workflow,\n",
    "Only uniquely-aligned reads are used as weights for placement of multi-mapped reads."
   ]
  },
  {
   "cell_type": "markdown",
   "id": "04a9cfbb-4936-4a2c-9d75-afa1046e329b",
   "metadata": {},
   "source": [
    "conda activate ShortStack4\n",
    "\n",
    "ShortStack --genomefile ../genome/silat.fa --readfile fastq/*.fq --threads 8 --knownRNAs caryophyllaceae_mirnas.fa --mmap u"
   ]
  },
  {
   "cell_type": "markdown",
   "id": "d13d6f2f-7c41-4fa0-8a8f-e31ff0285f2b",
   "metadata": {},
   "source": [
    "### We performed the analysis also for 21-22 and 24 nt independtly:\n",
    "ShortStack --genomefile ../genome/silat.fa --bamfile ShortStack_results/merged_alignments.bam --threads 8 --outdir only_21-22 --dicermax 22 --mmap u\n",
    "##### To identify microRNAs in 21-22\n",
    "ShortStack --genomefile ../genome/silat.fa --bamfile ShortStack_results/merged_alignments.bam --threads 8 --outdir only_21-22 --dicermax 22 --mmap u --knownRNAs caryophyllaceae_mirnas.fa \n",
    "#### 24-nt\n",
    "ShortStack --genomefile ../genome/silat.fa --bamfile ShortStack_results/merged_alignments.bam --threads 8 --outdir only_24 --dicermin 23 --mmap u"
   ]
  },
  {
   "cell_type": "markdown",
   "id": "ab13ff6c-e359-48a2-a433-5c0387aba097",
   "metadata": {
    "tags": []
   },
   "source": [
    "#### We also performed a de-novo exploration of microRNAs, not finding any :\n",
    "ShortStack --genomefile ../genome/silat.fa --bamfile ShortStack_results/merged_alignments.bam --threads 8 --outdir de_novo --mmap u --dn_mirna\n",
    "\n",
    "No microRNA loci were found!\n"
   ]
  },
  {
   "cell_type": "markdown",
   "id": "d7693422-9598-4d1a-ae6a-6a10fadf0b98",
   "metadata": {
    "tags": []
   },
   "source": [
    "### Depth quantification"
   ]
  },
  {
   "cell_type": "code",
   "execution_count": 17,
   "id": "ad243384-dd6a-454b-943f-2cec6d34a25e",
   "metadata": {
    "tags": []
   },
   "outputs": [
    {
     "name": "stdout",
     "output_type": "stream",
     "text": [
      "WORKING WITH F1B\n",
      "Extracting depths for the Forward strand\n",
      "Extracting depths for the Reverse strand\n",
      "WORKING WITH F1L\n",
      "Extracting depths for the Forward strand\n",
      "Extracting depths for the Reverse strand\n",
      "WORKING WITH F2B\n",
      "Extracting depths for the Forward strand\n",
      "Extracting depths for the Reverse strand\n",
      "cat: write error: No space left on device\n",
      "WORKING WITH F2L\n",
      "Extracting depths for the Forward strand\n",
      "Extracting depths for the Reverse strand\n",
      "cat: write error: No space left on device\n",
      "WORKING WITH F3B\n",
      "Extracting depths for the Forward strand\n",
      "Extracting depths for the Reverse strand\n",
      "^C\n"
     ]
    }
   ],
   "source": [
    "! bash scripts/mapping_depth.sh # Output is very heavy"
   ]
  },
  {
   "cell_type": "markdown",
   "id": "4f73a993-5b38-4242-91be-2ec6eb7f9537",
   "metadata": {
    "tags": []
   },
   "source": [
    "# RNA-seq analysis"
   ]
  },
  {
   "cell_type": "code",
   "execution_count": 23,
   "id": "805b8494-c41e-42db-b418-149843e80f87",
   "metadata": {
    "tags": []
   },
   "outputs": [
    {
     "name": "stdout",
     "output_type": "stream",
     "text": [
      "\n",
      "  \u001b[34m/\u001b[0m\u001b[32m/\u001b[0m\u001b[31m/\u001b[0m \u001b]8;id=864208;https://multiqc.info\u001b\\\u001b[1mMultiQC\u001b[0m\u001b]8;;\u001b\\ 🔍 \u001b[2m| v1.14\u001b[0m\n",
      "\n",
      "\u001b[34m|           multiqc\u001b[0m | Search path : /home/eddy/silene/rna-seq/fastqc\n",
      "\u001b[2K\u001b[34m|\u001b[0m         \u001b[34msearching\u001b[0m | \u001b[38;2;114;156;31m━━━━━━━━━━━━━━━━━━━━━━━━━━━━━━━━━━━━━━━━\u001b[0m \u001b[35m100%\u001b[0m \u001b[32m24/24\u001b[0m  /24\u001b[0m \u001b[2mrna-seq/fastqc/49_male_2_fastqc.html\u001b[0m\n",
      "\u001b[?25h\u001b[34m|            fastqc\u001b[0m | Found 12 reports\n",
      "\u001b[34m|           multiqc\u001b[0m | Compressing plot data\n",
      "\u001b[34m|           multiqc\u001b[0m | Report      : rna-seq/fastqc/multiqc_report.html\n",
      "\u001b[34m|           multiqc\u001b[0m | Data        : rna-seq/fastqc/multiqc_data\n",
      "\u001b[34m|           multiqc\u001b[0m | MultiQC complete\n"
     ]
    }
   ],
   "source": [
    "# Check quality\n",
    "#! mkdir rna-seq/fastqc\n",
    "#! rna-seq/FastQC/fastqc -t 16 -o rna-seq/fastqc rna-seq/*.gz\n",
    "! multiqc --outdir rna-seq/fastqc rna-seq/fastqc"
   ]
  }
 ],
 "metadata": {
  "kernelspec": {
   "display_name": "Python 3 (ipykernel)",
   "language": "python",
   "name": "python3"
  },
  "language_info": {
   "codemirror_mode": {
    "name": "ipython",
    "version": 3
   },
   "file_extension": ".py",
   "mimetype": "text/x-python",
   "name": "python",
   "nbconvert_exporter": "python",
   "pygments_lexer": "ipython3",
   "version": "3.10.0"
  }
 },
 "nbformat": 4,
 "nbformat_minor": 5
}
