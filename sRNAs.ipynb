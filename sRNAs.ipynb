{
 "cells": [
  {
   "cell_type": "markdown",
   "id": "26ee1080-01a3-462b-8044-3ab8db6e062c",
   "metadata": {},
   "source": [
    "![image](silene.jpeg)"
   ]
  },
  {
   "cell_type": "markdown",
   "id": "870e89a6-d86f-41a9-882f-7945f5b8c403",
   "metadata": {},
   "source": [
    "# sRNA profiles of flower dimorphism in _Silene latifolia_"
   ]
  },
  {
   "cell_type": "markdown",
   "id": "44ac18a2-4044-4ab2-a935-d876b2375967",
   "metadata": {},
   "source": [
    "#### Eddy J. Mendoza-Galindo\n",
    "#### Advisor: Aline Muyle, CEFE Montpellier\n",
    "April 2023"
   ]
  },
  {
   "cell_type": "markdown",
   "id": "a68116ce-350c-4ea0-bdfe-d9aab778f900",
   "metadata": {
    "jp-MarkdownHeadingCollapsed": true,
    "tags": []
   },
   "source": [
    "#### <span style=\"color:#4dd98b\"> Exploration of sRNA abundance based on length and species, only for 21,22, 24"
   ]
  },
  {
   "cell_type": "code",
   "execution_count": 5,
   "id": "d3b168fb-458d-40b7-868e-887760abe68a",
   "metadata": {
    "tags": []
   },
   "outputs": [
    {
     "name": "stdout",
     "output_type": "stream",
     "text": [
      "cd raw/sRNA_MGX/trimmed/\n",
      "for file in *.fastq\n",
      "do\n",
      "echo \"working with $file\"\n",
      "perl -e ' $count=0; $len=0; while(<>) { s/\\r?\\n//; s/\\t/ /g; if (s/^@//) { if ($. != 1) { print \"\\n\" } s/ |$/\\t/; $count++; $_ .= \"\\t\"; } else { s/ //g; $len += length($_) } print $_; } print \"\\n\"; ' $file | sed -E 's/^.+\\t(\\w+)\\+.*$/\\1/g' | perl -e ' $col=0; while (<>) { s/\\r?\\n//; @F = split /\\t/, $_; $len = length($F[$col]); print \"$_\\t$len\\n\" }; ' | awk '$2 ~ /(21|22|24)/ ' > ${file}_count.tsv\n",
      "done\n"
     ]
    }
   ],
   "source": [
    "! cat scripts/count.sh"
   ]
  },
  {
   "cell_type": "code",
   "execution_count": 6,
   "id": "0b315168-e755-4dfd-8fe4-73eac7ca5795",
   "metadata": {},
   "outputs": [
    {
     "name": "stdout",
     "output_type": "stream",
     "text": [
      "working with F1B_final_trimming.fastq\n",
      "working with F1L_final_trimming.fastq\n",
      "working with F2B_final_trimming.fastq\n",
      "working with F2L_final_trimming.fastq\n",
      "working with F3B_final_trimming.fastq\n",
      "working with F3L_final_trimming.fastq\n",
      "working with M1B_final_trimming.fastq\n",
      "working with M1L_final_trimming.fastq\n",
      "working with M2B_final_trimming.fastq\n",
      "working with M2L_final_trimming.fastq\n",
      "working with M4B_final_trimming.fastq\n",
      "working with M4L_final_trimming.fastq\n"
     ]
    }
   ],
   "source": [
    "! bash scripts/count.sh"
   ]
  },
  {
   "cell_type": "markdown",
   "id": "d3e2b080-f229-4386-9c19-ff1742a4ffe7",
   "metadata": {
    "jp-MarkdownHeadingCollapsed": true,
    "tags": []
   },
   "source": [
    "#### <span style=\"color:#4dd98b\"> Select reads for 21, 22 and 24 nt long"
   ]
  },
  {
   "cell_type": "code",
   "execution_count": 1,
   "id": "fe163041-3b44-41c7-9aa9-a8ddbb6fd080",
   "metadata": {
    "tags": []
   },
   "outputs": [
    {
     "name": "stdout",
     "output_type": "stream",
     "text": [
      "cd raw/\n",
      "rm -r fastq/\n",
      "mkdir fastq\n",
      "\n",
      "out=fastq\n",
      "files=sRNA_MGX/trimmed/*.fastq\n",
      "\n",
      "\n",
      "for file in $files\n",
      "do\n",
      "\n",
      "name=$(echo $file | sed -E 's/^sR.*ed\\/(\\w+)_f.*/\\1/g')\n",
      "\n",
      "echo \"WORKING WITH $name\"\n",
      "\n",
      "# Select reads of 21, 22 and 24 in length\n",
      "seqtk comp $file | awk '$2 == 21' | cut -f 1 > 21.list\n",
      "seqtk subseq $file 21.list > $out/${name}_21.fq\n",
      "\n",
      "seqtk comp $file | awk '$2 == 22' | cut -f 1 > 22.list\n",
      "seqtk subseq $file 22.list > $out/${name}_22.fq\n",
      "\n",
      "seqtk comp $file | awk '$2 == 24' | cut -f 1 > 24.list\n",
      "seqtk subseq $file 24.list > $out/${name}_24.fq\n",
      "\n",
      "rm 21.list 22.list 24.list\n",
      "cat ${name}_21.fq ${name}_22.fq ${name}_24.fq > ${name}_dicer.fq \n",
      "rm ${name}_21.fq ${name}_22.fq ${name}_24.fq \n",
      "\n",
      "done"
     ]
    }
   ],
   "source": [
    "! cat scripts/filter_size.sh"
   ]
  },
  {
   "cell_type": "code",
   "execution_count": 4,
   "id": "9ec1a9c9-7fdd-475d-8cb9-762cd54d1325",
   "metadata": {
    "tags": []
   },
   "outputs": [
    {
     "name": "stdout",
     "output_type": "stream",
     "text": [
      "WORKING WITH F1B\n",
      "21-nt sRNAS done\n",
      "22-nt sRNAS done\n",
      "24-nt sRNAS done\n",
      "WORKING WITH F1L\n",
      "21-nt sRNAS done\n",
      "22-nt sRNAS done\n",
      "24-nt sRNAS done\n",
      "WORKING WITH F2B\n",
      "21-nt sRNAS done\n",
      "22-nt sRNAS done\n",
      "24-nt sRNAS done\n",
      "WORKING WITH F2L\n",
      "21-nt sRNAS done\n",
      "22-nt sRNAS done\n",
      "24-nt sRNAS done\n",
      "WORKING WITH F3B\n",
      "21-nt sRNAS done\n",
      "22-nt sRNAS done\n",
      "24-nt sRNAS done\n",
      "WORKING WITH F3L\n",
      "21-nt sRNAS done\n",
      "22-nt sRNAS done\n",
      "24-nt sRNAS done\n",
      "WORKING WITH M1B\n",
      "21-nt sRNAS done\n",
      "22-nt sRNAS done\n",
      "24-nt sRNAS done\n",
      "WORKING WITH M1L\n",
      "21-nt sRNAS done\n",
      "22-nt sRNAS done\n",
      "24-nt sRNAS done\n",
      "WORKING WITH M2B\n",
      "21-nt sRNAS done\n",
      "22-nt sRNAS done\n",
      "24-nt sRNAS done\n",
      "WORKING WITH M2L\n",
      "21-nt sRNAS done\n",
      "22-nt sRNAS done\n",
      "24-nt sRNAS done\n",
      "WORKING WITH M4B\n",
      "21-nt sRNAS done\n",
      "22-nt sRNAS done\n",
      "24-nt sRNAS done\n",
      "WORKING WITH M4L\n",
      "21-nt sRNAS done\n",
      "22-nt sRNAS done\n",
      "24-nt sRNAS done\n"
     ]
    }
   ],
   "source": [
    "! bash scripts/filter_size.sh"
   ]
  },
  {
   "cell_type": "code",
   "execution_count": 6,
   "id": "64d09cbd-10ab-4086-9f96-62a493a4e956",
   "metadata": {
    "tags": []
   },
   "outputs": [
    {
     "name": "stdout",
     "output_type": "stream",
     "text": [
      "21\n",
      "22\n",
      "24\n",
      "21\n",
      "22\n",
      "24\n"
     ]
    }
   ],
   "source": [
    "#check lengths after filtering\n",
    "! seqtk comp raw/fastq/M2B_dicer.fq | cut -f 2 | sort | uniq \n",
    "! seqtk comp raw/fastq/F1L_dicer.fq | cut -f 2 | sort | uniq "
   ]
  },
  {
   "cell_type": "markdown",
   "id": "d2bd5d08-5cab-4bf8-a4a0-6a938e7191e8",
   "metadata": {
    "tags": []
   },
   "source": [
    "# <span style=\"color:#4dd98b\"> Alingment and quantification"
   ]
  },
  {
   "cell_type": "markdown",
   "id": "a5f07493-967a-4b1f-8634-a7110453514b",
   "metadata": {},
   "source": [
    "We followed the Shortstack workflow,\n",
    "Only uniquely-aligned reads are used as weights for placement of multi-mapped reads."
   ]
  },
  {
   "cell_type": "markdown",
   "id": "04a9cfbb-4936-4a2c-9d75-afa1046e329b",
   "metadata": {},
   "source": [
    "conda activate ShortStack4 # ShortStack only works under its environment\n",
    "\n",
    "ShortStack --genomefile ../genome/silat.fa --readfile fastq/*.fq --threads 8 --knownRNAs caryophyllaceae_mirnas.fa --mmap u"
   ]
  },
  {
   "cell_type": "code",
   "execution_count": 26,
   "id": "e1b75220-a597-4af3-ab49-162cd4979685",
   "metadata": {
    "tags": []
   },
   "outputs": [
    {
     "name": "stdout",
     "output_type": "stream",
     "text": [
      ">chr1\n",
      ">chr2\n",
      ">chr3\n",
      ">chr4\n",
      ">chr5\n",
      ">chr6\n",
      ">chr7\n",
      ">chr8\n",
      ">chr9\n",
      ">chr10\n",
      ">chr11\n",
      ">chr12\n"
     ]
    }
   ],
   "source": [
    "# Remove Y chromosome from genome and map Females\n",
    "! grep \">\" genome/silat.fa | grep -v \"scaffold\" | sed 's/>//' > genome/no_y.list\n",
    "! seqtk subseq genome/silat.fa genome/no_y.list > genome/no_y.fa\n",
    "! grep \">\" genome/no_y.fa"
   ]
  },
  {
   "cell_type": "markdown",
   "id": "54d46e2c-2091-4d30-9fb6-cfa9ec88e493",
   "metadata": {},
   "source": [
    "### <span style=\"color:#4dd98b\"> Aling females to the genome without Y (ran inside raw/ and under the conda envirnonment of ShortStack$)\n",
    "ShortStack --genomefile ../genome/no_y.fa --readfile fastq/F* --threads 8 --align_only --outdir females_no_y"
   ]
  },
  {
   "cell_type": "markdown",
   "id": "f7182a01-0a43-43fb-b373-bb5997fe204b",
   "metadata": {},
   "source": [
    "### <span style=\"color:#4dd98b\">Merge females (without y) and males (with y) (Inside SS environment so it works)\n",
    "\n",
    "samtools merge -r -@ 12 -f -o raw/merged_females-y.bam -b raw/bam.list\n",
    "    \n",
    "#### <span style=\"color:#4dd98b\"> First, PTGS (21-22 nt), asking for _de novo_ and template-based miRNA annotation\n",
    "    \n",
    "ShortStack --genomefile ../genome/silat.fa --bamfile merged_females-y.bam --threads 8 --outdir only_21-22_known_de_novo_f-y_try5 --dicermax 22 --mmap u --dn_mirna --knownRNAs caryophyllaceae_mirnas.fa \n",
    "\n",
    "#### <span style=\"color:#4dd98b\"> Then, RDdM (24 nt), no miRNA identification\n",
    "    \n",
    "ShortStack --genomefile ../genome/silat.fa --bamfile merged_females-y.bam --threads 8 --outdir only_24_f-y --dicermin 23 --mmap u "
   ]
  },
  {
   "cell_type": "markdown",
   "id": "d7693422-9598-4d1a-ae6a-6a10fadf0b98",
   "metadata": {
    "tags": []
   },
   "source": [
    "### <span style=\"color:#4dd98b\"> Depth quantification"
   ]
  },
  {
   "cell_type": "code",
   "execution_count": null,
   "id": "ad243384-dd6a-454b-943f-2cec6d34a25e",
   "metadata": {
    "tags": []
   },
   "outputs": [],
   "source": [
    "! bash scripts/mapping_depth.sh # Output is very heavy"
   ]
  },
  {
   "cell_type": "markdown",
   "id": "c8294ff1-4830-4caf-b610-b9d9d927bc9a",
   "metadata": {},
   "source": [
    "### <span style=\"color:#4dd98b\"> Circos plot"
   ]
  },
  {
   "cell_type": "code",
   "execution_count": 3,
   "id": "1e51098f-8eaa-4e4f-b60e-b11c131499fe",
   "metadata": {
    "tags": []
   },
   "outputs": [],
   "source": [
    "! bedtools makewindows -g chromSizes.txt -w 1000000 > annotation/1mb_windows.bed # create windows"
   ]
  },
  {
   "cell_type": "code",
   "execution_count": 26,
   "id": "ec46314a-215d-4c41-90c1-4a863b44865a",
   "metadata": {
    "tags": []
   },
   "outputs": [
    {
     "name": "stdout",
     "output_type": "stream",
     "text": [
      "[bam_translate] RG tag \"F2B_dicer\" on read \"A00924:314:H5CTHDRX2:2:2260:8621:30953\" encountered with no corresponding entry in header, tag lost. Unknown tags are only reported once per input file for each tag ID.\n",
      "[bam_translate] RG tag \"F3B_dicer\" on read \"A00924:314:H5CTHDRX2:2:2220:25192:21793\" encountered with no corresponding entry in header, tag lost. Unknown tags are only reported once per input file for each tag ID.\n"
     ]
    }
   ],
   "source": [
    "# make merged aligments for each sex\n",
    "! samtools merge -r -@ 12 -f -o raw/female_flower.bam raw/females_no_y/*B_dicer.bam \n",
    "! samtools merge -r -@ 12 -f -o raw/male_flower.bam raw/ShortStack_results/M*B_dicer.bam"
   ]
  },
  {
   "cell_type": "code",
   "execution_count": 22,
   "id": "3e46919e-f30e-4146-a9d8-e035ef250aa1",
   "metadata": {
    "tags": []
   },
   "outputs": [
    {
     "name": "stdout",
     "output_type": "stream",
     "text": [
      "rm: cannot remove 'raw/bams_per_length/': No such file or directory\n"
     ]
    }
   ],
   "source": [
    "# get bam for each lenght and individual\n",
    "! rm -r raw/bams_per_length/\n",
    "! mkdir raw/bams_per_length\n",
    "\n",
    "# first 21-22, females\n",
    "! samtools view  -h -e 'length(seq)==21 || length(seq)==22' -@ 12 -o raw/bams_per_length/F1B_ptgs.bam raw/females_no_y/F1B_dicer.bam \n",
    "! samtools view  -h -e 'length(seq)==21 || length(seq)==22' -@ 12 -o raw/bams_per_length/F2B_ptgs.bam raw/females_no_y/F2B_dicer.bam\n",
    "! samtools view  -h -e 'length(seq)==21 || length(seq)==22' -@ 12 -o raw/bams_per_length/F3B_ptgs.bam raw/females_no_y/F3B_dicer.bam \n",
    "\n",
    "# then 24, females\n",
    "! samtools view  -h -e 'length(seq)==24' -@ 12 -o raw/bams_per_length/F1B_rddm.bam raw/females_no_y/F1B_dicer.bam \n",
    "! samtools view  -h -e 'length(seq)==24' -@ 12 -o raw/bams_per_length/F2B_rddm.bam raw/females_no_y/F2B_dicer.bam\n",
    "! samtools view  -h -e 'length(seq)==24' -@ 12 -o raw/bams_per_length/F3B_rddm.bam raw/females_no_y/F3B_dicer.bam \n",
    "\n",
    "# first 21-22, males\n",
    "! samtools view  -h -e 'length(seq)==21 || length(seq)==22' -@ 12 -o raw/bams_per_length/M1B_ptgs.bam raw/ShortStack_results/M1B_dicer.bam\n",
    "! samtools view  -h -e 'length(seq)==21 || length(seq)==22' -@ 12 -o raw/bams_per_length/M2B_ptgs.bam raw/ShortStack_results/M2B_dicer.bam\n",
    "! samtools view  -h -e 'length(seq)==21 || length(seq)==22' -@ 12 -o raw/bams_per_length/M4B_ptgs.bam raw/ShortStack_results/M4B_dicer.bam\n",
    "\n",
    "# then 24, males\n",
    "! samtools view  -h -e 'length(seq)==24' -@ 12 -o raw/bams_per_length/M1B_rddm.bam raw/ShortStack_results/M1B_dicer.bam \n",
    "! samtools view  -h -e 'length(seq)==24' -@ 12 -o raw/bams_per_length/M2B_rddm.bam raw/ShortStack_results/M2B_dicer.bam\n",
    "! samtools view  -h -e 'length(seq)==24' -@ 12 -o raw/bams_per_length/M4B_rddm.bam raw/ShortStack_results/M4B_dicer.bam"
   ]
  },
  {
   "cell_type": "code",
   "execution_count": 9,
   "id": "611981ee-696b-4eae-8884-f0b6d9ef3019",
   "metadata": {
    "tags": []
   },
   "outputs": [],
   "source": [
    "# calculate depth for each individual, only for flower buds and convert it to bed, 21-22 in flowers\n",
    "# females\n",
    "! samtools depth -@ 12 raw/bams_per_length/F*ptgs.bam | awk '{print $1 \"\\t\" $2 \"\\t\" $2 \"\\t\" $3 \"\\t\" $4 \"\\t\" $5}' > raw/depth/females_flowers_ptgs.bed\n",
    "! samtools depth -@ 12 raw/bams_per_length/F*rddm.bam | awk '{print $1 \"\\t\" $2 \"\\t\" $2 \"\\t\" $3 \"\\t\" $4 \"\\t\" $5}' > raw/depth/females_flowers_rddm.bed\n",
    "# males\n",
    "! samtools depth -@ 12 raw/bams_per_length/M*ptgs.bam | awk '{print $1 \"\\t\" $2 \"\\t\" $2 \"\\t\" $3 \"\\t\" $4 \"\\t\" $5}' > raw/depth/males_flowers_ptgs.bed\n",
    "! samtools depth -@ 12 raw/bams_per_length/M*rddm.bam | awk '{print $1 \"\\t\" $2 \"\\t\" $2 \"\\t\" $3 \"\\t\" $4 \"\\t\" $5}' > raw/depth/males_flowers_rddm.bed"
   ]
  },
  {
   "cell_type": "code",
   "execution_count": 5,
   "id": "d2a42ae7-822a-4fb0-b087-ce0168ae4da2",
   "metadata": {
    "tags": []
   },
   "outputs": [
    {
     "name": "stdout",
     "output_type": "stream",
     "text": [
      "____________________ FEMALE 21-22nt _____________________\n",
      "19022354\n",
      "10510431\n",
      "8511923\n",
      "____________________ FEMALE 24nt _____________________\n",
      "35912648\n",
      "19178882\n",
      "16733766\n",
      "____________________ MALE 21-22nt _____________________\n",
      "6486661\n",
      "9227331\n",
      "9622793\n",
      "____________________ MALE 24nt _____________________\n",
      "6737939\n",
      "14716350\n",
      "13959309\n"
     ]
    }
   ],
   "source": [
    "# get the number of mapped reads for the normalization\n",
    "! echo \"____________________ FEMALE 21-22nt _____________________\"\n",
    "! samtools view -c -F 260 -@ 12 raw/bams_per_length/F1B_ptgs.bam\n",
    "! samtools view -c -F 260 -@ 12 raw/bams_per_length/F2B_ptgs.bam\n",
    "! samtools view -c -F 260 -@ 12 raw/bams_per_length/F3B_ptgs.bam\n",
    "! echo \"____________________ FEMALE 24nt _____________________\"\n",
    "! samtools view -c -F 260 -@ 12 raw/bams_per_length/F1B_rddm.bam\n",
    "! samtools view -c -F 260 -@ 12 raw/bams_per_length/F2B_rddm.bam\n",
    "! samtools view -c -F 260 -@ 12 raw/bams_per_length/F3B_rddm.bam\n",
    "! echo \"____________________ MALE 21-22nt _____________________\"\n",
    "! samtools view -c -F 260 -@ 12 raw/bams_per_length/M1B_ptgs.bam\n",
    "! samtools view -c -F 260 -@ 12 raw/bams_per_length/M2B_ptgs.bam\n",
    "! samtools view -c -F 260 -@ 12 raw/bams_per_length/M4B_ptgs.bam\n",
    "! echo \"____________________ MALE 24nt _____________________\"\n",
    "! samtools view -c -F 260 -@ 12 raw/bams_per_length/M1B_rddm.bam\n",
    "! samtools view -c -F 260 -@ 12 raw/bams_per_length/M2B_rddm.bam\n",
    "! samtools view -c -F 260 -@ 12 raw/bams_per_length/M4B_rddm.bam\n"
   ]
  },
  {
   "cell_type": "code",
   "execution_count": 11,
   "id": "f7c1b773-ceb0-46a3-84fc-95231ab0ac53",
   "metadata": {
    "tags": []
   },
   "outputs": [
    {
     "name": "stdout",
     "output_type": "stream",
     "text": [
      "***** WARNING: File annotation/1mb_windows.bed has inconsistent naming convention for record:\n",
      "scaffold_1\t0\t1000000\n",
      "\n",
      "***** WARNING: File annotation/1mb_windows.bed has inconsistent naming convention for record:\n",
      "scaffold_1\t0\t1000000\n",
      "\n",
      "***** WARNING: File annotation/1mb_windows.bed has inconsistent naming convention for record:\n",
      "scaffold_1\t0\t1000000\n",
      "\n",
      "***** WARNING: File annotation/1mb_windows.bed has inconsistent naming convention for record:\n",
      "scaffold_1\t0\t1000000\n",
      "\n",
      "***** WARNING: File annotation/1mb_windows.bed has inconsistent naming convention for record:\n",
      "scaffold_1\t0\t1000000\n",
      "\n",
      "***** WARNING: File annotation/1mb_windows.bed has inconsistent naming convention for record:\n",
      "scaffold_1\t0\t1000000\n",
      "\n",
      "***** WARNING: File annotation/1mb_windows.bed has inconsistent naming convention for record:\n",
      "scaffold_1\t0\t1000000\n",
      "\n",
      "***** WARNING: File annotation/1mb_windows.bed has inconsistent naming convention for record:\n",
      "scaffold_1\t0\t1000000\n",
      "\n"
     ]
    }
   ],
   "source": [
    "# get the window identity, 21-22\n",
    "! bedtools intersect -b annotation/1mb_windows.bed -a raw/depth/females_flowers_ptgs.bed -wb -wa | awk '{print $0 \"\\t\" $7 \"_\" $8 \"_\" $9}' > raw/depth/females_flowers_ptgs.depth\n",
    "! bedtools intersect -b annotation/1mb_windows.bed -a raw/depth/males_flowers_ptgs.bed -wb -wa | awk '{print $0 \"\\t\" $7 \"_\" $8 \"_\" $9}' > raw/depth/males_flowers_ptgs.depth\n",
    "# get the window identity, 24\n",
    "! bedtools intersect -b annotation/1mb_windows.bed -a raw/depth/females_flowers_rddm.bed -wb -wa | awk '{print $0 \"\\t\" $7 \"_\" $8 \"_\" $9}' > raw/depth/females_flowers_rddm.depth\n",
    "! bedtools intersect -b annotation/1mb_windows.bed -a raw/depth/males_flowers_rddm.bed -wb -wa | awk '{print $0 \"\\t\" $7 \"_\" $8 \"_\" $9}' > raw/depth/males_flowers_rddm.depth"
   ]
  },
  {
   "cell_type": "code",
   "execution_count": 15,
   "id": "c191362a-e5c0-452b-a864-1438af39ff38",
   "metadata": {
    "tags": []
   },
   "outputs": [
    {
     "name": "stdout",
     "output_type": "stream",
     "text": [
      "***** WARNING: File annotation/1mb_windows.bed has inconsistent naming convention for record:\n",
      "scaffold_1\t0\t1000000\n",
      "\n",
      "***** WARNING: File annotation/1mb_windows.bed has inconsistent naming convention for record:\n",
      "scaffold_1\t0\t1000000\n",
      "\n"
     ]
    }
   ],
   "source": [
    "# get bed file for TE distribution\n",
    "! cut -f 1,4,5,9 annotation/Slat_v2_Class_I_II_TRF_MITE_sorted.gff > annotation/repeats.bed\n",
    "! bedtools intersect -b annotation/1mb_windows.bed -a annotation/repeats.bed -wb -wa | awk '{print $0 \"\\t\" $7 \"_\" $8 \"_\" $9}' > raw/depth/repeats.bedbed\n",
    "\n",
    "! grep -v \"monomer\" annotation/repeats.bed | grep -v \"(\" | grep -v \"rich\" > annotation/tes.bed "
   ]
  },
  {
   "cell_type": "markdown",
   "id": "4f73a993-5b38-4242-91be-2ec6eb7f9537",
   "metadata": {
    "tags": []
   },
   "source": [
    "# <span style=\"color:#3de2d8\"> RNA-seq analysis"
   ]
  },
  {
   "cell_type": "raw",
   "id": "5303fe2c-abf4-4da1-b5ce-88752531aaee",
   "metadata": {},
   "source": [
    "Raw reads were downloaded from https://www.ebi.ac.uk/ena/browser/view/PRJEB14171\n",
    "Two flower bud samples for each sex were replicated so we merge them together:\n",
    "\n",
    "for two in $(ls | grep \"_2_\"); do one=$(echo $two | sed 's/2_//' ); cat $one $two > combined_${one}; mv $one replicates/${one}; mv $two replicates/${two} ; done"
   ]
  },
  {
   "cell_type": "code",
   "execution_count": null,
   "id": "805b8494-c41e-42db-b418-149843e80f87",
   "metadata": {
    "tags": []
   },
   "outputs": [],
   "source": [
    "# Check quality\n",
    "#! mkdir rna-seq/fastqc\n",
    "#! rna-seq/FastQC/fastqc -t 16 -o rna-seq/fastqc rna-seq/raw/*.gz\n",
    "! multiqc --outdir rna-seq/fastqc rna-seq/fastqc/"
   ]
  },
  {
   "cell_type": "code",
   "execution_count": null,
   "id": "7ef91514-78c2-4a64-adc2-d792ac20fdd8",
   "metadata": {
    "tags": []
   },
   "outputs": [],
   "source": [
    "# Trimming \n",
    "! bash scripts/trimm.sh"
   ]
  },
  {
   "cell_type": "code",
   "execution_count": null,
   "id": "6fa39d93-a141-4da3-82f2-c5f92923642e",
   "metadata": {
    "tags": []
   },
   "outputs": [],
   "source": [
    "! mkdir rna-seq/trimmed/fastqc\n",
    "! rna-seq/FastQC/fastqc -t 16 -o rna-seq/trimmed/fastqc rna-seq/trimmed/*.fastq\n",
    "! multiqc --outdir rna-seq/trimmed/fastqc rna-seq/trimmed/fastqc/"
   ]
  },
  {
   "cell_type": "code",
   "execution_count": 72,
   "id": "a334fc36-2818-4404-aba5-62375c61682a",
   "metadata": {},
   "outputs": [
    {
     "name": "stdout",
     "output_type": "stream",
     "text": [
      "***** WARNING: File annotation/transcripts.bed has inconsistent naming convention for record:\n",
      "scaffold_1\t760283\t762422\tSilat_scaffold_1_Gene.7463\t0\t-\n",
      "\n",
      "***** WARNING: File annotation/transcripts.bed has inconsistent naming convention for record:\n",
      "scaffold_1\t760283\t762422\tSilat_scaffold_1_Gene.7463\t0\t-\n",
      "\n",
      "11609 annotation/overlaps.txt\n",
      "***** WARNING: File annotation/genes.bed has inconsistent naming convention for record:\n",
      "scaffold_1\t760283\t762422\tSilat_scaffold_1_Gene.7463\t0\t-\n",
      "\n",
      "***** WARNING: File annotation/genes.bed has inconsistent naming convention for record:\n",
      "scaffold_1\t760283\t762422\tSilat_scaffold_1_Gene.7463\t0\t-\n",
      "\n"
     ]
    }
   ],
   "source": [
    "# Create bed file for the annotation\n",
    "! cut -f 1-6 -d ' ' annotation/ALLGenesFromVulgarisIntoLatifolia.txt | tail -n +2 | sed -E 's/(\\w+)\\s(\\Ge.+)\\::out.+(\\s.\\s\\w+\\s\\w+)/\\1\\tSilat_\\1_\\2\\t\\3/' | sed -E 's/ /\\t/g' | awk '{print $1 \"\\t\" $4 \"\\t\" $5 \"\\t\" $2 \"\\t\" 0 \"\\t\" $3}' > annotation/transcripts.bed \n",
    "\n",
    "# Identify overlapping annotations\n",
    "! bedtools intersect -a annotation/transcripts.bed -b annotation/transcripts.bed -wb | cut -f 4,10 | awk '{if ($1 != $2) {print $2}}' | sort | uniq > annotation/overlaps.txt\n",
    "! wc -l annotation/overlaps.txt\n",
    "# 11609 overlapping annotations were found !!!!\n",
    "# Nor remove those annotations\n",
    "! awk 'FNR==NR{a[$0];next}{if (!($4 in a)){print}}' annotation/overlaps.txt annotation/transcripts.bed > annotation/genes.bed\n",
    "\n",
    "# Verify they don't overlap anymore\n",
    "! bedtools intersect -a annotation/genes.bed -b annotation/genes.bed -wb | cut -f 4,10 | awk '{if ($1 != $2) {print}}'\n",
    "\n",
    "# 22 loci had the same ID. Some mapped close, others not; others had only different extents but couldn't be removed before before cause they had the same ID\n",
    "# To homogeneize and not loose them, I just selected those that have the longest genomic range\n",
    "! cut -f 4 annotation/genes.bed | sort | uniq -d > annotation/duplicated.list\n",
    "! awk 'FNR==NR{a[$0];next}{if (($4 in a)){print}}' annotation/duplicated.list annotation/transcripts.bed | sort -k4 > annotation/duplicated.tsv\n",
    "! awk '{len[$4] = $3 - $2 > len[$4] ? $3 - $2 : len[$4]; range[$4, len[$4]] = $0} END {for (id in len) print range[id, len[id]]}' annotation/duplicated.tsv | sort -k4 > annotation/duplicated.bed\n",
    "# Now remove all duplicated entries and paste the selected ones\n",
    "! awk 'FNR==NR{a[$0];next}{if (!($4 in a)){print}}' annotation/duplicated.list annotation/genes.bed > annotation/clean_genes.bed\n",
    "! cat annotation/clean_genes.bed annotation/duplicated.bed > annotation/genes.bed\n",
    "# Check no ID is duplicated\n",
    "! cut -f 4 annotation/genes.bed | sort | uniq -d # NO ONE IS NOW!\n",
    "\n",
    "# Get fasta files for genes \n",
    "! bedtools getfasta -nameOnly -fi genome/silat.fa -bed annotation/genes.bed -fo annotation/genes.fa\n",
    "\n",
    "# Clean intermediate files \n",
    "! rm annotation/duplicated* annotation/clean*"
   ]
  },
  {
   "cell_type": "code",
   "execution_count": 71,
   "id": "f22447a7-9096-429e-b1ce-afb9f2e73aa3",
   "metadata": {
    "tags": []
   },
   "outputs": [
    {
     "name": "stdout",
     "output_type": "stream",
     "text": [
      "\n",
      "[build] loading fasta file annotation/genes.fa\n",
      "[build] k-mer length: 31\n",
      "[build] warning: replaced 2293 non-ACGUT characters in the input sequence\n",
      "        with pseudorandom nucleotides\n",
      "[build] counting k-mers ... done.\n",
      "[build] building target de Bruijn graph ...  done \n",
      "[build] creating equivalence classes ...  done\n",
      "[build] target de Bruijn graph has 420049 contigs and contains 60722289 k-mers \n",
      "\n"
     ]
    }
   ],
   "source": [
    "# Build a Kallisto index\n",
    "! kallisto index -i annotation/genes.idx annotation/genes.fa"
   ]
  },
  {
   "cell_type": "code",
   "execution_count": null,
   "id": "0bce50af-0779-492c-a0c7-71834c0a9b15",
   "metadata": {
    "tags": []
   },
   "outputs": [],
   "source": [
    "! bash scripts/kallisto.sh"
   ]
  },
  {
   "cell_type": "code",
   "execution_count": 74,
   "id": "5e54ee9f-5f12-4f97-a2b6-19a1f7ebca77",
   "metadata": {
    "tags": []
   },
   "outputs": [
    {
     "name": "stdout",
     "output_type": "stream",
     "text": [
      "rm: cannot remove 'kallisto/raw_counts.tsv': No such file or directory\n",
      "rm: cannot remove 'kallisto/tpm.tsv': No such file or directory\n",
      "C1_01_B RUNNING\n",
      "C1_01_B DONE\n",
      "_________\n",
      "C1_01_L RUNNING\n",
      "C1_01_L DONE\n",
      "_________\n",
      "C1_03_B RUNNING\n",
      "C1_03_B DONE\n",
      "_________\n",
      "C1_03_L RUNNING\n",
      "C1_03_L DONE\n",
      "_________\n",
      "C1_04_B_combined RUNNING\n",
      "C1_04_B_combined DONE\n",
      "_________\n",
      "C1_04_L RUNNING\n",
      "C1_04_L DONE\n",
      "_________\n",
      "C1_05_B_combined RUNNING\n",
      "C1_05_B_combined DONE\n",
      "_________\n",
      "C1_05_L RUNNING\n",
      "C1_05_L DONE\n",
      "_________\n",
      "C1_26_B RUNNING\n",
      "C1_26_B DONE\n",
      "_________\n",
      "C1_26_L RUNNING\n",
      "C1_26_L DONE\n",
      "_________\n",
      "C1_27_B RUNNING\n",
      "C1_27_B DONE\n",
      "_________\n",
      "C1_27_L RUNNING\n",
      "C1_27_L DONE\n",
      "_________\n",
      "C1_29_B_combined RUNNING\n",
      "C1_29_B_combined DONE\n",
      "_________\n",
      "C1_29_L RUNNING\n",
      "C1_29_L DONE\n",
      "_________\n",
      "C1_34_B_combined RUNNING\n",
      "C1_34_B_combined DONE\n",
      "_________\n",
      "C1_34_L RUNNING\n",
      "C1_34_L DONE\n",
      "_________\n"
     ]
    }
   ],
   "source": [
    "# Merge results\n",
    "! ls rna-seq/kallisto/ | head -n 16 > rna-seq/kallisto/samples.list\n",
    "# first I manually changed the dir names so it was less messy\n",
    "! bash scripts/merge_kallisto_raw.sh "
   ]
  },
  {
   "cell_type": "markdown",
   "id": "6c91f717-bedc-4ea6-b769-848813e538f5",
   "metadata": {
    "tags": []
   },
   "source": [
    "# <span style=\"color:#3de2d8\"> PTGS"
   ]
  },
  {
   "cell_type": "code",
   "execution_count": 75,
   "id": "b0a0c299-247a-4132-b62d-eeb09371151b",
   "metadata": {
    "tags": []
   },
   "outputs": [],
   "source": [
    "# Add 400bd upstream and downstream (UTR and promoter) strand-wise\n",
    "! bedtools slop -i annotation/genes.bed -g chromSizes.txt -b 400 -s > annotation/full_genes.bed"
   ]
  },
  {
   "cell_type": "code",
   "execution_count": null,
   "id": "8fce2bb1-5f08-4188-a20f-ad92e25eda8f",
   "metadata": {},
   "outputs": [],
   "source": [
    "# Benchmark for PTGS, get the intersections for the DE\n",
    "! bedtools intersect -a results/differential_expression/sex_biased_flowers_sbge.bed -b results/differential_expression/sex_biased_flowers_ptgs.bed -wa -wb | cut -f 4,11 > results/overlaps/flowers.tsv\n",
    "! bedtools intersect -a results/differential_expression/sex_biased_leaves_sbge.bed -b results/differential_expression/sex_biased_leaves_ptgs.bed -wa -wb | cut -f 4,11 > results/overlaps/leaves.tsv\n",
    "! bedtools intersect -a results/differential_expression/tissue_biased_females_sbge.bed -b results/differential_expression/tissue_biased_females_ptgs.bed -wa -wb | cut -f 4,11 > results/overlaps/females.tsv\n",
    "! bedtools intersect -a results/differential_expression/tissue_biased_males_sbge.bed -b results/differential_expression/tissue_biased_males_ptgs.bed -wa -wb | cut -f 4,11 > results/overlaps/males.tsv"
   ]
  },
  {
   "cell_type": "code",
   "execution_count": 30,
   "id": "7893ab30-4d96-490e-aff4-9b8198711cf5",
   "metadata": {
    "tags": []
   },
   "outputs": [],
   "source": [
    "# create a bed file for the srna clusters\n",
    "! awk '{print $3 \"\\t\" $4 \"\\t\" $5 \"\\t\" $2}' raw/only_21-22_known_de_novo_f-y/Results.txt | tail -n +2 > annotation/ptgs.bed"
   ]
  },
  {
   "cell_type": "code",
   "execution_count": 40,
   "id": "ee8ee161-40ec-4a2a-b99e-4d786cafe00f",
   "metadata": {
    "tags": []
   },
   "outputs": [
    {
     "name": "stdout",
     "output_type": "stream",
     "text": [
      "BIASED GENES VS BIASED SRNAS\n",
      "***** WARNING: File results/differential_expression/sex_biased_flowers_ptgs.bed has inconsistent naming convention for record:\n",
      "scaffold_1\t205595\t205995\tCluster_44358\tAUAACUCAAACUAGCUAGAUACAC\t.\tN\tsex_biased_flowers_ptgs\n",
      "\n",
      "***** WARNING: File results/differential_expression/sex_biased_flowers_ptgs.bed has inconsistent naming convention for record:\n",
      "scaffold_1\t205595\t205995\tCluster_44358\tAUAACUCAAACUAGCUAGAUACAC\t.\tN\tsex_biased_flowers_ptgs\n",
      "\n",
      "10\n",
      "UNBIASED GENES VS BIASED SRNAS\n",
      "***** WARNING: File results/differential_expression/sex_biased_flowers_ptgs.bed has inconsistent naming convention for record:\n",
      "scaffold_1\t205595\t205995\tCluster_44358\tAUAACUCAAACUAGCUAGAUACAC\t.\tN\tsex_biased_flowers_ptgs\n",
      "\n",
      "***** WARNING: File results/differential_expression/sex_biased_flowers_ptgs.bed has inconsistent naming convention for record:\n",
      "scaffold_1\t205595\t205995\tCluster_44358\tAUAACUCAAACUAGCUAGAUACAC\t.\tN\tsex_biased_flowers_ptgs\n",
      "\n",
      "32\n",
      "BIASED GENES VS UNBIASED SRNAS\n",
      "***** WARNING: File /dev/fd/63 has inconsistent naming convention for record:\n",
      "scaffold_1\t4556571\t4556979\tCluster_44362\n",
      "\n",
      "***** WARNING: File /dev/fd/63 has inconsistent naming convention for record:\n",
      "scaffold_1\t4556571\t4556979\tCluster_44362\n",
      "\n",
      "758\n",
      "UNBIASED GENES VS UNBIASED SRNAS\n",
      "***** WARNING: File /dev/fd/62 has inconsistent naming convention for record:\n",
      "scaffold_1\t4556571\t4556979\tCluster_44362\n",
      "\n",
      "***** WARNING: File /dev/fd/62 has inconsistent naming convention for record:\n",
      "scaffold_1\t4556571\t4556979\tCluster_44362\n",
      "\n",
      "1764\n",
      "BIASED GENES WITH NO OVERLAP\n",
      "***** WARNING: File annotation/ptgs.bed has inconsistent naming convention for record:\n",
      "scaffold_1\t205595\t205995\tCluster_44358\n",
      "\n",
      "***** WARNING: File annotation/ptgs.bed has inconsistent naming convention for record:\n",
      "scaffold_1\t205595\t205995\tCluster_44358\n",
      "\n",
      "980\n",
      "UNBIASED GENES WITH NO OVERLAP\n",
      "***** WARNING: File annotation/ptgs.bed has inconsistent naming convention for record:\n",
      "scaffold_1\t205595\t205995\tCluster_44358\n",
      "\n",
      "***** WARNING: File annotation/ptgs.bed has inconsistent naming convention for record:\n",
      "scaffold_1\t205595\t205995\tCluster_44358\n",
      "\n",
      "11328\n"
     ]
    }
   ],
   "source": [
    "# chi-square calculations. FLOWERS\n",
    "! echo \"BIASED GENES VS BIASED SRNAS\"\n",
    "! bedtools intersect -a results/differential_expression/sex_biased_flowers_sbge.bed -b results/differential_expression/sex_biased_flowers_ptgs.bed -wa -wb | cut -f 4 | sort | uniq | wc -l\n",
    "\n",
    "# create lists of unbiased elements\n",
    "! diff <(cut -f 4 annotation/genes.bed | sort) <(cut -f 4 results/differential_expression/sex_biased_flowers_sbge.bed | sort) | grep \"Silat\" | sed 's/< //g' > list.unbiased.genes\n",
    "! diff <(cut -f 2 raw/only_21-22_known_de_novo_f-y/Results.txt | sort) <(cut -f 4 results/differential_expression/sex_biased_flowers_ptgs.bed | sort) | grep \"Cluster\" | sed 's/< //g' > list.unbiased.srnas\n",
    "# intersect and count number of genes\n",
    "\n",
    "! echo \"UNBIASED GENES VS BIASED SRNAS\"\n",
    "! bedtools intersect -a <(awk 'FNR==NR{a[$0];next}{if (($4 in a)){print}}' list.unbiased.genes annotation/genes.bed) -b results/differential_expression/sex_biased_flowers_ptgs.bed | cut -f 4 | sort | uniq | wc -l\n",
    "\n",
    "! echo \"BIASED GENES VS UNBIASED SRNAS\"\n",
    "! bedtools intersect -a results/differential_expression/sex_biased_flowers_sbge.bed -b <(awk 'FNR==NR{a[$0];next}{if (($4 in a)){print}}' list.unbiased.srnas annotation/ptgs.bed) | cut -f 4 | sort | uniq | wc -l\n",
    "\n",
    "! echo \"UNBIASED GENES VS UNBIASED SRNAS\"\n",
    "! bedtools intersect -a <(awk 'FNR==NR{a[$0];next}{if (($4 in a)){print}}' list.unbiased.genes annotation/genes.bed) -b <(awk 'FNR==NR{a[$0];next}{if (($4 in a)){print}}' list.unbiased.srnas annotation/ptgs.bed) | cut -f 4 | sort | uniq | wc -l\n",
    "\n",
    "! rm list.unbiased*"
   ]
  },
  {
   "cell_type": "code",
   "execution_count": 37,
   "id": "80b85706-688c-494a-870b-9fcb5c051b2a",
   "metadata": {
    "tags": []
   },
   "outputs": [
    {
     "name": "stdout",
     "output_type": "stream",
     "text": [
      "BIASED GENES VS BIASED SRNAS\n",
      "***** WARNING: File results/differential_expression/sex_biased_leaves_ptgs.bed has inconsistent naming convention for record:\n",
      "scaffold_1\t205595\t205995\tCluster_44358\tAUAACUCAAACUAGCUAGAUACAC\t.\tN\tsex_biased_leaves_ptgs\n",
      "\n",
      "***** WARNING: File results/differential_expression/sex_biased_leaves_ptgs.bed has inconsistent naming convention for record:\n",
      "scaffold_1\t205595\t205995\tCluster_44358\tAUAACUCAAACUAGCUAGAUACAC\t.\tN\tsex_biased_leaves_ptgs\n",
      "\n",
      "3\n",
      "UNBIASED GENES VS BIASED SRNAS\n",
      "***** WARNING: File results/differential_expression/sex_biased_leaves_ptgs.bed has inconsistent naming convention for record:\n",
      "scaffold_1\t205595\t205995\tCluster_44358\tAUAACUCAAACUAGCUAGAUACAC\t.\tN\tsex_biased_leaves_ptgs\n",
      "\n",
      "***** WARNING: File results/differential_expression/sex_biased_leaves_ptgs.bed has inconsistent naming convention for record:\n",
      "scaffold_1\t205595\t205995\tCluster_44358\tAUAACUCAAACUAGCUAGAUACAC\t.\tN\tsex_biased_leaves_ptgs\n",
      "\n",
      "27\n",
      "BIASED GENES VS UNBIASED SRNAS\n",
      "***** WARNING: File /dev/fd/63 has inconsistent naming convention for record:\n",
      "scaffold_1\t3254854\t3255458\tCluster_44360\n",
      "\n",
      "***** WARNING: File /dev/fd/63 has inconsistent naming convention for record:\n",
      "scaffold_1\t3254854\t3255458\tCluster_44360\n",
      "\n",
      "38\n",
      "UNBIASED GENES VS UNBIASED SRNAS\n",
      "***** WARNING: File /dev/fd/62 has inconsistent naming convention for record:\n",
      "scaffold_1\t3254854\t3255458\tCluster_44360\n",
      "\n",
      "***** WARNING: File /dev/fd/62 has inconsistent naming convention for record:\n",
      "scaffold_1\t3254854\t3255458\tCluster_44360\n",
      "\n",
      "2220\n"
     ]
    }
   ],
   "source": [
    "# chi-square calculations. LEAVES\n",
    "! echo \"BIASED GENES VS BIASED SRNAS\"\n",
    "! bedtools intersect -a results/differential_expression/sex_biased_leaves_sbge.bed -b results/differential_expression/sex_biased_leaves_ptgs.bed -wa -wb | cut -f 4 | sort | uniq | wc -l\n",
    "\n",
    "# create lists of unbiased elements\n",
    "! diff <(cut -f 4 annotation/genes.bed | sort) <(cut -f 4 results/differential_expression/sex_biased_leaves_sbge.bed | sort) | grep \"Silat\" | sed 's/< //g' > list.unbiased.genes\n",
    "! diff <(cut -f 2 raw/only_21-22_known_de_novo_f-y/Results.txt | sort) <(cut -f 4 results/differential_expression/sex_biased_leaves_ptgs.bed | sort) | grep \"Cluster\" | sed 's/< //g' > list.unbiased.srnas\n",
    "# intersect and count number of genes\n",
    "\n",
    "! echo \"UNBIASED GENES VS BIASED SRNAS\"\n",
    "! bedtools intersect -a <(awk 'FNR==NR{a[$0];next}{if (($4 in a)){print}}' list.unbiased.genes annotation/genes.bed) -b results/differential_expression/sex_biased_leaves_ptgs.bed | cut -f 4 | sort | uniq | wc -l\n",
    "\n",
    "! echo \"BIASED GENES VS UNBIASED SRNAS\"\n",
    "! bedtools intersect -a results/differential_expression/sex_biased_leaves_sbge.bed -b <(awk 'FNR==NR{a[$0];next}{if (($4 in a)){print}}' list.unbiased.srnas annotation/ptgs.bed) | cut -f 4 | sort | uniq | wc -l\n",
    "\n",
    "! echo \"UNBIASED GENES VS UNBIASED SRNAS\"\n",
    "! bedtools intersect -a <(awk 'FNR==NR{a[$0];next}{if (($4 in a)){print}}' list.unbiased.genes annotation/genes.bed) -b <(awk 'FNR==NR{a[$0];next}{if (($4 in a)){print}}' list.unbiased.srnas annotation/ptgs.bed) | cut -f 4 | sort | uniq | wc -l\n",
    "\n",
    "! rm list.unbiased*"
   ]
  },
  {
   "cell_type": "markdown",
   "id": "4a60c8f4-c989-4438-9784-598bff22ebfc",
   "metadata": {
    "tags": []
   },
   "source": [
    "### <span style=\"color:#3de2d8\"> Looking for precursors"
   ]
  },
  {
   "cell_type": "code",
   "execution_count": 89,
   "id": "55459d4a-7a1e-4bd6-bca0-5d0f3b772c5c",
   "metadata": {
    "tags": []
   },
   "outputs": [
    {
     "name": "stdout",
     "output_type": "stream",
     "text": [
      "\n",
      "Converted 12 tab-delimited lines to FASTA format\n",
      "Total sequence length: 598\n",
      "\n"
     ]
    }
   ],
   "source": [
    "# Get fasta sequences from the overlapping clusters\n",
    "#! awk 'FNR==NR{a[$0];next}{if (($2 in a)){print}}' <(cut -f 2 results/overlaps/flowers.tsv | sort | uniq) raw/only_21-22_known_de_novo_f-y/Results.txt | awk '{print $2 \"\\t\" \"21-22\" \"\\t\" $11 \"NNNN\"; system(\"echo \" $11 \"| rev\")}' > temp.tab\n",
    "\n",
    "# I mannually removed the line breaks that were introduced with awk\n",
    "! perl -e ' $len=0; while(<>) { s/\\r?\\n//; @F=split /\\t/, $_; print \">$F[0]\"; if (length($F[1])) { print \" $F[1]\" } print \"\\n\"; $s=$F[2]; $len+= length($s); $s=~s/.{60}(?=.)/$&\\n/g; print \"$s\\n\"; } warn \"\\nConverted $. tab-delimited lines to FASTA format\\nTotal sequence length: $len\\n\\n\"; ' temp.tab > results/overlaps/srnas_hairpins_flowers.fa\n",
    "\n",
    "! rm temp.tab"
   ]
  },
  {
   "cell_type": "code",
   "execution_count": 92,
   "id": "23cbf1b7-66a7-4c8c-a680-16c0a20e2062",
   "metadata": {
    "tags": []
   },
   "outputs": [
    {
     "name": "stdout",
     "output_type": "stream",
     "text": [
      "\n",
      "Converted 6 tab-delimited lines to FASTA format\n",
      "Total sequence length: 306\n",
      "\n"
     ]
    }
   ],
   "source": [
    "# Now for leaves\n",
    "#! awk 'FNR==NR{a[$0];next}{if (($2 in a)){print}}' <(cut -f 2 results/overlaps/leaves.tsv | sort | uniq) raw/only_21-22_known_de_novo_f-y/Results.txt | awk '{print $2 \"\\t\" \"21-22\" \"\\t\" $11 \"NNNN\"; system(\"echo \" $11 \"| rev\")}' > temp.tab\n",
    "\n",
    "# I mannually removed the line breaks that were introduced with awk\n",
    "! perl -e ' $len=0; while(<>) { s/\\r?\\n//; @F=split /\\t/, $_; print \">$F[0]\"; if (length($F[1])) { print \" $F[1]\" } print \"\\n\"; $s=$F[2]; $len+= length($s); $s=~s/.{60}(?=.)/$&\\n/g; print \"$s\\n\"; } warn \"\\nConverted $. tab-delimited lines to FASTA format\\nTotal sequence length: $len\\n\\n\"; ' temp.tab > results/overlaps/srnas_hairpins_leaves.fa\n",
    "\n",
    "! rm temp.tab"
   ]
  },
  {
   "cell_type": "code",
   "execution_count": 90,
   "id": "9cb7c036-316f-4a43-bc28-b702dda81f0b",
   "metadata": {
    "tags": []
   },
   "outputs": [
    {
     "name": "stdout",
     "output_type": "stream",
     "text": [
      "\n",
      "\n",
      "Building a new DB, current time: 05/11/2023 16:55:31\n",
      "New DB name:   /home/eddy/silene/genome/silat.fa\n",
      "New DB title:  genome/silat.fa\n",
      "Sequence type: Nucleotide\n",
      "Keep MBits: T\n",
      "Maximum file size: 1000000000B\n",
      "Adding sequences from FASTA; added 19 sequences in 19.2123 seconds.\n",
      "\n",
      "\n"
     ]
    }
   ],
   "source": [
    "# index genome for blast\n",
    "! makeblastdb -in genome/silat.fa -dbtype nucl"
   ]
  },
  {
   "cell_type": "code",
   "execution_count": 100,
   "id": "ae1d78fb-6dd5-4b6e-a732-e26bc0000218",
   "metadata": {
    "tags": []
   },
   "outputs": [
    {
     "name": "stdout",
     "output_type": "stream",
     "text": [
      "CFastaReader: Hyphens are invalid and will be ignored around line 2\n"
     ]
    }
   ],
   "source": [
    "! blastn -db genome/silat.fa -query results/overlaps/srnas_hairpins_flowers.fa -out results/overlaps/srnas_hairpins_flowers.blast\n",
    "! blastn -db genome/silat.fa -query results/overlaps/srnas_hairpins_leaves.fa -out results/overlaps/srnas_hairpins_leaves.blast"
   ]
  }
 ],
 "metadata": {
  "kernelspec": {
   "display_name": "Python 3 (ipykernel)",
   "language": "python",
   "name": "python3"
  },
  "language_info": {
   "codemirror_mode": {
    "name": "ipython",
    "version": 3
   },
   "file_extension": ".py",
   "mimetype": "text/x-python",
   "name": "python",
   "nbconvert_exporter": "python",
   "pygments_lexer": "ipython3",
   "version": "3.10.0"
  }
 },
 "nbformat": 4,
 "nbformat_minor": 5
}
