{
 "cells": [
  {
   "cell_type": "markdown",
   "id": "26ee1080-01a3-462b-8044-3ab8db6e062c",
   "metadata": {},
   "source": [
    "![image](silene.jpeg)"
   ]
  },
  {
   "cell_type": "markdown",
   "id": "870e89a6-d86f-41a9-882f-7945f5b8c403",
   "metadata": {},
   "source": [
    "# sRNA profiles of flower dimorphism in _Silene latifolia_"
   ]
  },
  {
   "cell_type": "markdown",
   "id": "44ac18a2-4044-4ab2-a935-d876b2375967",
   "metadata": {},
   "source": [
    "#### Eddy J. Mendoza-Galindo\n",
    "#### Advisor: Aline Muyle, CEFE Montpellier\n",
    "June 2023"
   ]
  },
  {
   "cell_type": "markdown",
   "id": "d2bd5d08-5cab-4bf8-a4a0-6a938e7191e8",
   "metadata": {
    "tags": []
   },
   "source": [
    "# <span style=\"color:#4dd98b\"> Alingment and quantification"
   ]
  },
  {
   "cell_type": "code",
   "execution_count": 5,
   "id": "d3b168fb-458d-40b7-868e-887760abe68a",
   "metadata": {
    "tags": []
   },
   "outputs": [
    {
     "name": "stdout",
     "output_type": "stream",
     "text": [
      "cd raw/sRNA_MGX/trimmed/\n",
      "for file in *.fastq\n",
      "do\n",
      "echo \"working with $file\"\n",
      "perl -e ' $count=0; $len=0; while(<>) { s/\\r?\\n//; s/\\t/ /g; if (s/^@//) { if ($. != 1) { print \"\\n\" } s/ |$/\\t/; $count++; $_ .= \"\\t\"; } else { s/ //g; $len += length($_) } print $_; } print \"\\n\"; ' $file | sed -E 's/^.+\\t(\\w+)\\+.*$/\\1/g' | perl -e ' $col=0; while (<>) { s/\\r?\\n//; @F = split /\\t/, $_; $len = length($F[$col]); print \"$_\\t$len\\n\" }; ' | awk '$2 ~ /(21|22|24)/ ' > ${file}_count.tsv\n",
      "done\n"
     ]
    }
   ],
   "source": [
    "! cat scripts/count.sh"
   ]
  },
  {
   "cell_type": "code",
   "execution_count": 6,
   "id": "0b315168-e755-4dfd-8fe4-73eac7ca5795",
   "metadata": {},
   "outputs": [
    {
     "name": "stdout",
     "output_type": "stream",
     "text": [
      "working with F1B_final_trimming.fastq\n",
      "working with F1L_final_trimming.fastq\n",
      "working with F2B_final_trimming.fastq\n",
      "working with F2L_final_trimming.fastq\n",
      "working with F3B_final_trimming.fastq\n",
      "working with F3L_final_trimming.fastq\n",
      "working with M1B_final_trimming.fastq\n",
      "working with M1L_final_trimming.fastq\n",
      "working with M2B_final_trimming.fastq\n",
      "working with M2L_final_trimming.fastq\n",
      "working with M4B_final_trimming.fastq\n",
      "working with M4L_final_trimming.fastq\n"
     ]
    }
   ],
   "source": [
    "! bash scripts/count.sh"
   ]
  },
  {
   "cell_type": "markdown",
   "id": "54d46e2c-2091-4d30-9fb6-cfa9ec88e493",
   "metadata": {},
   "source": [
    "### <span style=\"color:#4dd98b\"> Alingment, females without Y"
   ]
  },
  {
   "cell_type": "code",
   "execution_count": 2,
   "id": "e1b75220-a597-4af3-ab49-162cd4979685",
   "metadata": {
    "tags": []
   },
   "outputs": [
    {
     "name": "stdout",
     "output_type": "stream",
     "text": [
      ">chr1\n",
      ">chr2\n",
      ">chr3\n",
      ">chr4\n",
      ">chr5\n",
      ">chr6\n",
      ">chr7\n",
      ">chr8\n",
      ">chr9\n",
      ">chr10\n",
      ">chr11\n",
      ">chr12\n"
     ]
    }
   ],
   "source": [
    "# Remove Y chromosome from genome and map Females\n",
    "! grep \">\" genome/genome3.fa | grep -v \"scaffold\" | sed 's/>//' > genome/no_y.list\n",
    "! seqtk subseq genome/genome3.fa genome/no_y.list > genome/no_y.fa\n",
    "! grep \">\" genome/no_y.fa"
   ]
  },
  {
   "cell_type": "raw",
   "id": "81665a40-041c-4e24-8481-0ef0848b5b70",
   "metadata": {},
   "source": [
    "# ran alingment inside for_paper/ and under the conda envirnonment of ShortStacks\n",
    "conda activate ShortStack4\n",
    "ShortStack --genomefile genome/no_y.fa --readfile ../raw/fastq/F* --threads 8 --align_only --outdir females_no_y"
   ]
  },
  {
   "cell_type": "raw",
   "id": "964ba432-1e9b-4b72-8298-a1c270849a62",
   "metadata": {},
   "source": [
    "# aling males\n",
    "ShortStack --genomefile genome/genome3.fa --readfile ../raw/fastq/M* --threads 8 --align_only --outdir males"
   ]
  },
  {
   "cell_type": "code",
   "execution_count": 8,
   "id": "f573f23f-27fa-4f8c-9c39-3416533b6bd2",
   "metadata": {},
   "outputs": [],
   "source": [
    "# create a list file of the bams\n",
    "! ls females_no_y/F*.bam > bam.list\n",
    "! ls males/M*.bam >> bam.list"
   ]
  },
  {
   "cell_type": "markdown",
   "id": "f7182a01-0a43-43fb-b373-bb5997fe204b",
   "metadata": {},
   "source": [
    "### <span style=\"color:#4dd98b\">Merge females (without y) and males (with y) (Inside the conda ShortStack4 environment so it works)\n",
    "\n",
    "samtools merge -r -@ 12 -f -o merged.bam -b bam.list\n",
    "    \n",
    "#### <span style=\"color:#4dd98b\"> First, PTGS (21-22 nt), asking for _de novo_ and template-based miRNA annotation\n",
    "    \n",
    "ShortStack --genomefile genome/genome3.fa --bamfile merged.bam --threads 8 --outdir only_21-22_known_de_novo_f-y --dicermax 22 --mmap u --dn_mirna --knownRNAs ../raw/caryophyllaceae_mirnas.fa \n",
    "\n",
    "#### <span style=\"color:#4dd98b\"> Then, RDdM (24 nt), no miRNA identification\n",
    "    \n",
    "ShortStack --genomefile genome/genome3.fa --bamfile merged.bam --threads 8 --outdir only_24_f-y --dicermin 23 --mmap u "
   ]
  },
  {
   "cell_type": "markdown",
   "id": "c8294ff1-4830-4caf-b610-b9d9d927bc9a",
   "metadata": {
    "tags": []
   },
   "source": [
    "### <span style=\"color:#4dd98b\"> Depth Flowers"
   ]
  },
  {
   "cell_type": "code",
   "execution_count": 1,
   "id": "3e46919e-f30e-4146-a9d8-e035ef250aa1",
   "metadata": {
    "tags": []
   },
   "outputs": [],
   "source": [
    "# get bam for each lenght and individual\n",
    "! rm -r raw/bams_per_length/\n",
    "! mkdir raw/bams_per_length\n",
    "\n",
    "# first 21-22, females\n",
    "! samtools view  -h -e 'length(seq)==21 || length(seq)==22' -@ 12 -o raw/bams_per_length/F1B_ptgs.bam females_no_y/F1B_dicer.bam \n",
    "! samtools view  -h -e 'length(seq)==21 || length(seq)==22' -@ 12 -o raw/bams_per_length/F2B_ptgs.bam females_no_y/F2B_dicer.bam\n",
    "! samtools view  -h -e 'length(seq)==21 || length(seq)==22' -@ 12 -o raw/bams_per_length/F3B_ptgs.bam females_no_y/F3B_dicer.bam \n",
    "\n",
    "# then 24, females\n",
    "! samtools view  -h -e 'length(seq)==24' -@ 12 -o raw/bams_per_length/F1B_rddm.bam females_no_y/F1B_dicer.bam \n",
    "! samtools view  -h -e 'length(seq)==24' -@ 12 -o raw/bams_per_length/F2B_rddm.bam females_no_y/F2B_dicer.bam\n",
    "! samtools view  -h -e 'length(seq)==24' -@ 12 -o raw/bams_per_length/F3B_rddm.bam females_no_y/F3B_dicer.bam \n",
    "\n",
    "# first 21-22, males\n",
    "! samtools view  -h -e 'length(seq)==21 || length(seq)==22' -@ 12 -o raw/bams_per_length/M1B_ptgs.bam males/M1B_dicer.bam\n",
    "! samtools view  -h -e 'length(seq)==21 || length(seq)==22' -@ 12 -o raw/bams_per_length/M2B_ptgs.bam males/M2B_dicer.bam\n",
    "! samtools view  -h -e 'length(seq)==21 || length(seq)==22' -@ 12 -o raw/bams_per_length/M4B_ptgs.bam males/M4B_dicer.bam\n",
    "\n",
    "# then 24, males\n",
    "! samtools view  -h -e 'length(seq)==24' -@ 12 -o raw/bams_per_length/M1B_rddm.bam males/M1B_dicer.bam \n",
    "! samtools view  -h -e 'length(seq)==24' -@ 12 -o raw/bams_per_length/M2B_rddm.bam males/M2B_dicer.bam\n",
    "! samtools view  -h -e 'length(seq)==24' -@ 12 -o raw/bams_per_length/M4B_rddm.bam males/M4B_dicer.bam"
   ]
  },
  {
   "cell_type": "code",
   "execution_count": 2,
   "id": "611981ee-696b-4eae-8884-f0b6d9ef3019",
   "metadata": {
    "tags": []
   },
   "outputs": [],
   "source": [
    "# calculate depth for each individual, only for flower buds and convert it to bed in flowers\n",
    "# females\n",
    "! samtools depth -@ 12 raw/bams_per_length/F*B_ptgs.bam | awk '{print $1 \"\\t\" $2 \"\\t\" $2 \"\\t\" $3 \"\\t\" $4 \"\\t\" $5}' > raw/depth/females_flowers_ptgs.bed\n",
    "! samtools depth -@ 12 raw/bams_per_length/F*B_rddm.bam | awk '{print $1 \"\\t\" $2 \"\\t\" $2 \"\\t\" $3 \"\\t\" $4 \"\\t\" $5}' > raw/depth/females_flowers_rddm.bed\n",
    "# males\n",
    "! samtools depth -@ 12 raw/bams_per_length/M*B_ptgs.bam | awk '{print $1 \"\\t\" $2 \"\\t\" $2 \"\\t\" $3 \"\\t\" $4 \"\\t\" $5}' > raw/depth/males_flowers_ptgs.bed\n",
    "! samtools depth -@ 12 raw/bams_per_length/M*B_rddm.bam | awk '{print $1 \"\\t\" $2 \"\\t\" $2 \"\\t\" $3 \"\\t\" $4 \"\\t\" $5}' > raw/depth/males_flowers_rddm.bed"
   ]
  },
  {
   "cell_type": "code",
   "execution_count": 5,
   "id": "d2a42ae7-822a-4fb0-b087-ce0168ae4da2",
   "metadata": {
    "tags": []
   },
   "outputs": [
    {
     "name": "stdout",
     "output_type": "stream",
     "text": [
      "____________________ FEMALES FLOWERS_____________________\n",
      "27241167\n",
      "29660632\n",
      "25216360\n",
      "____________________ MALES FLOWERS_____________________\n",
      "13200497\n",
      "23914694\n",
      "23578008\n"
     ]
    }
   ],
   "source": [
    "# get the number of mapped reads for the normalization \n",
    "! echo \"____________________ FEMALES FLOWERS_____________________\"\n",
    "! samtools view -c -F 260 -@ 12 females_no_y/F1B_dicer.bam\n",
    "! samtools view -c -F 260 -@ 12 females_no_y/F2B_dicer.bam \n",
    "! samtools view -c -F 260 -@ 12 females_no_y/F3B_dicer.bam \n",
    "! echo \"____________________ MALES FLOWERS_____________________\"\n",
    "! samtools view -c -F 260 -@ 12 males/M1B_dicer.bam\n",
    "! samtools view -c -F 260 -@ 12 males/M2B_dicer.bam\n",
    "! samtools view -c -F 260 -@ 12 males/M4B_dicer.bam"
   ]
  },
  {
   "cell_type": "code",
   "execution_count": null,
   "id": "042077c2-2744-4068-aaa3-819af5ec1911",
   "metadata": {
    "tags": []
   },
   "outputs": [],
   "source": [
    "# Get depths for each gene\n",
    "# 21/22\n",
    "\n",
    "# Females\n",
    "! bedtools intersect -a raw/depth/females_flowers_ptgs.bed -b annotation/mrnas.bed -wb | cut -f 1-6,10 > raw/depth/flowers_females_gene_depth_ptgs.tsv\n",
    "# Males\n",
    "! bedtools intersect -a raw/depth/males_flowers_ptgs.bed -b annotation/mrnas.bed -wb | cut -f 1-6,10 > raw/depth/flowers_males_gene_depth_ptgs.tsv\n",
    "\n",
    "# 24\n",
    "\n",
    "# Add promoter\n",
    "! bedtools slop -i annotation/mrnas.bed -g chromSizes.txt -l 200 -r 0 -s > annotation/mrnas_plus_promoter.bed\n",
    "\n",
    "# Females\n",
    "! bedtools intersect -a raw/depth/females_flowers_rddm.bed -b annotation/mrnas_plus_promoter.bed -wb | cut -f 1-6,10 > raw/depth/flowers_females_gene_depth_rddm.tsv\n",
    "# Males\n",
    "! bedtools intersect -a raw/depth/males_flowers_rddm.bed -b annotation/mrnas_plus_promoter.bed -wb | cut -f 1-6,10 > raw/depth/flowers_males_gene_depth_rddm.tsv"
   ]
  },
  {
   "cell_type": "markdown",
   "id": "be10e26b-0fbd-4ba5-9785-c37df57733ce",
   "metadata": {
    "tags": []
   },
   "source": [
    "### <span style=\"color:#4dd98b\"> Depth Leaves"
   ]
  },
  {
   "cell_type": "code",
   "execution_count": 11,
   "id": "1e49d10a-b558-47a3-b8d8-d060d57cfe80",
   "metadata": {
    "tags": []
   },
   "outputs": [],
   "source": [
    "# first 21-22, females\n",
    "! samtools view  -h -e 'length(seq)==21 || length(seq)==22' -@ 12 -o raw/bams_per_length/F1L_ptgs.bam females_no_y/F1L_dicer.bam \n",
    "! samtools view  -h -e 'length(seq)==21 || length(seq)==22' -@ 12 -o raw/bams_per_length/F2L_ptgs.bam females_no_y/F2L_dicer.bam\n",
    "! samtools view  -h -e 'length(seq)==21 || length(seq)==22' -@ 12 -o raw/bams_per_length/F3L_ptgs.bam females_no_y/F3L_dicer.bam \n",
    "\n",
    "# then 24, females\n",
    "! samtools view  -h -e 'length(seq)==24' -@ 12 -o raw/bams_per_length/F1L_rddm.bam females_no_y/F1L_dicer.bam \n",
    "! samtools view  -h -e 'length(seq)==24' -@ 12 -o raw/bams_per_length/F2L_rddm.bam females_no_y/F2L_dicer.bam\n",
    "! samtools view  -h -e 'length(seq)==24' -@ 12 -o raw/bams_per_length/F3L_rddm.bam females_no_y/F3L_dicer.bam \n",
    "\n",
    "# first 21-22, males\n",
    "! samtools view  -h -e 'length(seq)==21 || length(seq)==22' -@ 12 -o raw/bams_per_length/M1L_ptgs.bam males/M1L_dicer.bam\n",
    "! samtools view  -h -e 'length(seq)==21 || length(seq)==22' -@ 12 -o raw/bams_per_length/M2L_ptgs.bam males/M2L_dicer.bam\n",
    "! samtools view  -h -e 'length(seq)==21 || length(seq)==22' -@ 12 -o raw/bams_per_length/M4L_ptgs.bam males/M4L_dicer.bam\n",
    "\n",
    "# then 24, males\n",
    "! samtools view  -h -e 'length(seq)==24' -@ 12 -o raw/bams_per_length/M1L_rddm.bam males/M1L_dicer.bam \n",
    "! samtools view  -h -e 'length(seq)==24' -@ 12 -o raw/bams_per_length/M2L_rddm.bam males/M2L_dicer.bam\n",
    "! samtools view  -h -e 'length(seq)==24' -@ 12 -o raw/bams_per_length/M4L_rddm.bam males/M4L_dicer.bam"
   ]
  },
  {
   "cell_type": "code",
   "execution_count": 12,
   "id": "995c9fe7-22aa-4df4-8482-9f12f4a409e5",
   "metadata": {
    "tags": []
   },
   "outputs": [],
   "source": [
    "# Calculate depth for leaves\n",
    "\n",
    "# females\n",
    "! samtools depth -@ 12 raw/bams_per_length/F*L_ptgs.bam | awk '{print $1 \"\\t\" $2 \"\\t\" $2 \"\\t\" $3 \"\\t\" $4 \"\\t\" $5}' > raw/depth/females_leaves_ptgs.bed\n",
    "! samtools depth -@ 12 raw/bams_per_length/F*L_rddm.bam | awk '{print $1 \"\\t\" $2 \"\\t\" $2 \"\\t\" $3 \"\\t\" $4 \"\\t\" $5}' > raw/depth/females_leaves_rddm.bed\n",
    "# males\n",
    "! samtools depth -@ 12 raw/bams_per_length/M*L_ptgs.bam | awk '{print $1 \"\\t\" $2 \"\\t\" $2 \"\\t\" $3 \"\\t\" $4 \"\\t\" $5}' > raw/depth/males_leaves_ptgs.bed\n",
    "! samtools depth -@ 12 raw/bams_per_length/M*L_rddm.bam | awk '{print $1 \"\\t\" $2 \"\\t\" $2 \"\\t\" $3 \"\\t\" $4 \"\\t\" $5}' > raw/depth/males_leaves_rddm.bed"
   ]
  },
  {
   "cell_type": "code",
   "execution_count": 5,
   "id": "8c1c5bba-ee4b-4547-9952-de56ac338697",
   "metadata": {
    "tags": []
   },
   "outputs": [
    {
     "name": "stdout",
     "output_type": "stream",
     "text": [
      "____________________ FEMALES LEAVES_____________________\n",
      "24695806\n",
      "31425418\n",
      "21443081\n",
      "____________________ MALES LEAVES_____________________\n",
      "20502566\n",
      "17763390\n",
      "26371650\n"
     ]
    }
   ],
   "source": [
    "# get the number of mapped reads for the normalization \n",
    "! echo \"____________________ FEMALES LEAVES_____________________\"\n",
    "! samtools view -c -F 260 -@ 12 females_no_y/F1L_dicer.bam\n",
    "! samtools view -c -F 260 -@ 12 females_no_y/F2L_dicer.bam \n",
    "! samtools view -c -F 260 -@ 12 females_no_y/F3L_dicer.bam \n",
    "! echo \"____________________ MALES LEAVES_____________________\"\n",
    "! samtools view -c -F 260 -@ 12 males/M1L_dicer.bam\n",
    "! samtools view -c -F 260 -@ 12 males/M2L_dicer.bam\n",
    "! samtools view -c -F 260 -@ 12 males/M4L_dicer.bam"
   ]
  },
  {
   "cell_type": "code",
   "execution_count": 6,
   "id": "22152fef-0de5-45d3-bf8b-0943c2cddbb2",
   "metadata": {
    "tags": []
   },
   "outputs": [
    {
     "name": "stdout",
     "output_type": "stream",
     "text": [
      "***** WARNING: File results/differential_expression/sex_biased_leaves_sbge.bed has inconsistent naming convention for record:\n",
      "scaffold_1\t44590435\t44591544\tSilat_scaffold_1_Gene.13294\t0\t-\tsex_biased_leaves_sbge\tmale-biased\tSex-biased genes in leaves\n",
      "\n",
      "***** WARNING: File results/differential_expression/sex_biased_leaves_sbge.bed has inconsistent naming convention for record:\n",
      "scaffold_1\t44590435\t44591544\tSilat_scaffold_1_Gene.13294\t0\t-\tsex_biased_leaves_sbge\tmale-biased\tSex-biased genes in leaves\n",
      "\n",
      "***** WARNING: File results/differential_expression/sex_biased_leaves_sbge.bed has inconsistent naming convention for record:\n",
      "scaffold_1\t44590435\t44591544\tSilat_scaffold_1_Gene.13294\t0\t-\tsex_biased_leaves_sbge\tmale-biased\tSex-biased genes in leaves\n",
      "\n",
      "***** WARNING: File results/differential_expression/sex_biased_leaves_sbge.bed has inconsistent naming convention for record:\n",
      "scaffold_1\t44590435\t44591544\tSilat_scaffold_1_Gene.13294\t0\t-\tsex_biased_leaves_sbge\tmale-biased\tSex-biased genes in leaves\n",
      "\n"
     ]
    }
   ],
   "source": [
    "# Get depths for each gene\n",
    "# 21/22\n",
    "\n",
    "# Females\n",
    "! bedtools intersect -a raw/depth/females_leaves_ptgs.bed -b annotation/mrnas.bed -wb | cut -f 1-6,10 > raw/depth/leaves_females_gene_depth_ptgs.tsv\n",
    "# Males\n",
    "! bedtools intersect -a raw/depth/males_leaves_ptgs.bed -b annotation/mrnas.bed -wb | cut -f 1-6,10 > raw/depth/leaves_males_gene_depth_ptgs.tsv\n",
    "\n",
    "# 24 (including promoter)\n",
    "\n",
    "# Females\n",
    "! bedtools intersect -a raw/depth/females_leaves_rddm.bed -b annotation/mrnas_plus_promoter.bed -wb | cut -f 1-6,10 > raw/depth/leaves_females_gene_depth_rddm.tsv\n",
    "# Males\n",
    "! bedtools intersect -a raw/depth/males_leaves_rddm.bed -b annotation/mrnas_plus_promoter.bed -wb | cut -f 1-6,10 > raw/depth/leaves_males_gene_depth_rddm.tsv"
   ]
  },
  {
   "cell_type": "markdown",
   "id": "4f73a993-5b38-4242-91be-2ec6eb7f9537",
   "metadata": {
    "jp-MarkdownHeadingCollapsed": true,
    "tags": []
   },
   "source": [
    "# <span style=\"color:#3de2d8\"> RNA-seq analysis"
   ]
  },
  {
   "cell_type": "raw",
   "id": "a0ab6e0d-9cce-4b31-9aec-1d68b6200e84",
   "metadata": {
    "tags": []
   },
   "source": [
    "# get a bed file of the mRNAs (inside annotation/)\n",
    "\n",
    "grep \"mRNA\" *.gff3 | awk '{print $1 \"\\t\" $4 \"\\t\" $5 \"\\t\" $9 \"\\t\" $6 \"\\t\" $7}' | sed 's/ID=//g' | sed -E 's/;Parent.+=\\w+//g' > mrnas.bed\n",
    "\n",
    "# clean fasta\n",
    "cat S.latifolia_v3.0_genes.mRNA.fna | sed -E 's/ CDS.+//g' > mrnas.fa \n",
    "\n",
    "# check if they match\n",
    "grep -Fxv -f <(grep \">\" mrnas.fa | sed 's/>//g' ) <(cut -f 4 mrnas.bed) |  wc -l"
   ]
  },
  {
   "cell_type": "code",
   "execution_count": 5,
   "id": "f22447a7-9096-429e-b1ce-afb9f2e73aa3",
   "metadata": {
    "tags": []
   },
   "outputs": [
    {
     "name": "stdout",
     "output_type": "stream",
     "text": [
      "\n",
      "[build] loading fasta file annotation/mrnas.fa\n",
      "[build] k-mer length: 31\n",
      "[build] warning: clipped off poly-A tail (longer than 10)\n",
      "        from 27 target sequences\n",
      "[build] warning: replaced 50 non-ACGUT characters in the input sequence\n",
      "        with pseudorandom nucleotides\n",
      "[build] counting k-mers ... done.\n",
      "[build] building target de Bruijn graph ...  done \n",
      "[build] creating equivalence classes ...  done\n",
      "[build] target de Bruijn graph has 454447 contigs and contains 50244895 k-mers \n",
      "\n"
     ]
    }
   ],
   "source": [
    "# Build a Kallisto index\n",
    "! kallisto index -i annotation/mrnas.idx annotation/mrnas.fa"
   ]
  },
  {
   "cell_type": "code",
   "execution_count": 12,
   "id": "0bce50af-0779-492c-a0c7-71834c0a9b15",
   "metadata": {
    "tags": []
   },
   "outputs": [
    {
     "name": "stdout",
     "output_type": "stream",
     "text": [
      "######################### WORKING WITH C1_01_B ################################3\n",
      "\n",
      "[quant] fragment length distribution will be estimated from the data\n",
      "[index] k-mer length: 31\n",
      "[index] number of targets: 35,459\n",
      "[index] number of k-mers: 50,244,895\n",
      "[index] number of equivalence classes: 116,882\n",
      "[quant] running in paired-end mode\n",
      "[quant] will process pair 1: ../../rna-seq/trimmed/C1_01_B_1.trimmed.fastq\n",
      "                             ../../rna-seq/trimmed/C1_01_B_2.trimmed.fastq\n",
      "[quant] finding pseudoalignments for the reads ... done\n",
      "[quant] processed 26,007,298 reads, 20,035,547 reads pseudoaligned\n",
      "[quant] estimated average fragment length: 178.205\n",
      "[   em] quantifying the abundances ... done\n",
      "[   em] the Expectation-Maximization algorithm ran for 688 rounds\n",
      "[bstrp] number of EM bootstraps complete: 100012\n",
      "\n",
      "######################### WORKING WITH C1_01_L ################################3\n",
      "\n",
      "[quant] fragment length distribution will be estimated from the data\n",
      "[index] k-mer length: 31\n",
      "[index] number of targets: 35,459\n",
      "[index] number of k-mers: 50,244,895\n",
      "[index] number of equivalence classes: 116,882\n",
      "[quant] running in paired-end mode\n",
      "[quant] will process pair 1: ../../rna-seq/trimmed/C1_01_L_1.trimmed.fastq\n",
      "                             ../../rna-seq/trimmed/C1_01_L_2.trimmed.fastq\n",
      "[quant] finding pseudoalignments for the reads ... done\n",
      "[quant] processed 22,848,257 reads, 15,861,926 reads pseudoaligned\n",
      "[quant] estimated average fragment length: 212.74\n",
      "[   em] quantifying the abundances ... done\n",
      "[   em] the Expectation-Maximization algorithm ran for 1,244 rounds\n",
      "[bstrp] number of EM bootstraps complete: 1000\n",
      "\n",
      "######################### WORKING WITH C1_03_B ################################3\n",
      "\n",
      "[quant] fragment length distribution will be estimated from the data\n",
      "[index] k-mer length: 31\n",
      "[index] number of targets: 35,459\n",
      "[index] number of k-mers: 50,244,895\n",
      "[index] number of equivalence classes: 116,882\n",
      "[quant] running in paired-end mode\n",
      "[quant] will process pair 1: ../../rna-seq/trimmed/C1_03_B_1.trimmed.fastq\n",
      "                             ../../rna-seq/trimmed/C1_03_B_2.trimmed.fastq\n",
      "[quant] finding pseudoalignments for the reads ... done\n",
      "[quant] processed 29,860,201 reads, 23,266,275 reads pseudoaligned\n",
      "[quant] estimated average fragment length: 170.839\n",
      "[   em] quantifying the abundances ... done\n",
      "[   em] the Expectation-Maximization algorithm ran for 774 rounds\n",
      "[bstrp] number of EM bootstraps complete: 100098964\n",
      "\n",
      "######################### WORKING WITH C1_03_L ################################3\n",
      "\n",
      "[quant] fragment length distribution will be estimated from the data\n",
      "[index] k-mer length: 31\n",
      "[index] number of targets: 35,459\n",
      "[index] number of k-mers: 50,244,895\n",
      "[index] number of equivalence classes: 116,882\n",
      "[quant] running in paired-end mode\n",
      "[quant] will process pair 1: ../../rna-seq/trimmed/C1_03_L_1.trimmed.fastq\n",
      "                             ../../rna-seq/trimmed/C1_03_L_2.trimmed.fastq\n",
      "[quant] finding pseudoalignments for the reads ... done\n",
      "[quant] processed 16,893,313 reads, 12,951,825 reads pseudoaligned\n",
      "[quant] estimated average fragment length: 209.2\n",
      "[   em] quantifying the abundances ... done\n",
      "[   em] the Expectation-Maximization algorithm ran for 1,204 rounds\n",
      "[bstrp] number of EM bootstraps complete: 1000\n",
      "\n",
      "######################### WORKING WITH C1_04_L ################################3\n",
      "\n",
      "[quant] fragment length distribution will be estimated from the data\n",
      "[index] k-mer length: 31\n",
      "[index] number of targets: 35,459\n",
      "[index] number of k-mers: 50,244,895\n",
      "[index] number of equivalence classes: 116,882\n",
      "[quant] running in paired-end mode\n",
      "[quant] will process pair 1: ../../rna-seq/trimmed/C1_04_L_1.trimmed.fastq\n",
      "                             ../../rna-seq/trimmed/C1_04_L_2.trimmed.fastq\n",
      "[quant] finding pseudoalignments for the reads ... done\n",
      "[quant] processed 18,070,398 reads, 13,782,658 reads pseudoaligned\n",
      "[quant] estimated average fragment length: 219.155\n",
      "[   em] quantifying the abundances ... done\n",
      "[   em] the Expectation-Maximization algorithm ran for 1,145 rounds\n",
      "[bstrp] number of EM bootstraps complete: 100033197237781951\n",
      "\n",
      "######################### WORKING WITH C1_05_L ################################3\n",
      "\n",
      "[quant] fragment length distribution will be estimated from the data\n",
      "[index] k-mer length: 31\n",
      "[index] number of targets: 35,459\n",
      "[index] number of k-mers: 50,244,895\n",
      "[index] number of equivalence classes: 116,882\n",
      "[quant] running in paired-end mode\n",
      "[quant] will process pair 1: ../../rna-seq/trimmed/C1_05_L_1.trimmed.fastq\n",
      "                             ../../rna-seq/trimmed/C1_05_L_2.trimmed.fastq\n",
      "[quant] finding pseudoalignments for the reads ... done\n",
      "[quant] processed 30,905,719 reads, 23,685,246 reads pseudoaligned\n",
      "[quant] estimated average fragment length: 208.239\n",
      "[   em] quantifying the abundances ... done\n",
      "[   em] the Expectation-Maximization algorithm ran for 1,263 rounds\n",
      "[bstrp] number of EM bootstraps complete: 100065633\n",
      "\n",
      "######################### WORKING WITH C1_26_B ################################3\n",
      "\n",
      "[quant] fragment length distribution will be estimated from the data\n",
      "[index] k-mer length: 31\n",
      "[index] number of targets: 35,459\n",
      "[index] number of k-mers: 50,244,895\n",
      "[index] number of equivalence classes: 116,882\n",
      "[quant] running in paired-end mode\n",
      "[quant] will process pair 1: ../../rna-seq/trimmed/C1_26_B_1.trimmed.fastq\n",
      "                             ../../rna-seq/trimmed/C1_26_B_2.trimmed.fastq\n",
      "[quant] finding pseudoalignments for the reads ... done\n",
      "[quant] processed 22,468,762 reads, 17,505,719 reads pseudoaligned\n",
      "[quant] estimated average fragment length: 167.583\n",
      "[   em] quantifying the abundances ... done\n",
      "[   em] the Expectation-Maximization algorithm ran for 725 rounds\n",
      "[bstrp] number of EM bootstraps complete: 1000\n",
      "\n",
      "######################### WORKING WITH C1_26_L ################################3\n",
      "\n",
      "[quant] fragment length distribution will be estimated from the data\n",
      "[index] k-mer length: 31\n",
      "[index] number of targets: 35,459\n",
      "[index] number of k-mers: 50,244,895\n",
      "[index] number of equivalence classes: 116,882\n",
      "[quant] running in paired-end mode\n",
      "[quant] will process pair 1: ../../rna-seq/trimmed/C1_26_L_1.trimmed.fastq\n",
      "                             ../../rna-seq/trimmed/C1_26_L_2.trimmed.fastq\n",
      "[quant] finding pseudoalignments for the reads ... done\n",
      "[quant] processed 14,140,686 reads, 10,786,845 reads pseudoaligned\n",
      "[quant] estimated average fragment length: 261.199\n",
      "[   em] quantifying the abundances ... done\n",
      "[   em] the Expectation-Maximization algorithm ran for 1,132 rounds\n",
      "[bstrp] number of EM bootstraps complete: 1000449451850\n",
      "\n",
      "######################### WORKING WITH C1_27_B ################################3\n",
      "\n",
      "[quant] fragment length distribution will be estimated from the data\n",
      "[index] k-mer length: 31\n",
      "[index] number of targets: 35,459\n",
      "[index] number of k-mers: 50,244,895\n",
      "[index] number of equivalence classes: 116,882\n",
      "[quant] running in paired-end mode\n",
      "[quant] will process pair 1: ../../rna-seq/trimmed/C1_27_B_1.trimmed.fastq\n",
      "                             ../../rna-seq/trimmed/C1_27_B_2.trimmed.fastq\n",
      "[quant] finding pseudoalignments for the reads ... done\n",
      "[quant] processed 53,353,370 reads, 42,115,717 reads pseudoaligned\n",
      "[quant] estimated average fragment length: 165.523\n",
      "[   em] quantifying the abundances ... done\n",
      "[   em] the Expectation-Maximization algorithm ran for 787 rounds\n",
      "[bstrp] number of EM bootstraps complete: 1000\n",
      "\n",
      "######################### WORKING WITH C1_27_L ################################3\n",
      "\n",
      "[quant] fragment length distribution will be estimated from the data\n",
      "[index] k-mer length: 31\n",
      "[index] number of targets: 35,459\n",
      "[index] number of k-mers: 50,244,895\n",
      "[index] number of equivalence classes: 116,882\n",
      "[quant] running in paired-end mode\n",
      "[quant] will process pair 1: ../../rna-seq/trimmed/C1_27_L_1.trimmed.fastq\n",
      "                             ../../rna-seq/trimmed/C1_27_L_2.trimmed.fastq\n",
      "[quant] finding pseudoalignments for the reads ... done\n",
      "[quant] processed 25,075,331 reads, 18,754,208 reads pseudoaligned\n",
      "[quant] estimated average fragment length: 200.216\n",
      "[   em] quantifying the abundances ... done\n",
      "[   em] the Expectation-Maximization algorithm ran for 1,287 rounds\n",
      "[bstrp] number of EM bootstraps complete: 1000\n",
      "\n",
      "######################### WORKING WITH C1_29_L ################################3\n",
      "\n",
      "[quant] fragment length distribution will be estimated from the data\n",
      "[index] k-mer length: 31\n",
      "[index] number of targets: 35,459\n",
      "[index] number of k-mers: 50,244,895\n",
      "[index] number of equivalence classes: 116,882\n",
      "[quant] running in paired-end mode\n",
      "[quant] will process pair 1: ../../rna-seq/trimmed/C1_29_L_1.trimmed.fastq\n",
      "                             ../../rna-seq/trimmed/C1_29_L_2.trimmed.fastq\n",
      "[quant] finding pseudoalignments for the reads ... done\n",
      "[quant] processed 43,829,916 reads, 33,767,342 reads pseudoaligned\n",
      "[quant] estimated average fragment length: 221.48\n",
      "[   em] quantifying the abundances ... done\n",
      "[   em] the Expectation-Maximization algorithm ran for 1,259 rounds\n",
      "[bstrp] number of EM bootstraps complete: 1000\n",
      "\n",
      "######################### WORKING WITH C1_34_L ################################3\n",
      "\n",
      "[quant] fragment length distribution will be estimated from the data\n",
      "[index] k-mer length: 31\n",
      "[index] number of targets: 35,459\n",
      "[index] number of k-mers: 50,244,895\n",
      "[index] number of equivalence classes: 116,882\n",
      "[quant] running in paired-end mode\n",
      "[quant] will process pair 1: ../../rna-seq/trimmed/C1_34_L_1.trimmed.fastq\n",
      "                             ../../rna-seq/trimmed/C1_34_L_2.trimmed.fastq\n",
      "[quant] finding pseudoalignments for the reads ... done\n",
      "[quant] processed 8,443,981 reads, 6,513,456 reads pseudoaligned\n",
      "[quant] estimated average fragment length: 207.988\n",
      "[   em] quantifying the abundances ... done\n",
      "[   em] the Expectation-Maximization algorithm ran for 1,098 rounds\n",
      "[bstrp] number of EM bootstraps complete: 1000\n",
      "\n",
      "######################### WORKING WITH combined_C1_04_B ################################3\n",
      "\n",
      "[quant] fragment length distribution will be estimated from the data\n",
      "[index] k-mer length: 31\n",
      "[index] number of targets: 35,459\n",
      "[index] number of k-mers: 50,244,895\n",
      "[index] number of equivalence classes: 116,882\n",
      "[quant] running in paired-end mode\n",
      "[quant] will process pair 1: ../../rna-seq/trimmed/combined_C1_04_B_1.trimmed.fastq\n",
      "                             ../../rna-seq/trimmed/combined_C1_04_B_2.trimmed.fastq\n",
      "[quant] finding pseudoalignments for the reads ... done\n",
      "[quant] processed 16,643,725 reads, 13,010,645 reads pseudoaligned\n",
      "[quant] estimated average fragment length: 172.39\n",
      "[   em] quantifying the abundances ... done\n",
      "[   em] the Expectation-Maximization algorithm ran for 1,251 rounds\n",
      "[bstrp] number of EM bootstraps complete: 100078787\n",
      "\n",
      "######################### WORKING WITH combined_C1_05_B ################################3\n",
      "\n",
      "[quant] fragment length distribution will be estimated from the data\n",
      "[index] k-mer length: 31\n",
      "[index] number of targets: 35,459\n",
      "[index] number of k-mers: 50,244,895\n",
      "[index] number of equivalence classes: 116,882\n",
      "[quant] running in paired-end mode\n",
      "[quant] will process pair 1: ../../rna-seq/trimmed/combined_C1_05_B_1.trimmed.fastq\n",
      "                             ../../rna-seq/trimmed/combined_C1_05_B_2.trimmed.fastq\n",
      "[quant] finding pseudoalignments for the reads ... done\n",
      "[quant] processed 43,021,943 reads, 33,707,836 reads pseudoaligned\n",
      "[quant] estimated average fragment length: 166.866\n",
      "[   em] quantifying the abundances ... done\n",
      "[   em] the Expectation-Maximization algorithm ran for 648 rounds\n",
      "[bstrp] number of EM bootstraps complete: 1000\n",
      "\n",
      "######################### WORKING WITH combined_C1_29_B ################################3\n",
      "\n",
      "[quant] fragment length distribution will be estimated from the data\n",
      "[index] k-mer length: 31\n",
      "[index] number of targets: 35,459\n",
      "[index] number of k-mers: 50,244,895\n",
      "[index] number of equivalence classes: 116,882\n",
      "[quant] running in paired-end mode\n",
      "[quant] will process pair 1: ../../rna-seq/trimmed/combined_C1_29_B_1.trimmed.fastq\n",
      "                             ../../rna-seq/trimmed/combined_C1_29_B_2.trimmed.fastq\n",
      "[quant] finding pseudoalignments for the reads ... done\n",
      "[quant] processed 38,471,384 reads, 30,279,311 reads pseudoaligned\n",
      "[quant] estimated average fragment length: 167.301\n",
      "[   em] quantifying the abundances ... done\n",
      "[   em] the Expectation-Maximization algorithm ran for 1,345 rounds\n",
      "[bstrp] number of EM bootstraps complete: 1000\n",
      "\n",
      "######################### WORKING WITH combined_C1_34_B ################################3\n",
      "\n",
      "[quant] fragment length distribution will be estimated from the data\n",
      "[index] k-mer length: 31\n",
      "[index] number of targets: 35,459\n",
      "[index] number of k-mers: 50,244,895\n",
      "[index] number of equivalence classes: 116,882\n",
      "[quant] running in paired-end mode\n",
      "[quant] will process pair 1: ../../rna-seq/trimmed/combined_C1_34_B_1.trimmed.fastq\n",
      "                             ../../rna-seq/trimmed/combined_C1_34_B_2.trimmed.fastq\n",
      "[quant] finding pseudoalignments for the reads ... done\n",
      "[quant] processed 44,593,837 reads, 35,069,953 reads pseudoaligned\n",
      "[quant] estimated average fragment length: 174.379\n",
      "[   em] quantifying the abundances ... done\n",
      "[   em] the Expectation-Maximization algorithm ran for 1,360 rounds\n",
      "[bstrp] number of EM bootstraps complete: 1000\n",
      "\n"
     ]
    }
   ],
   "source": [
    "! bash ../scripts/kallisto_paper.sh"
   ]
  },
  {
   "cell_type": "code",
   "execution_count": 3,
   "id": "5e54ee9f-5f12-4f97-a2b6-19a1f7ebca77",
   "metadata": {
    "tags": []
   },
   "outputs": [
    {
     "name": "stdout",
     "output_type": "stream",
     "text": [
      "C1_01_B RUNNING\n",
      "C1_01_B DONE\n",
      "_________\n",
      "C1_01_L RUNNING\n",
      "C1_01_L DONE\n",
      "_________\n",
      "C1_03_B RUNNING\n",
      "C1_03_B DONE\n",
      "_________\n",
      "C1_03_L RUNNING\n",
      "C1_03_L DONE\n",
      "_________\n",
      "C1_04_B_combined RUNNING\n",
      "C1_04_B_combined DONE\n",
      "_________\n",
      "C1_04_L RUNNING\n",
      "C1_04_L DONE\n",
      "_________\n",
      "C1_05_B_combined RUNNING\n",
      "C1_05_B_combined DONE\n",
      "_________\n",
      "C1_05_L RUNNING\n",
      "C1_05_L DONE\n",
      "_________\n",
      "C1_26_B RUNNING\n",
      "C1_26_B DONE\n",
      "_________\n",
      "C1_26_L RUNNING\n",
      "C1_26_L DONE\n",
      "_________\n",
      "C1_27_B RUNNING\n",
      "C1_27_B DONE\n",
      "_________\n",
      "C1_27_L RUNNING\n",
      "C1_27_L DONE\n",
      "_________\n",
      "C1_29_B_combined RUNNING\n",
      "C1_29_B_combined DONE\n",
      "_________\n",
      "C1_29_L RUNNING\n",
      "C1_29_L DONE\n",
      "_________\n",
      "C1_34_B_combined RUNNING\n",
      "C1_34_B_combined DONE\n",
      "_________\n",
      "C1_34_L RUNNING\n",
      "C1_34_L DONE\n",
      "_________\n"
     ]
    }
   ],
   "source": [
    "# Merge results\n",
    "! ls rna_seq/kallisto/ | head -n 16 > rna_seq/kallisto/samples.list\n",
    "# first I manually changed the dir names so it was less messy (move \"combined\" from the start to the end of the name)\n",
    "! bash ../scripts/merge_kallisto_raw_paper.sh "
   ]
  },
  {
   "cell_type": "markdown",
   "id": "6c91f717-bedc-4ea6-b769-848813e538f5",
   "metadata": {
    "tags": []
   },
   "source": [
    "# <span style=\"color:#3de2d8\"> PTGS"
   ]
  },
  {
   "cell_type": "code",
   "execution_count": 34,
   "id": "55459d4a-7a1e-4bd6-bca0-5d0f3b772c5c",
   "metadata": {
    "tags": []
   },
   "outputs": [
    {
     "name": "stdout",
     "output_type": "stream",
     "text": [
      "\n",
      "Converted 12 tab-delimited lines to FASTA format\n",
      "Total sequence length: 275\n",
      "\n"
     ]
    }
   ],
   "source": [
    "# Get fasta sequences from the overlapping clusters\n",
    "\n",
    "#! awk 'FNR==NR{a[$0];next}{if (($2 in a)){print}}' <(cut -f 2 results/overlaps/flowers.tsv | sort | uniq) raw/only_21-22_known_de_novo_f-y/Results.txt | awk '{print $2 \"\\t\" \"21-22\" \"\\t\" $11 \"NNNN\"; system(\"echo \" $11 \"| rev\")}' > temp.tab\n",
    "# I mannually removed the line breaks that were introduced with awk\n",
    "\n",
    "! awk 'FNR==NR{a[$0];next}{if (($2 in a)){print}}' <(cut -f 2 results/overlaps/flowers.tsv | sort | uniq) raw/only_21-22_known_de_novo_f-y/Results.txt | awk '{print $2 \"\\t\" \"21-22\" \"\\t\" $11}' > temp.tab\n",
    "\n",
    "! perl -e ' $len=0; while(<>) { s/\\r?\\n//; @F=split /\\t/, $_; print \">$F[0]\"; if (length($F[1])) { print \" $F[1]\" } print \"\\n\"; $s=$F[2]; $len+= length($s); $s=~s/.{60}(?=.)/$&\\n/g; print \"$s\\n\"; } warn \"\\nConverted $. tab-delimited lines to FASTA format\\nTotal sequence length: $len\\n\\n\"; ' temp.tab > results/overlaps/srnas_flowers.fa\n",
    "\n",
    "! rm temp.tab"
   ]
  },
  {
   "cell_type": "code",
   "execution_count": 35,
   "id": "23cbf1b7-66a7-4c8c-a680-16c0a20e2062",
   "metadata": {
    "tags": []
   },
   "outputs": [
    {
     "name": "stdout",
     "output_type": "stream",
     "text": [
      "\n",
      "Converted 6 tab-delimited lines to FASTA format\n",
      "Total sequence length: 141\n",
      "\n"
     ]
    }
   ],
   "source": [
    "# Now for leaves\n",
    "\n",
    "! awk 'FNR==NR{a[$0];next}{if (($2 in a)){print}}' <(cut -f 2 results/overlaps/leaves.tsv | sort | uniq) raw/only_21-22_known_de_novo_f-y/Results.txt | awk '{print $2 \"\\t\" \"21-22\" \"\\t\" $11}' > temp.tab\n",
    "! perl -e ' $len=0; while(<>) { s/\\r?\\n//; @F=split /\\t/, $_; print \">$F[0]\"; if (length($F[1])) { print \" $F[1]\" } print \"\\n\"; $s=$F[2]; $len+= length($s); $s=~s/.{60}(?=.)/$&\\n/g; print \"$s\\n\"; } warn \"\\nConverted $. tab-delimited lines to FASTA format\\nTotal sequence length: $len\\n\\n\"; ' temp.tab > results/overlaps/srnas_leaves.fa\n",
    "\n",
    "! rm temp.tab"
   ]
  },
  {
   "cell_type": "code",
   "execution_count": 90,
   "id": "9cb7c036-316f-4a43-bc28-b702dda81f0b",
   "metadata": {
    "tags": []
   },
   "outputs": [
    {
     "name": "stdout",
     "output_type": "stream",
     "text": [
      "\n",
      "\n",
      "Building a new DB, current time: 05/11/2023 16:55:31\n",
      "New DB name:   /home/eddy/silene/genome/silat.fa\n",
      "New DB title:  genome/silat.fa\n",
      "Sequence type: Nucleotide\n",
      "Keep MBits: T\n",
      "Maximum file size: 1000000000B\n",
      "Adding sequences from FASTA; added 19 sequences in 19.2123 seconds.\n",
      "\n",
      "\n"
     ]
    }
   ],
   "source": [
    "# index genome for blast\n",
    "! makeblastdb -in genome/silat.fa -dbtype nucl"
   ]
  },
  {
   "cell_type": "code",
   "execution_count": 22,
   "id": "ae1d78fb-6dd5-4b6e-a732-e26bc0000218",
   "metadata": {
    "tags": []
   },
   "outputs": [],
   "source": [
    "# Short BLAST against the genome, try 1\n",
    "! blastn -db genome/silat.fa -query results/overlaps/srnas_hairpins_flowers.fa -num_threads 12 -task blastn-short -word_size 5 -gapopen 1 -gapextend 1 -out results/overlaps/srnas_hairpins_flowers.blast"
   ]
  },
  {
   "cell_type": "raw",
   "id": "fb5a6a6c-1013-42a8-8959-8709ff7d93a2",
   "metadata": {},
   "source": [
    "Method used in Bachmann et al., 2021 (https://www.nature.com/articles/s41437-021-00434-9)\n",
    "\n",
    "First, we predicted inverted repeats in C. bursa-pastoris S-haplotypes using EMBOSS-einverted (Rice et al. 2000) with the following parameters: gap penalty = 8, match score = 4, mismatch score = 4, minimum score threshold = 50, maximum separation between start of repeat and end of inverted repeat = 350. We used an initial mapping of sRNA to screen for inverted repeats (Meyers et al. 2008; Durand et al. 2014), and checked the remaining inverted repeats for hairpin structure with rnafold (Lorenz et al. 2011) (Figs. S3 and S4) and kept hairpins with terminal loop smaller than 40 bp and a predicted hairpin structure >20 bp of high base-pairing probability with four or fewer mismatches and maximum two asymmetric bulges (Meyers et al. 2008; Durand et al. 2014)."
   ]
  },
  {
   "cell_type": "markdown",
   "id": "757f6f94-153f-4e9d-be54-69eb3e958cde",
   "metadata": {},
   "source": [
    "#### <span style=\"color:#3de2d8\">  Get inverted repeats from the genome (inside tes environment). \n",
    "einverted -sequence genome/silat.fa -threshold 80 -gap 8 -match 4 -mismatch -6 -maxrepeat 100 -outseq annotation/inv_rep.fa -outfile annotation/inv_rep.san\n",
    "    \n",
    "    Parameters used: [default]\n",
    "    \n",
    "    -gap penalty of 8 [12]\n",
    "    -match score 4 [3]\n",
    "    -mismatch score -6 [-4]\n",
    "    -minimum score threshold 80 [50] (I guess it's calculated from the identity and the number of gaps -not documented)\n",
    "    -maximum lenght from start to finish 100 (assuming at ~40bp in the terminal loop)"
   ]
  },
  {
   "cell_type": "code",
   "execution_count": null,
   "id": "1fac82fb-4a94-4d59-bedb-1b6ef0a1eb5a",
   "metadata": {},
   "outputs": [],
   "source": [
    "To create a bed file including the information about the repeat:\n",
    "    \n",
    "    - Chr\n",
    "    - Start\n",
    "    - End\n",
    "    - ID\n",
    "    - Score\n",
    "    - Strand\n",
    "    - Matching baisepairs be\n",
    "    - Repeat length\n",
    "    - Mismatches\n",
    "    - Number of gaps\n",
    "    - Total mismatches (gaps + mismatches)"
   ]
  },
  {
   "cell_type": "code",
   "execution_count": null,
   "id": "f97df838-c65b-4503-9c22-e56663e3551f",
   "metadata": {},
   "outputs": [],
   "source": [
    "paste \\\n",
    "<(grep \"Score\" inv_rep.san | sed -E 's/^(\\w+):.+/\\1/g' ) \\\n",
    "<(sed -n '/Score/ { n; p }' inv_rep.san | sed -E 's/\\s*(\\w+)\\s*.+/\\1/g' ) \\\n",
    "<(sed -n '/Score/ { n; n; n; p }' inv_rep.san | sed -E 's/\\s*(\\w+)\\s*.+/\\1/g' ) \\\n",
    "<(! echo inverted_repeat_{1..187797} | sed -E 's/\\s/\\n/g' | awk '{print $0 \"\\t\" \"0\" \"\\t\" \"+\"}') \\\n",
    "<(grep \"Score\" inv_rep.san | sed -E 's/.+: (\\w+)\\/(\\w+).+, (\\w+) ga.+/\\1\\t\\2\\t\\3/g' | awk '{print $1 \"\\t\" $2 \"\\t\" $2-$1 \"\\t\" $3 \"\\t\" $2-$1+$3 }' ) \\\n",
    "  > inv_rep.bed"
   ]
  },
  {
   "cell_type": "code",
   "execution_count": 28,
   "id": "a374066b-0eee-4987-8295-b0a0c628f5ff",
   "metadata": {
    "tags": []
   },
   "outputs": [
    {
     "name": "stdout",
     "output_type": "stream",
     "text": [
      "\n",
      "\n",
      "Building a new DB, current time: 05/30/2023 11:30:59\n",
      "New DB name:   /home/eddy/silene/annotation/inv_rep_full.fa\n",
      "New DB title:  annotation/inv_rep_full.fa\n",
      "Sequence type: Nucleotide\n",
      "Keep MBits: T\n",
      "Maximum file size: 1000000000B\n",
      "Adding sequences from FASTA; added 187797 sequences in 1.03208 seconds.\n",
      "\n",
      "\n"
     ]
    }
   ],
   "source": [
    "# Get fasta files for inverted repeats\n",
    "! bedtools getfasta -nameOnly -fi genome/silat.fa -bed annotation/inv_rep.bed -fo annotation/inv_rep_full.fa\n",
    "# make it a BLAST database\n",
    "! makeblastdb -in annotation/inv_rep_full.fa -dbtype nucl"
   ]
  },
  {
   "cell_type": "code",
   "execution_count": 108,
   "id": "c99565f9-a196-46a0-b377-dacba035a79d",
   "metadata": {
    "tags": []
   },
   "outputs": [],
   "source": [
    "# BLAST sRNAs against the inverted repeat library\n",
    "# alingment above 15 bp\n",
    "# reduced penalty for mismatches\n",
    "# reduced gap penalty\n",
    "\n",
    "# Flowers\n",
    "! blastn -db annotation/inv_rep_full.fa -query results/overlaps/srnas_flowers.fa -num_threads 12 -task blastn-short -word_size 15 -penalty -1 -gapopen 1 -outfmt 6 -out results/overlaps/srnas_flowers.blast \n",
    "# Leaves\n",
    "! blastn -db annotation/inv_rep_full.fa -query results/overlaps/srnas_leaves.fa -num_threads 12 -task blastn-short -word_size 15 -penalty -1 -gapopen 1 -outfmt 6 -out results/overlaps/srnas_leaves.blast"
   ]
  },
  {
   "cell_type": "code",
   "execution_count": 109,
   "id": "91ec3529-4917-4412-9fa8-76a012ee616c",
   "metadata": {
    "tags": []
   },
   "outputs": [],
   "source": [
    "# I got the reverse complements from <https://www.bioinformatics.org/sms2/rev_comp.html> and edited them manually\n",
    "# Flowers\n",
    "! blastn -db annotation/inv_rep_full.fa -query results/overlaps/srnas_flowers_reverse_comp.fa -num_threads 12 -task blastn-short -word_size 15 -penalty -1 -gapopen 1 -outfmt 6 -out results/overlaps/srnas_flowers_reverse_comp.blast\n",
    "# Leaves\n",
    "! blastn -db annotation/inv_rep_full.fa -query results/overlaps/srnas_leaves_reverse_comp.fa -num_threads 12 -task blastn-short -word_size 15 -penalty -1 -gapopen 1 -outfmt 6 -out results/overlaps/srnas_leaves_reverse_comp.blast"
   ]
  },
  {
   "cell_type": "markdown",
   "id": "998ca6b2-4afe-48da-bc17-c3055afd0faa",
   "metadata": {},
   "source": [
    "I was planning to select only the inverted repeats that aling to both the sRNA and its reverse complement but since it is already an inverted repeat, tables are basically the same. I only needed to select alingments >21 bp."
   ]
  },
  {
   "cell_type": "code",
   "execution_count": 125,
   "id": "5e8935aa-cbee-4d75-8fcd-2a43ceb80c6b",
   "metadata": {
    "tags": []
   },
   "outputs": [
    {
     "name": "stdout",
     "output_type": "stream",
     "text": [
      "inverted_repeat_82099 chr9 171650675 171650772 Cluster_43988 Silat_chr12_Gene.1440\n",
      "_____________________________________________________________________\n",
      "inverted_repeat_100834 chr11 26842100 26842194 Cluster_45289 Silat_scaffold_13_Gene.43660\n",
      "inverted_repeat_107555 chr11 133984933 133985003 Cluster_45289 Silat_scaffold_13_Gene.43660\n",
      "inverted_repeat_115770 chr12 4887030 4887128 Cluster_45289 Silat_scaffold_13_Gene.43660\n",
      "inverted_repeat_115770 chr12 4887030 4887128 Cluster_45289 Silat_scaffold_13_Gene.43660\n",
      "inverted_repeat_12972 chr1 191921461 191921554 Cluster_45289 Silat_scaffold_13_Gene.43660\n",
      "inverted_repeat_13134 chr1 194653142 194653237 Cluster_45289 Silat_scaffold_13_Gene.43660\n",
      "inverted_repeat_13320 chr1 198785892 198785990 Cluster_45289 Silat_scaffold_13_Gene.43660\n",
      "inverted_repeat_134649 chr12 276687495 276687593 Cluster_45289 Silat_scaffold_13_Gene.43660\n",
      "inverted_repeat_13516 chr2 3592422 3592509 Cluster_45289 Silat_scaffold_13_Gene.43660\n",
      "inverted_repeat_137010 chr12 319332388 319332479 Cluster_45289 Silat_scaffold_13_Gene.43660\n",
      "inverted_repeat_137023 chr12 319495018 319495113 Cluster_45289 Silat_scaffold_13_Gene.43660\n",
      "inverted_repeat_137234 chr12 323334207 323334282 Cluster_45289 Silat_scaffold_13_Gene.43660\n",
      "inverted_repeat_14318 chr2 18273649 18273745 Cluster_45289 Silat_scaffold_13_Gene.43660\n",
      "inverted_repeat_145603 scaffold_1 96543399 96543497 Cluster_45289 Silat_scaffold_13_Gene.43660\n",
      "inverted_repeat_151691 scaffold_1 144201798 144201887 Cluster_45289 Silat_scaffold_13_Gene.43660\n",
      "inverted_repeat_154982 scaffold_1 189929474 189929568 Cluster_45289 Silat_scaffold_13_Gene.43660\n",
      "inverted_repeat_157699 scaffold_1 214537460 214537549 Cluster_45289 Silat_scaffold_13_Gene.43660\n",
      "inverted_repeat_177848 scaffold_13 21659071 21659169 Cluster_45289 Silat_scaffold_13_Gene.43660\n",
      "inverted_repeat_24396 chr2 126430748 126430840 Cluster_45289 Silat_scaffold_13_Gene.43660\n",
      "inverted_repeat_26943 chr2 168935161 168935257 Cluster_45289 Silat_scaffold_13_Gene.43660\n",
      "inverted_repeat_28317 chr2 189124455 189124553 Cluster_45289 Silat_scaffold_13_Gene.43660\n",
      "inverted_repeat_28328 chr2 189293637 189293734 Cluster_45289 Silat_scaffold_13_Gene.43660\n",
      "inverted_repeat_28760 chr2 197076240 197076337 Cluster_45289 Silat_scaffold_13_Gene.43660\n",
      "inverted_repeat_37021 chr3 138828741 138828838 Cluster_45289 Silat_scaffold_13_Gene.43660\n",
      "inverted_repeat_37798 chr3 152854878 152854961 Cluster_45289 Silat_scaffold_13_Gene.43660\n",
      "inverted_repeat_38283 chr4 8272007 8272102 Cluster_45289 Silat_scaffold_13_Gene.43660\n",
      "inverted_repeat_38284 chr4 8272343 8272426 Cluster_45289 Silat_scaffold_13_Gene.43660\n",
      "inverted_repeat_38443 chr4 10597121 10597218 Cluster_45289 Silat_scaffold_13_Gene.43660\n",
      "inverted_repeat_38449 chr4 10631038 10631110 Cluster_45289 Silat_scaffold_13_Gene.43660\n",
      "inverted_repeat_426 chr1 8457375 8457473 Cluster_45289 Silat_scaffold_13_Gene.43660\n",
      "inverted_repeat_44938 chr5 13340005 13340102 Cluster_45289 Silat_scaffold_13_Gene.43660\n",
      "inverted_repeat_45207 chr5 25075860 25075957 Cluster_45289 Silat_scaffold_13_Gene.43660\n",
      "inverted_repeat_46267 chr5 52750345 52750442 Cluster_45289 Silat_scaffold_13_Gene.43660\n",
      "inverted_repeat_46553 chr5 58985067 58985165 Cluster_45289 Silat_scaffold_13_Gene.43660\n",
      "inverted_repeat_4822 chr1 78667653 78667748 Cluster_45289 Silat_scaffold_13_Gene.43660\n",
      "inverted_repeat_48686 chr5 123725311 123725405 Cluster_45289 Silat_scaffold_13_Gene.43660\n",
      "inverted_repeat_58167 chr7 10341569 10341642 Cluster_45289 Silat_scaffold_13_Gene.43660\n",
      "inverted_repeat_58169 chr7 10388809 10388902 Cluster_45289 Silat_scaffold_13_Gene.43660\n",
      "inverted_repeat_60013 chr7 44232461 44232559 Cluster_45289 Silat_scaffold_13_Gene.43660\n",
      "inverted_repeat_60129 chr7 46187832 46187929 Cluster_45289 Silat_scaffold_13_Gene.43660\n",
      "inverted_repeat_61036 chr7 66247091 66247179 Cluster_45289 Silat_scaffold_13_Gene.43660\n",
      "inverted_repeat_62780 chr7 107878556 107878650 Cluster_45289 Silat_scaffold_13_Gene.43660\n",
      "inverted_repeat_64317 chr7 135055602 135055687 Cluster_45289 Silat_scaffold_13_Gene.43660\n",
      "inverted_repeat_64389 chr7 136506169 136506266 Cluster_45289 Silat_scaffold_13_Gene.43660\n",
      "inverted_repeat_64688 chr8 3335517 3335590 Cluster_45289 Silat_scaffold_13_Gene.43660\n",
      "inverted_repeat_64688 chr8 3335517 3335590 Cluster_45289 Silat_scaffold_13_Gene.43660\n",
      "inverted_repeat_64921 chr8 8235652 8235734 Cluster_45289 Silat_scaffold_13_Gene.43660\n",
      "inverted_repeat_71377 chr8 143711145 143711216 Cluster_45289 Silat_scaffold_13_Gene.43660\n",
      "inverted_repeat_71377 chr8 143711145 143711216 Cluster_45289 Silat_scaffold_13_Gene.43660\n",
      "inverted_repeat_73613 chr9 33438572 33438669 Cluster_45289 Silat_scaffold_13_Gene.43660\n",
      "inverted_repeat_86617 chr10 34543533 34543627 Cluster_45289 Silat_scaffold_13_Gene.43660\n",
      "inverted_repeat_96950 chr10 116230650 116230740 Cluster_45289 Silat_scaffold_13_Gene.43660\n",
      "inverted_repeat_99449 chr10 158910734 158910827 Cluster_45289 Silat_scaffold_13_Gene.43660\n",
      "inverted_repeat_99650 chr10 163414839 163414930 Cluster_45289 Silat_scaffold_13_Gene.43660\n",
      "inverted_repeat_99751 chr11 851774 851867 Cluster_45289 Silat_scaffold_13_Gene.43660\n"
     ]
    }
   ],
   "source": [
    "# Get the correspondences and annotations for the precursos\n",
    "\n",
    "# Flowers\n",
    "! join -1 4 -2 3 <(cut -f 1-4 annotation/inv_rep.bed | sort -k4) <(join -1 2 -2 1 results/overlaps/flowers.tsv <(awk '$3 >= 21' results/overlaps/srnas_flowers.blast | cut -f 1-2 ) )\n",
    "! join -1 4 -2 3 <(cut -f 1-4 annotation/inv_rep.bed | sort -k4) <(join -1 2 -2 1 results/overlaps/flowers.tsv <(awk '$3 >= 21' results/overlaps/srnas_flowers.blast | cut -f 1-2 ) ) | sed -E 's/\\s+/\\t/g' > results/overlaps/flowers_precursos.tsv\n",
    "! echo \"_____________________________________________________________________\"\n",
    "\n",
    "# Leaves\n",
    "! join -1 4 -2 3 <(cut -f 1-4 annotation/inv_rep.bed | sort -k4) <(join -1 2 -2 1 results/overlaps/leaves.tsv <(awk '$3 >= 21' results/overlaps/srnas_leaves.blast | cut -f 1-2 ) | sort -k3 )\n",
    "! join -1 4 -2 3 <(cut -f 1-4 annotation/inv_rep.bed | sort -k4) <(join -1 2 -2 1 results/overlaps/leaves.tsv <(awk '$3 >= 21' results/overlaps/srnas_leaves.blast | cut -f 1-2 ) | sort -k3 ) | sed -E 's/\\s+/\\t/g' > results/overlaps/leaves_precursos.tsv"
   ]
  },
  {
   "cell_type": "markdown",
   "id": "9f9ce652-246f-4106-8b53-a4c0d8883208",
   "metadata": {},
   "source": [
    "The \"precursos.tsv\" files contain:\n",
    "\n",
    "    - precursor ID\n",
    "    - chr\n",
    "    - start\n",
    "    - end\n",
    "    - sRNA cluster\n",
    "    - sex-biased gene target"
   ]
  },
  {
   "cell_type": "code",
   "execution_count": 126,
   "id": "e8721bb1-76be-4c34-aa31-535352f078ed",
   "metadata": {
    "tags": []
   },
   "outputs": [
    {
     "name": "stdout",
     "output_type": "stream",
     "text": [
      "\n",
      "\n",
      "Building a new DB, current time: 05/31/2023 18:09:34\n",
      "New DB name:   /home/eddy/silene/annotation/genes.fa\n",
      "New DB title:  annotation/genes.fa\n",
      "Sequence type: Nucleotide\n",
      "Keep MBits: T\n",
      "Maximum file size: 1000000000B\n",
      "Adding sequences from FASTA; added 13071 sequences in 1.10136 seconds.\n",
      "\n",
      "\n"
     ]
    }
   ],
   "source": [
    "! makeblastdb -in annotation/genes.fa -dbtype nucl"
   ]
  },
  {
   "cell_type": "code",
   "execution_count": 134,
   "id": "f2b75521-aa24-4a8f-878b-cbdff60bf25d",
   "metadata": {
    "tags": []
   },
   "outputs": [
    {
     "name": "stdout",
     "output_type": "stream",
     "text": [
      "***** WARNING: File annotation/genes.bed has inconsistent naming convention for record:\n",
      "scaffold_1\t760283\t762422\tSilat_scaffold_1_Gene.7463\t0\t-\n",
      "\n",
      "***** WARNING: File annotation/genes.bed has inconsistent naming convention for record:\n",
      "scaffold_1\t760283\t762422\tSilat_scaffold_1_Gene.7463\t0\t-\n",
      "\n",
      "***** WARNING: File annotation/tes.bed has inconsistent naming convention for record:\n",
      "scaffold_1\t1\t38\tTarget \"Motif:RLG_Athila_108210_FL_DL\" 1 27\n",
      "\n",
      "***** WARNING: File annotation/tes.bed has inconsistent naming convention for record:\n",
      "scaffold_1\t1\t38\tTarget \"Motif:RLG_Athila_108210_FL_DL\" 1 27\n",
      "\n"
     ]
    }
   ],
   "source": [
    "# check if the flowers' precursor is overlapping to a gene or a TE\n",
    "! bedtools intersect -a <(cut -f 2-4 results/overlaps/flowers_precursos.tsv) -b annotation/genes.bed -wb\n",
    "! bedtools intersect -a <(cut -f 2-4 results/overlaps/flowers_precursos.tsv) -b annotation/tes.bed -wb"
   ]
  },
  {
   "cell_type": "code",
   "execution_count": 141,
   "id": "6a0cd5fc-5e77-4696-8512-8e993956c16a",
   "metadata": {
    "tags": []
   },
   "outputs": [
    {
     "name": "stdout",
     "output_type": "stream",
     "text": [
      "***** WARNING: File annotation/tes.bed has inconsistent naming convention for record:\n",
      "scaffold_1\t1\t38\tTarget \"Motif:RLG_Athila_108210_FL_DL\" 1 27\n",
      "\n",
      "chr11\t133984933\t133984954\tchr11\t133984897\t133984954\tTarget \"Motif:RLG_Retand_116_partial_D\" 25880 25938\n",
      "chr11\t133984958\t133985003\tchr11\t133984958\t133985015\tTarget \"Motif:RLG_Retand_116_partial_D\" 43913 43967\n",
      "chr11\t133984970\t133985003\tchr11\t133984970\t133985189\tTarget \"Motif:RLG_Retand_116_partial_D\" 43919 44138\n",
      "chr1\t198785892\t198785972\tchr1\t198785886\t198785972\tTarget \"Motif:RLG_Retand_116_partial_D\" 37495 37580\n",
      "chr2\t3592427\t3592503\tchr2\t3592427\t3592503\tTarget \"Motif:RLG_Retand_28930_FL_DL\" 967 1048\n",
      "chr2\t3592439\t3592508\tchr2\t3592439\t3592508\tTarget \"Motif:RLG_Retand_33319_FL_DL\" 3636 3710\n",
      "chr12\t319495018\t319495050\tchr12\t319494856\t319495050\tTarget \"Motif:RLG_Retand_13569_FL_DL\" 296 488\n",
      "chr12\t319495081\t319495113\tchr12\t319495081\t319495245\tTarget \"Motif:RLG_Retand_13569_FL_DL\" 296 462\n",
      "chr4\t8272012\t8272102\tchr4\t8272012\t8272103\tTarget \"Motif:RLG_Retand_28930_FL_DL\" 958 1053\n",
      "chr4\t8272343\t8272412\tchr4\t8272337\t8272412\tTarget \"Motif:RLG_Retand_33319_FL_DL\" 3631 3710\n",
      "chr4\t8272347\t8272424\tchr4\t8272347\t8272424\tTarget \"Motif:RLG_Retand_28930_FL_DL\" 967 1048\n",
      "chr5\t25075860\t25075957\tchr5\t25075855\t25075961\tTarget \"Motif:RLG_Retand_28930_FL_DL\" 955 1061\n",
      "chr5\t58985067\t58985143\tchr5\t58985061\t58985143\tTarget \"Motif:RLG_Retand_33319_FL_DL\" 3625 3710\n",
      "chr5\t58985078\t58985165\tchr5\t58985078\t58985165\tTarget \"Motif:RLG_Retand_28930_FL_DL\" 957 1048\n",
      "chr10\t158910734\t158910827\tchr10\t158910715\t158910827\tTarget \"Motif:rnd-6_family-1092\" 1741 1857\n",
      "chr10\t158910734\t158910827\tchr10\t158910734\t158910843\tTarget \"Motif:RLG_Athila_63879_FL_DLTP\" 4640 4751\n",
      "chr10\t163414839\t163414881\tchr10\t163414695\t163414881\tTarget \"Motif:rnd-4_family-302\" 18 210\n",
      "chr10\t163414881\t163414930\tchr10\t163414881\t163415078\tTarget \"Motif:rnd-4_family-302\" 10 210\n",
      "***** WARNING: File annotation/tes.bed has inconsistent naming convention for record:\n",
      "scaffold_1\t1\t38\tTarget \"Motif:RLG_Athila_108210_FL_DL\" 1 27\n",
      "\n",
      "_____________________________________________________________________\n",
      "***** WARNING: File tesorter_genome/tes_genome.dom.bed has inconsistent naming convention for record:\n",
      "scaffold_1\t88658\t88924\tID=scaffold_1:88658-88924|Class_I/LTR/Ty1_copia/Angela:Ty1-GAG;Name=Angela-GAG;Classification=LTR/Copia/Angela;Target=Class_I/LTR/Ty1_copia/Angela:Ty1-GAG\t0\t+\n",
      "\n",
      "***** WARNING: File tesorter_genome/tes_genome.dom.bed has inconsistent naming convention for record:\n",
      "scaffold_1\t88658\t88924\tID=scaffold_1:88658-88924|Class_I/LTR/Ty1_copia/Angela:Ty1-GAG;Name=Angela-GAG;Classification=LTR/Copia/Angela;Target=Class_I/LTR/Ty1_copia/Angela:Ty1-GAG\t0\t+\n",
      "\n"
     ]
    }
   ],
   "source": [
    "# check if the leaves' precursor actually comes from TEs\n",
    "! bedtools intersect -a <(cut -f 2-4 results/overlaps/leaves_precursos.tsv) -b annotation/tes.bed -wb\n",
    "! echo \"_____________________________________________________________________\"\n",
    "# Now to TEsorter annotation\n",
    "! bedtools intersect -a <(cut -f 2-4 results/overlaps/leaves_precursos.tsv) -b tesorter_genome/tes_genome.dom.bed -wb"
   ]
  },
  {
   "cell_type": "code",
   "execution_count": 128,
   "id": "3c4dd1e4-c607-418d-8538-5f8f1bacc76d",
   "metadata": {
    "tags": []
   },
   "outputs": [
    {
     "name": "stdout",
     "output_type": "stream",
     "text": [
      "Searched 13071 FASTA records.\n",
      "Found 2 IDs out of 2 in the ID list.\n"
     ]
    }
   ],
   "source": [
    "# get the gene sequences of the genes that may be under PTGS to check if they are sex specific\n",
    "! perl -e ' ($id,$fasta)=@ARGV; open(ID,$id); while (<ID>) { s/\\r?\\n//; /^>?(\\S+)/; $ids{$1}++; } $num_ids = keys %ids; open(F, $fasta); $s_read = $s_wrote = $print_it = 0; while (<F>) { if (/^>(\\S+)/) { $s_read++; if ($ids{$1}) { $s_wrote++; $print_it = 1; delete $ids{$1} } else { $print_it = 0 } }; if ($print_it) { print $_ } }; END { warn \"Searched $s_read FASTA records.\\nFound $s_wrote IDs out of $num_ids in the ID list.\\n\" } ' results/overlaps/genes.list annotation/genes.fa > results/overlaps/genes.fa"
   ]
  },
  {
   "cell_type": "code",
   "execution_count": 142,
   "id": "cbe94a43-b555-4041-9643-8269b3b6b088",
   "metadata": {
    "tags": []
   },
   "outputs": [],
   "source": [
    "# Find similar sequences to the genes that have a sRNA with identified precursor\n",
    "! blastn -db annotation/genes.fa -query results/overlaps/genes.fa -num_threads 12 -outfmt 6 -out results/overlaps/genes.blast"
   ]
  },
  {
   "cell_type": "raw",
   "id": "b3ca8b2d-2a2c-488a-8377-2ad802f264b9",
   "metadata": {},
   "source": [
    "########\n",
    "Flowers\n",
    "########\n",
    "\n",
    "Could be putative endoglucanase based on homology analysis including Uniprot (caryophyllaceae), NCBI's angiosperm genes and Non-redundant proteins.\n",
    "It is excreted. The coverage anyway is very small.\n",
    "\n",
    "CPC2 says it's non-coding (p=0.0342475). It anyways has a complete ORF (5786 bp).\n",
    "\n",
    "The arabidopsis homolog (AT1G70710.1) is only expresed in female reproductive tissues (carpel, silique) and seeds. Not expressed anywhere/anywhen else.\n",
    "\n",
    "It has 22 paralogs across the autosomes, but no one was found in Y.\n",
    "Both the sRNA and the gene are female-biased.\n",
    "The gene is DE in flowers but not in leaves. It is also DE in tissues within famales and males. It is female-biased and flower specific.\n",
    "The sRNA is DE (sex-biased) in flowers and leaves but it isn't DE in tissues in both sexes. It means it is sex biased but not tissue-biased.\n",
    "The precursor in not a gene or TE, then is a siRNA.\n",
    "\n",
    "########\n",
    "LEAVES\n",
    "########\n",
    "\n",
    "The gene in leaves is very long (104,813 bp). It corresponds to an Gypsy-Ogre TE. It only matches in 18% to a previously reported Ogre in Silat (KC206272.1)\n",
    "The precursors do come from TEs from all over the genome (some from other TEs) but they are not protein-coding genes. So they are siRNAs. \n",
    "\n",
    "########\n",
    "The gene that shows the contrary overlap (Silat_chr12_Gene.3592) is a membrane cell sugar transporter from the Major Facilitator Superfamily. Related to stress and flower development. \n",
    "It has no other copy in the genome! \n",
    "CPC2 says it's also non-coding (p=0.107455). It has a complete ORF."
   ]
  },
  {
   "cell_type": "code",
   "execution_count": null,
   "id": "87f722ed-cb47-4485-976a-7eedb4e5d337",
   "metadata": {
    "tags": []
   },
   "outputs": [
    {
     "name": "stdout",
     "output_type": "stream",
     "text": [
      "\n",
      "\u001b[36mInput string (upper or lower case); @ to quit\u001b[0m\n",
      "\u001b[1m....,....1....,....2....,....3....,....4....,....5....,....6....,....7....,....8\u001b[0m\n"
     ]
    }
   ],
   "source": [
    "! RNAfold < annotation/inv_rep_full.fa −−outfile[=<filename>]"
   ]
  },
  {
   "cell_type": "markdown",
   "id": "91a88a11-ce6f-4dfa-bc11-1deefcc4dc0d",
   "metadata": {
    "tags": []
   },
   "source": [
    "# <span style=\"color:#f0b27a\"> RdDM"
   ]
  },
  {
   "cell_type": "code",
   "execution_count": 25,
   "id": "e1db3076-1511-4b34-b754-cca4cfc5785c",
   "metadata": {
    "tags": []
   },
   "outputs": [],
   "source": [
    "# Add -+ 5000bp to genes\n",
    "! bedtools slop -i results/differential_expression/sex_biased_flowers_sbge.bed -g chromSizes.txt -b 2000 -s >  results/rddm/sb_long_genes.bed\n",
    "! bedtools slop -i annotation/full_genes.bed -g chromSizes.txt -b 2000 -s >  annotation/long_genes.bed"
   ]
  },
  {
   "cell_type": "code",
   "execution_count": 24,
   "id": "a612c279-c9d1-4dc1-9301-6d6fe3490ddc",
   "metadata": {
    "tags": []
   },
   "outputs": [
    {
     "name": "stdout",
     "output_type": "stream",
     "text": [
      "Cluster_2028_RdDM\tSilat_chr1_Gene.4771\n",
      "Cluster_9316_RdDM\tSilat_chr2_Gene.30622\n",
      "Cluster_10374_RdDM\tSilat_chr3_Gene.37746\n",
      "Cluster_12819_RdDM\tSilat_chr3_Gene.42197\n",
      "Cluster_18293_RdDM\tSilat_chr5_Gene.5379\n",
      "Cluster_23734_RdDM\tSilat_chr7_Gene.21503\n",
      "Cluster_23735_RdDM\tSilat_chr7_Gene.21503\n",
      "Cluster_29947_RdDM\tSilat_chr9_Gene.17911\n",
      "Cluster_30499_RdDM\tSilat_chr9_Gene.46125\n",
      "Cluster_37902_RdDM\tSilat_chr11_Gene.15485\n",
      "Cluster_40701_RdDM\tSilat_chr12_Gene.49048\n",
      "Cluster_40705_RdDM\tSilat_chr12_Gene.49048\n",
      "Cluster_40829_RdDM\tSilat_chr12_Gene.45298\n",
      "Cluster_41057_RdDM\tSilat_chr12_Gene.46166\n",
      "Cluster_41091_RdDM\tSilat_chr12_Gene.14608\n",
      "Cluster_41602_RdDM\tSilat_chr12_Gene.32908\n",
      "Cluster_42879_RdDM\tSilat_chr12_Gene.26394\n",
      "Cluster_43013_RdDM\tSilat_chr12_Gene.25578\n",
      "Cluster_43985_RdDM\tSilat_chr12_Gene.1440\n",
      "Cluster_44141_RdDM\tSilat_chr12_Gene.8361\n",
      "Cluster_44454_RdDM\tSilat_scaffold_1_Gene.21140\n",
      "Cluster_44455_RdDM\tSilat_scaffold_1_Gene.21140\n",
      "Cluster_45098_RdDM\tSilat_scaffold_1_Gene.33918\n",
      "Cluster_45154_RdDM\tSilat_scaffold_1_Gene.11512\n",
      "Cluster_45295_RdDM\tSilat_scaffold_13_Gene.13511\n",
      "__________________________________________________________\n",
      "Cluster_7065_RdDM\tSilat_chr2_Gene.28035\n",
      "Cluster_21419_RdDM\tSilat_chr6_Gene.5327\n",
      "Cluster_30499_RdDM\tSilat_chr9_Gene.46125\n",
      "Cluster_34889_RdDM\tSilat_chr10_Gene.49028\n",
      "Cluster_40498_RdDM\tSilat_chr12_Gene.2070\n",
      "Cluster_40829_RdDM\tSilat_chr12_Gene.45298\n",
      "Cluster_41091_RdDM\tSilat_chr12_Gene.14608\n",
      "Cluster_41098_RdDM\tSilat_chr12_Gene.3592\n",
      "Cluster_41602_RdDM\tSilat_chr12_Gene.32908\n",
      "Cluster_43985_RdDM\tSilat_chr12_Gene.1440\n",
      "Cluster_44454_RdDM\tSilat_scaffold_1_Gene.21140\n",
      "Cluster_44455_RdDM\tSilat_scaffold_1_Gene.21140\n",
      "Cluster_45098_RdDM\tSilat_scaffold_1_Gene.33918\n",
      "Cluster_45154_RdDM\tSilat_scaffold_1_Gene.11512\n",
      "Cluster_45295_RdDM\tSilat_scaffold_13_Gene.13511\n",
      "__________________________________________________________\n"
     ]
    }
   ],
   "source": [
    "# get overlaps\n",
    "\n",
    "# flowers\n",
    "! bedtools intersect -nonamecheck -a <(cut -f 1-4 results/differential_expression/sex_biased_flowers_rddm.bed) -b <(cut -f 1-4 results/rddm/sb_long_genes.bed) -wb | cut -f 4,8\n",
    "! bedtools intersect -nonamecheck -a <(cut -f 1-4 results/differential_expression/sex_biased_flowers_rddm.bed) -b <(cut -f 1-4 results/rddm/sb_long_genes.bed) -wb | cut -f 4,8 > results/rddm/flowers.tsv\n",
    "! echo \"__________________________________________________________\"\n",
    "\n",
    "# leaves\n",
    "# flowers\n",
    "! bedtools intersect -nonamecheck -a <(cut -f 1-4 results/differential_expression/sex_biased_leaves_rddm.bed) -b <(cut -f 1-4 results/rddm/sb_long_genes.bed) -wb | cut -f 4,8\n",
    "! bedtools intersect -nonamecheck -a <(cut -f 1-4 results/differential_expression/sex_biased_leaves_rddm.bed) -b <(cut -f 1-4 results/rddm/sb_long_genes.bed) -wb | cut -f 4,8 > results/rddm/leaves.tsv\n",
    "! echo \"__________________________________________________________\""
   ]
  },
  {
   "cell_type": "code",
   "execution_count": 29,
   "id": "ed512b87-ed92-4147-8462-9bdffd672dec",
   "metadata": {
    "tags": []
   },
   "outputs": [
    {
     "name": "stdout",
     "output_type": "stream",
     "text": [
      "Female-biased Genes with overlapping Female-biased sRNAS\n",
      "5\n",
      "Male-biased Genes with overlapping Female-biased sRNAS\n",
      "6\n",
      "Female-biased Genes with overlapping Male-biased sRNAS\n",
      "1\n",
      "Male-biased Genes with overlapping Male-biased sRNAS\n",
      "10\n",
      "______________________________________\n",
      "UN-biased Genes with overlapping Female-biased sRNAS\n",
      "52\n",
      "UN-biased Genes with overlapping Male-biased sRNAS\n",
      "39\n",
      "Female-biased Genes with overlapping UN-biased sRNAS\n",
      "398\n",
      "Male-biased Genes with overlapping UN-biased sRNAS\n",
      "803\n",
      "UN-biased Genes with overlapping UN-biased sRNAS\n",
      "7030\n",
      "______________________________________\n",
      "Female-biased Genes WITHOUT overlapping sRNAS\n",
      "165\n",
      "Male-biased Genes WITHOUT overlapping sRNAS\n",
      "365\n",
      "______________________________________\n",
      "UN-biased Genes WITHOUT overlapping sRNAS\n",
      "4254\n"
     ]
    }
   ],
   "source": [
    "# create bed of unbiased genes\n",
    "! awk 'FNR==NR{a[$0];next}{if (!($4 in a)){print}}' <(cut -f 4 results/differential_expression/sex_biased_flowers_sbge.bed ) annotation/long_genes.bed | cut -f 1-4 > unbiased.genes.flowers\n",
    "\n",
    "# create RdDM bed file\n",
    "! tail -n +2 raw/only_24_f-y/Results.txt | awk '{print $3 \"\\t\" $4 \"\\t\" $5 \"\\t\" $2 \"_RdDM\" }' > results/rddm/rddm.bed\n",
    "\n",
    "# create list of unbiased clusters\n",
    "! awk 'FNR==NR{a[$0];next}{if (!($4 in a)){print}}' <(cut -f 4 results/differential_expression/sex_biased_flowers_rddm.bed ) results/rddm/rddm.bed | cut -f 1-4 > unbiased.clusters.flowers\n",
    " \n",
    "# calculations\n",
    "! echo \"Female-biased Genes with overlapping Female-biased sRNAS\"\n",
    "! bedtools intersect -nonamecheck -a <(grep \"female-biased\" results/rddm/sb_long_genes.bed | cut -f 1-4 ) -b <(grep \"female-biased\" results/differential_expression/sex_biased_flowers_rddm.bed | cut -f 1-4 ) | cut -f 4 | sort | uniq | wc -l\n",
    "\n",
    "! echo \"Male-biased Genes with overlapping Female-biased sRNAS\"\n",
    "! bedtools intersect -nonamecheck -a <(grep -v \"female-biased\" results/rddm/sb_long_genes.bed | cut -f 1-4 ) -b <(grep \"female-biased\" results/differential_expression/sex_biased_flowers_rddm.bed | cut -f 1-4 ) | cut -f 4 | sort | uniq | wc -l\n",
    "\n",
    "! echo \"Female-biased Genes with overlapping Male-biased sRNAS\"\n",
    "! bedtools intersect -nonamecheck -a <(grep \"female-biased\" results/rddm/sb_long_genes.bed | cut -f 1-4 ) -b <(grep -v \"female-biased\" results/differential_expression/sex_biased_flowers_rddm.bed | cut -f 1-4 ) | cut -f 4 | sort | uniq | wc -l\n",
    "\n",
    "! echo \"Male-biased Genes with overlapping Male-biased sRNAS\"\n",
    "! bedtools intersect -nonamecheck -a <(grep -v \"female-biased\" results/rddm/sb_long_genes.bed | cut -f 1-4 ) -b <(grep -v \"female-biased\" results/differential_expression/sex_biased_flowers_rddm.bed | cut -f 1-4 ) | cut -f 4 | sort | uniq | wc -l\n",
    "\n",
    "# Unbiased genes\n",
    "! echo \"______________________________________\"\n",
    "! echo \"UN-biased Genes with overlapping Female-biased sRNAS\"\n",
    "! bedtools intersect -nonamecheck -a unbiased.genes.flowers -b <(grep \"female-biased\" results/differential_expression/sex_biased_flowers_rddm.bed | cut -f 1-4 ) | cut -f 4 | sort | uniq | wc -l\n",
    "\n",
    "! echo \"UN-biased Genes with overlapping Male-biased sRNAS\"\n",
    "! bedtools intersect -nonamecheck -a unbiased.genes.flowers -b <(grep -v \"female-biased\" results/differential_expression/sex_biased_flowers_rddm.bed | cut -f 1-4 ) | cut -f 4 | sort | uniq | wc -l\n",
    "\n",
    "# Unbiased sRNAs\n",
    "! echo \"Female-biased Genes with overlapping UN-biased sRNAS\"\n",
    "! bedtools intersect -nonamecheck -a <(grep \"female-biased\" results/rddm/sb_long_genes.bed | cut -f 1-4 ) -b unbiased.clusters.flowers | cut -f 4 | sort | uniq | wc -l\n",
    "\n",
    "! echo \"Male-biased Genes with overlapping UN-biased sRNAS\"\n",
    "! bedtools intersect -nonamecheck -a <(grep -v \"female-biased\" results/rddm/sb_long_genes.bed | cut -f 1-4 ) -b unbiased.clusters.flowers | cut -f 4 | sort | uniq | wc -l\n",
    "\n",
    "# Both unbiased\n",
    "! echo \"UN-biased Genes with overlapping UN-biased sRNAS\"\n",
    "! bedtools intersect -nonamecheck -a unbiased.genes.flowers -b unbiased.clusters.flowers | cut -f 4 | sort | uniq | wc -l\n",
    "\n",
    "# Genes without overlappin sRNAs\n",
    "! echo \"______________________________________\"\n",
    "! echo \"Female-biased Genes WITHOUT overlapping sRNAS\"\n",
    "! awk 'FNR==NR{a[$0];next}{if (!($4 in a)){print}}' <(bedtools intersect -nonamecheck -a <(grep \"female-biased\" results/rddm/sb_long_genes.bed | cut -f 1-4 ) -b results/rddm/rddm.bed | cut -f 4 | sort | uniq ) <(grep \"female-biased\" results/rddm/sb_long_genes.bed | cut -f 1-4 ) | cut -f 4 | sort | uniq | wc -l\n",
    "\n",
    "! echo \"Male-biased Genes WITHOUT overlapping sRNAS\"\n",
    "! awk 'FNR==NR{a[$0];next}{if (!($4 in a)){print}}' <(bedtools intersect -nonamecheck -a <(grep -v \"female-biased\" results/rddm/sb_long_genes.bed | cut -f 1-4 ) -b results/rddm/rddm.bed | cut -f 4 | sort | uniq ) <(grep -v \"female-biased\" results/rddm/sb_long_genes.bed | cut -f 1-4 ) | cut -f 4 | sort | uniq | wc -l\n",
    "\n",
    "# No overlap and no sex bias\n",
    "! echo \"______________________________________\"\n",
    "! echo \"UN-biased Genes WITHOUT overlapping sRNAS\"\n",
    "! awk 'FNR==NR{a[$0];next}{if (!($4 in a)){print}}' <(bedtools intersect -nonamecheck -a unbiased.genes.flowers -b results/rddm/rddm.bed | cut -f 4 | sort | uniq ) unbiased.genes.flowers | cut -f 4 | sort | uniq | wc -l\n",
    "\n",
    "! rm unbiased*"
   ]
  }
 ],
 "metadata": {
  "kernelspec": {
   "display_name": "Python 3 (ipykernel)",
   "language": "python",
   "name": "python3"
  },
  "language_info": {
   "codemirror_mode": {
    "name": "ipython",
    "version": 3
   },
   "file_extension": ".py",
   "mimetype": "text/x-python",
   "name": "python",
   "nbconvert_exporter": "python",
   "pygments_lexer": "ipython3",
   "version": "3.10.0"
  }
 },
 "nbformat": 4,
 "nbformat_minor": 5
}
